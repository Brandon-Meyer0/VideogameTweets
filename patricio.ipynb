{
 "cells": [
  {
   "cell_type": "markdown",
   "metadata": {},
   "source": [
    "# Twitter Sentiment Analysis\n",
    "### Importing Libraries - Load Databases"
   ]
  },
  {
   "cell_type": "code",
   "execution_count": 1,
   "metadata": {},
   "outputs": [],
   "source": [
    "import pandas as pd\n",
    "import numpy as np\n",
    "import nltk\n",
    "from nltk.collocations import *\n",
    "from nltk import FreqDist\n",
    "from nltk import word_tokenize\n",
    "from nltk.tokenize import RegexpTokenizer\n",
    "from nltk.corpus import stopwords\n",
    "from nltk.stem.wordnet import WordNetLemmatizer\n",
    "from nltk.stem import PorterStemmer\n",
    "from collections import Counter\n",
    "from collections import defaultdict\n",
    "import string\n",
    "import itertools as it\n",
    "import emoji\n",
    "import re\n",
    "import spacy\n",
    "import fileinput\n",
    "import seaborn as sns\n",
    "import matplotlib.pyplot as plt\n",
    "\n",
    "from sklearn import metrics\n",
    "from sklearn.metrics import confusion_matrix,roc_auc_score,classification_report\n",
    "\n",
    "from sklearn.linear_model import LogisticRegression\n",
    "from sklearn.tree import DecisionTreeClassifier\n",
    "from sklearn.naive_bayes import MultinomialNB\n",
    "\n",
    "%matplotlib inline"
   ]
  },
  {
   "cell_type": "code",
   "execution_count": 2,
   "metadata": {},
   "outputs": [],
   "source": [
    "twitter_training = pd.read_csv('twitter_training.csv', sep=',', names=['Tweet ID','Entity','Sentiment','Tweet_content'])\n",
    "twitter_validation = pd.read_csv('twitter_validation.csv', sep=',', names=['Tweet ID','Entity','Sentiment','Tweet_content'])"
   ]
  },
  {
   "cell_type": "code",
   "execution_count": 3,
   "metadata": {},
   "outputs": [],
   "source": [
    "twitter_training[\"Tweet ID\"] = range(1, len(twitter_training) + 1)\n",
    "twitter_validation[\"Tweet ID\"] = range(1, len(twitter_validation) + 1)"
   ]
  },
  {
   "cell_type": "markdown",
   "metadata": {},
   "source": [
    "## - Exploration Data Analysis of each dataset"
   ]
  },
  {
   "cell_type": "code",
   "execution_count": 4,
   "metadata": {},
   "outputs": [
    {
     "data": {
      "text/html": [
       "<div>\n",
       "<style scoped>\n",
       "    .dataframe tbody tr th:only-of-type {\n",
       "        vertical-align: middle;\n",
       "    }\n",
       "\n",
       "    .dataframe tbody tr th {\n",
       "        vertical-align: top;\n",
       "    }\n",
       "\n",
       "    .dataframe thead th {\n",
       "        text-align: right;\n",
       "    }\n",
       "</style>\n",
       "<table border=\"1\" class=\"dataframe\">\n",
       "  <thead>\n",
       "    <tr style=\"text-align: right;\">\n",
       "      <th></th>\n",
       "      <th>Tweet ID</th>\n",
       "      <th>Entity</th>\n",
       "      <th>Sentiment</th>\n",
       "      <th>Tweet_content</th>\n",
       "    </tr>\n",
       "  </thead>\n",
       "  <tbody>\n",
       "    <tr>\n",
       "      <th>0</th>\n",
       "      <td>1</td>\n",
       "      <td>Borderlands</td>\n",
       "      <td>Positive</td>\n",
       "      <td>im getting on borderlands and i will murder yo...</td>\n",
       "    </tr>\n",
       "    <tr>\n",
       "      <th>1</th>\n",
       "      <td>2</td>\n",
       "      <td>Borderlands</td>\n",
       "      <td>Positive</td>\n",
       "      <td>I am coming to the borders and I will kill you...</td>\n",
       "    </tr>\n",
       "    <tr>\n",
       "      <th>2</th>\n",
       "      <td>3</td>\n",
       "      <td>Borderlands</td>\n",
       "      <td>Positive</td>\n",
       "      <td>im getting on borderlands and i will kill you ...</td>\n",
       "    </tr>\n",
       "  </tbody>\n",
       "</table>\n",
       "</div>"
      ],
      "text/plain": [
       "   Tweet ID       Entity Sentiment  \\\n",
       "0         1  Borderlands  Positive   \n",
       "1         2  Borderlands  Positive   \n",
       "2         3  Borderlands  Positive   \n",
       "\n",
       "                                       Tweet_content  \n",
       "0  im getting on borderlands and i will murder yo...  \n",
       "1  I am coming to the borders and I will kill you...  \n",
       "2  im getting on borderlands and i will kill you ...  "
      ]
     },
     "execution_count": 4,
     "metadata": {},
     "output_type": "execute_result"
    }
   ],
   "source": [
    "twitter_training.head(3)"
   ]
  },
  {
   "cell_type": "code",
   "execution_count": 5,
   "metadata": {},
   "outputs": [
    {
     "data": {
      "text/html": [
       "<div>\n",
       "<style scoped>\n",
       "    .dataframe tbody tr th:only-of-type {\n",
       "        vertical-align: middle;\n",
       "    }\n",
       "\n",
       "    .dataframe tbody tr th {\n",
       "        vertical-align: top;\n",
       "    }\n",
       "\n",
       "    .dataframe thead th {\n",
       "        text-align: right;\n",
       "    }\n",
       "</style>\n",
       "<table border=\"1\" class=\"dataframe\">\n",
       "  <thead>\n",
       "    <tr style=\"text-align: right;\">\n",
       "      <th></th>\n",
       "      <th>Tweet ID</th>\n",
       "      <th>Entity</th>\n",
       "      <th>Sentiment</th>\n",
       "      <th>Tweet_content</th>\n",
       "    </tr>\n",
       "  </thead>\n",
       "  <tbody>\n",
       "    <tr>\n",
       "      <th>74679</th>\n",
       "      <td>74680</td>\n",
       "      <td>Nvidia</td>\n",
       "      <td>Positive</td>\n",
       "      <td>Just realized the windows partition of my Mac ...</td>\n",
       "    </tr>\n",
       "    <tr>\n",
       "      <th>74680</th>\n",
       "      <td>74681</td>\n",
       "      <td>Nvidia</td>\n",
       "      <td>Positive</td>\n",
       "      <td>Just realized between the windows partition of...</td>\n",
       "    </tr>\n",
       "    <tr>\n",
       "      <th>74681</th>\n",
       "      <td>74682</td>\n",
       "      <td>Nvidia</td>\n",
       "      <td>Positive</td>\n",
       "      <td>Just like the windows partition of my Mac is l...</td>\n",
       "    </tr>\n",
       "  </tbody>\n",
       "</table>\n",
       "</div>"
      ],
      "text/plain": [
       "       Tweet ID  Entity Sentiment  \\\n",
       "74679     74680  Nvidia  Positive   \n",
       "74680     74681  Nvidia  Positive   \n",
       "74681     74682  Nvidia  Positive   \n",
       "\n",
       "                                           Tweet_content  \n",
       "74679  Just realized the windows partition of my Mac ...  \n",
       "74680  Just realized between the windows partition of...  \n",
       "74681  Just like the windows partition of my Mac is l...  "
      ]
     },
     "execution_count": 5,
     "metadata": {},
     "output_type": "execute_result"
    }
   ],
   "source": [
    "twitter_training.tail(3)"
   ]
  },
  {
   "cell_type": "code",
   "execution_count": 6,
   "metadata": {},
   "outputs": [
    {
     "data": {
      "text/html": [
       "<div>\n",
       "<style scoped>\n",
       "    .dataframe tbody tr th:only-of-type {\n",
       "        vertical-align: middle;\n",
       "    }\n",
       "\n",
       "    .dataframe tbody tr th {\n",
       "        vertical-align: top;\n",
       "    }\n",
       "\n",
       "    .dataframe thead th {\n",
       "        text-align: right;\n",
       "    }\n",
       "</style>\n",
       "<table border=\"1\" class=\"dataframe\">\n",
       "  <thead>\n",
       "    <tr style=\"text-align: right;\">\n",
       "      <th></th>\n",
       "      <th>Tweet ID</th>\n",
       "      <th>Entity</th>\n",
       "      <th>Sentiment</th>\n",
       "      <th>Tweet_content</th>\n",
       "    </tr>\n",
       "  </thead>\n",
       "  <tbody>\n",
       "    <tr>\n",
       "      <th>0</th>\n",
       "      <td>1</td>\n",
       "      <td>Facebook</td>\n",
       "      <td>Irrelevant</td>\n",
       "      <td>I mentioned on Facebook that I was struggling ...</td>\n",
       "    </tr>\n",
       "    <tr>\n",
       "      <th>1</th>\n",
       "      <td>2</td>\n",
       "      <td>Amazon</td>\n",
       "      <td>Neutral</td>\n",
       "      <td>BBC News - Amazon boss Jeff Bezos rejects clai...</td>\n",
       "    </tr>\n",
       "    <tr>\n",
       "      <th>2</th>\n",
       "      <td>3</td>\n",
       "      <td>Microsoft</td>\n",
       "      <td>Negative</td>\n",
       "      <td>@Microsoft Why do I pay for WORD when it funct...</td>\n",
       "    </tr>\n",
       "  </tbody>\n",
       "</table>\n",
       "</div>"
      ],
      "text/plain": [
       "   Tweet ID     Entity   Sentiment  \\\n",
       "0         1   Facebook  Irrelevant   \n",
       "1         2     Amazon     Neutral   \n",
       "2         3  Microsoft    Negative   \n",
       "\n",
       "                                       Tweet_content  \n",
       "0  I mentioned on Facebook that I was struggling ...  \n",
       "1  BBC News - Amazon boss Jeff Bezos rejects clai...  \n",
       "2  @Microsoft Why do I pay for WORD when it funct...  "
      ]
     },
     "execution_count": 6,
     "metadata": {},
     "output_type": "execute_result"
    }
   ],
   "source": [
    "twitter_validation.head(3)"
   ]
  },
  {
   "cell_type": "code",
   "execution_count": 7,
   "metadata": {},
   "outputs": [
    {
     "data": {
      "text/html": [
       "<div>\n",
       "<style scoped>\n",
       "    .dataframe tbody tr th:only-of-type {\n",
       "        vertical-align: middle;\n",
       "    }\n",
       "\n",
       "    .dataframe tbody tr th {\n",
       "        vertical-align: top;\n",
       "    }\n",
       "\n",
       "    .dataframe thead th {\n",
       "        text-align: right;\n",
       "    }\n",
       "</style>\n",
       "<table border=\"1\" class=\"dataframe\">\n",
       "  <thead>\n",
       "    <tr style=\"text-align: right;\">\n",
       "      <th></th>\n",
       "      <th>Tweet ID</th>\n",
       "      <th>Entity</th>\n",
       "      <th>Sentiment</th>\n",
       "      <th>Tweet_content</th>\n",
       "    </tr>\n",
       "  </thead>\n",
       "  <tbody>\n",
       "    <tr>\n",
       "      <th>997</th>\n",
       "      <td>998</td>\n",
       "      <td>Borderlands</td>\n",
       "      <td>Positive</td>\n",
       "      <td>Today sucked so it’s time to drink wine n play...</td>\n",
       "    </tr>\n",
       "    <tr>\n",
       "      <th>998</th>\n",
       "      <td>999</td>\n",
       "      <td>Microsoft</td>\n",
       "      <td>Positive</td>\n",
       "      <td>Bought a fraction of Microsoft today. Small wins.</td>\n",
       "    </tr>\n",
       "    <tr>\n",
       "      <th>999</th>\n",
       "      <td>1000</td>\n",
       "      <td>johnson&amp;johnson</td>\n",
       "      <td>Neutral</td>\n",
       "      <td>Johnson &amp; Johnson to stop selling talc baby po...</td>\n",
       "    </tr>\n",
       "  </tbody>\n",
       "</table>\n",
       "</div>"
      ],
      "text/plain": [
       "     Tweet ID           Entity Sentiment  \\\n",
       "997       998      Borderlands  Positive   \n",
       "998       999        Microsoft  Positive   \n",
       "999      1000  johnson&johnson   Neutral   \n",
       "\n",
       "                                         Tweet_content  \n",
       "997  Today sucked so it’s time to drink wine n play...  \n",
       "998  Bought a fraction of Microsoft today. Small wins.  \n",
       "999  Johnson & Johnson to stop selling talc baby po...  "
      ]
     },
     "execution_count": 7,
     "metadata": {},
     "output_type": "execute_result"
    }
   ],
   "source": [
    "twitter_validation.tail(3)"
   ]
  },
  {
   "cell_type": "code",
   "execution_count": 8,
   "metadata": {},
   "outputs": [],
   "source": [
    "# remove dupicate and nan values\n",
    "twitter_training.dropna(inplace=True)\n",
    "twitter_training.drop_duplicates(inplace=True)"
   ]
  },
  {
   "cell_type": "code",
   "execution_count": 9,
   "metadata": {},
   "outputs": [
    {
     "name": "stdout",
     "output_type": "stream",
     "text": [
      "<class 'pandas.core.frame.DataFrame'>\n",
      "Int64Index: 73996 entries, 0 to 74681\n",
      "Data columns (total 4 columns):\n",
      " #   Column         Non-Null Count  Dtype \n",
      "---  ------         --------------  ----- \n",
      " 0   Tweet ID       73996 non-null  int32 \n",
      " 1   Entity         73996 non-null  object\n",
      " 2   Sentiment      73996 non-null  object\n",
      " 3   Tweet_content  73996 non-null  object\n",
      "dtypes: int32(1), object(3)\n",
      "memory usage: 2.5+ MB\n"
     ]
    }
   ],
   "source": [
    "twitter_training.info()"
   ]
  },
  {
   "cell_type": "code",
   "execution_count": 10,
   "metadata": {},
   "outputs": [
    {
     "name": "stdout",
     "output_type": "stream",
     "text": [
      "<class 'pandas.core.frame.DataFrame'>\n",
      "RangeIndex: 1000 entries, 0 to 999\n",
      "Data columns (total 4 columns):\n",
      " #   Column         Non-Null Count  Dtype \n",
      "---  ------         --------------  ----- \n",
      " 0   Tweet ID       1000 non-null   int32 \n",
      " 1   Entity         1000 non-null   object\n",
      " 2   Sentiment      1000 non-null   object\n",
      " 3   Tweet_content  1000 non-null   object\n",
      "dtypes: int32(1), object(3)\n",
      "memory usage: 27.5+ KB\n"
     ]
    }
   ],
   "source": [
    "twitter_validation.info()"
   ]
  },
  {
   "cell_type": "markdown",
   "metadata": {},
   "source": [
    "## - Finding Emojis in Dataframe"
   ]
  },
  {
   "cell_type": "code",
   "execution_count": 11,
   "metadata": {},
   "outputs": [
    {
     "name": "stdout",
     "output_type": "stream",
     "text": [
      "defaultdict(<class 'int'>, {'’': 9342, '‼': 27, '–': 213, '⃣': 55, '…': 3632, '•': 322, '′': 53, '“': 746, '”': 724, '‘': 231, '\\u200d': 243, '—': 146, '″': 20, '→': 60, '₹': 5, '€': 30, '−': 7, '†': 12, '™': 34, '‡': 2, '🙂': 4, '⌚': 4, '‖': 8, '←': 1, '�': 9, '\\u2060': 14, '„': 8, '）': 1, 'ℐ': 2, 'ℓ': 2, '√': 5, '■': 1, '\\u2066': 37, '\\u2069': 37, '，': 1, '。': 3, '≧': 2, '∇': 2, '≦': 2, '↑': 1, '\\u200b': 9, '⁴': 1, '：': 2, '※': 2, '・': 1, '⏬': 2, '⇒': 3, '⇐': 1, '●': 1, '★': 1, '（': 1, '\\u2063': 10, '⁄': 2, '₂': 2, '‚': 1, '⏳': 2})\n",
      "defaultdict(<class 'int'>, {'’': 213, '‘': 9, '…': 140, '🙄': 1, '😆': 3, '🔥': 19, '😭': 18, '😍': 15, '😀': 1, '😳': 1, '👌': 1, '👏': 1, '😅': 5, '💛': 2, '☺': 3, '️': 41, '💙': 2, '🙌': 2, '“': 14, '”': 13, '💪': 5, '🏾': 6, '👍': 15, '🏆': 1, '😠': 1, '⚡': 1, '👀': 6, '🙏': 2, '❤': 15, '😒': 4, '🇳': 1, '🇬': 1, '💚': 7, '😩': 3, '👊': 3, '♥': 4, '😔': 3, '✊': 2, '–': 2, '\\u200d': 9, '♂': 8, '😊': 2, '\\u2066': 2, '\\u2069': 2, '🌄': 1, '👇': 1, '💯': 2, '😡': 1, '☠': 6, '—': 5, '→': 2, '⃣': 13, '🚀': 2, '😂': 26, '🐺': 1, '🙃': 2, '💔': 2, '🏻': 8, '⭐': 2, '💥': 1, '🗣': 1, '👉': 5, '🌹': 1, '😻': 4, '🏠': 1, '😌': 4, '❌': 1, '👈': 4, '💀': 1, '✨': 2, '☘': 1, '😶': 1, '😐': 1, '🏽': 2, '😈': 1, 'よ': 1, 'り': 1, '🎥': 2, '🐉': 1, '💕': 2, '😎': 1, '📰': 1, '‼': 1, '😄': 1, '❗': 1, '🚨': 1, '✈': 1, '😝': 1, '📵': 1, '🚓': 1, '👨': 1, '💻': 1, '✌': 3, '😁': 1, '🎂': 1, '📚': 1, '🎉': 3, '🌟': 1, '★': 1, '💖': 1, '🎯': 3, '😏': 1, '🖕': 5, '🔗': 1, '😤': 1, '𝐍': 1, '𝐄': 2, '𝐖': 1, '𝐒': 2, '𝐔': 1, '𝐏': 1, '𝐃': 1, '𝐀': 1, '𝐓': 1, '😫': 2, '🐵': 1, '🕵': 1, '😖': 1, '😘': 1, '\\u2060': 1, '•': 5, '😢': 2, '🙈': 1, '⚠': 1})\n"
     ]
    }
   ],
   "source": [
    "# Find emojis in whole dataframe training set\n",
    "\n",
    "# Dictionary storing emoji counts \n",
    "emoji_training_count = defaultdict(int)\n",
    "for i in twitter_training['Tweet_content']:\n",
    "    for emoji in re.findall(u'[\\U0001f300-\\U0001f650]|[\\u2000-\\u3000]|[\\U0001F600-\\U0001F64F]|[\\U0001F300-\\U0001F5FF]|[\\U0001F680-\\U0001F6FF]|[\\U0001F1E0-\\U0001F1FF]|[\\U00002702-\\U000027B0]|[\\U000024C2-\\U0001F251]', i):\n",
    "        emoji_training_count[emoji] += 1\n",
    "    \n",
    "# Find emojis in whole dataframe validation set\n",
    "\n",
    "emoji_validation_count = defaultdict(int)\n",
    "for i in twitter_validation['Tweet_content']:\n",
    "    for emoji in re.findall(u'[\\U0001f300-\\U0001f650]|[\\u2000-\\u3000]|[\\U0001F600-\\U0001F64F]|[\\U0001F300-\\U0001F5FF]|[\\U0001F680-\\U0001F6FF]|[\\U0001F1E0-\\U0001F1FF]|[\\U00002702-\\U000027B0]|[\\U000024C2-\\U0001F251]', i):\n",
    "        emoji_validation_count[emoji] += 1\n",
    "    \n",
    "print(emoji_training_count)\n",
    "print(emoji_validation_count)\n",
    "#- is there another way to find these emojis... what if we didn't find them all?"
   ]
  },
  {
   "cell_type": "code",
   "execution_count": 12,
   "metadata": {},
   "outputs": [],
   "source": [
    "#remove urls & special characters\n",
    "def remove_urls(text):\n",
    "    \"\"\"Berilgan matndan URL larini o'chiradi\"\"\"\n",
    "    url_pattern = re.compile(r'https?://\\S+|www\\.\\S+')\n",
    "    return url_pattern.sub(r'', text)\n",
    "\n",
    "def remove_emojis(text):\n",
    "    \"\"\"Berilgan matndan emojilarni o'chiradi\"\"\"\n",
    "    emoji_pattern = re.compile(\"[\"\n",
    "                               u\"\\U0001F600-\\U0001F64F\"  # emojilar\n",
    "                               u\"\\U0001F300-\\U0001F5FF\"  # simvollar va diagrammalar\n",
    "                               u\"\\U0001F680-\\U0001F6FF\"  # transport va turli joylar\n",
    "                               u\"\\U0001F1E0-\\U0001F1FF\"  # davlat bayroqlari\n",
    "                               u\"\\U00002702-\\U000027B0\"  # dingbats\n",
    "                               u\"\\U000024C2-\\U0001F251\"  # alamatchilik belgilari\n",
    "                               u\"\\U0001f300-\\U0001f650\"  \n",
    "                               u\"\\u2000-\\u3000\" \n",
    "                               \"]+\", flags=re.UNICODE)\n",
    "    return emoji_pattern.sub(r'', text)\n",
    "#def remove_and,or,a,the..."
   ]
  },
  {
   "cell_type": "code",
   "execution_count": 13,
   "metadata": {},
   "outputs": [],
   "source": [
    "twitter_training['Tweet_content'] = twitter_training['Tweet_content'].apply(lambda x: remove_emojis(x))\n",
    "twitter_training['Tweet_content'] = twitter_training['Tweet_content'].apply(lambda x: remove_urls(x))\n",
    "\n",
    "twitter_validation['Tweet_content'] = twitter_validation['Tweet_content'].apply(lambda x: remove_emojis(x))\n",
    "twitter_validation['Tweet_content'] = twitter_validation['Tweet_content'].apply(lambda x: remove_urls(x))"
   ]
  },
  {
   "cell_type": "code",
   "execution_count": 14,
   "metadata": {},
   "outputs": [
    {
     "name": "stdout",
     "output_type": "stream",
     "text": [
      "defaultdict(<class 'int'>, {})\n",
      "defaultdict(<class 'int'>, {})\n"
     ]
    }
   ],
   "source": [
    "# Testing we indeed removed the emojis:\n",
    "\n",
    "emoji_count_t = defaultdict(int)\n",
    "for i in twitter_training['Tweet_content']:\n",
    "    for emoji in re.findall(u'[\\U0001f300-\\U0001f650]|[\\u2000-\\u3000]', i):\n",
    "        emoji_count_t[emoji] += 1\n",
    "\n",
    "emoji_count_v = defaultdict(int)\n",
    "for i in twitter_validation['Tweet_content']:\n",
    "    for emoji in re.findall(u'[\\U0001f300-\\U0001f650]|[\\u2000-\\u3000]', i):\n",
    "        emoji_count_v[emoji] += 1\n",
    "\n",
    "print(emoji_count_t)\n",
    "print(emoji_count_v)"
   ]
  },
  {
   "cell_type": "code",
   "execution_count": 15,
   "metadata": {},
   "outputs": [
    {
     "name": "stdout",
     "output_type": "stream",
     "text": [
      "{'Negative', 'Positive', 'Neutral'}\n"
     ]
    }
   ],
   "source": [
    "for col in twitter_training:\n",
    "    twitter_training.loc[twitter_training['Sentiment'] == 'Irrelevant', 'Sentiment'] = 'Neutral'\n",
    "\n",
    "for col in twitter_validation:\n",
    "    twitter_validation.loc[twitter_validation['Sentiment'] == 'Irrelevant', 'Sentiment'] = 'Neutral'\n",
    "print(set(twitter_validation['Sentiment']))"
   ]
  },
  {
   "cell_type": "code",
   "execution_count": 16,
   "metadata": {},
   "outputs": [],
   "source": [
    "#Count information per category\n",
    "\n",
    "twitter_training['text_lens']=twitter_training['Tweet_content'].apply(lambda x: len(x))\n",
    "twitter_validation['text_lens']=twitter_validation['Tweet_content'].apply(lambda x: len(x))\n",
    "\n",
    "data_training_viz = twitter_training.groupby(by=[\"Entity\",\"Sentiment\"]).count().reset_index()\n",
    "data_validation_viz = twitter_validation.groupby(by=[\"Entity\",\"Sentiment\"]).count().reset_index()\n",
    "#data1.head()"
   ]
  },
  {
   "cell_type": "code",
   "execution_count": 17,
   "metadata": {},
   "outputs": [
    {
     "data": {
      "image/png": "[encoded data removed]",
      "text/plain": [
       "<Figure size 1440x432 with 1 Axes>"
      ]
     },
     "metadata": {
      "needs_background": "light"
     },
     "output_type": "display_data"
    }
   ],
   "source": [
    "#Figure of comparison per branch\n",
    "plt.figure(figsize=(20,6))\n",
    "sns.barplot(data=data_training_viz,x=\"Entity\", y=\"Tweet ID\", hue='Sentiment')\n",
    "plt.xticks(rotation=90)\n",
    "plt.xlabel(\"Brand\")\n",
    "plt.ylabel(\"Number of tweets\")\n",
    "plt.grid()\n",
    "plt.title(\"Distribution of tweets per Branch and Type: Training set\")\n",
    "plt.show()"
   ]
  },
  {
   "cell_type": "code",
   "execution_count": 18,
   "metadata": {},
   "outputs": [
    {
     "data": {
      "image/png": "[encoded data removed]",
      "text/plain": [
       "<Figure size 1440x432 with 1 Axes>"
      ]
     },
     "metadata": {
      "needs_background": "light"
     },
     "output_type": "display_data"
    }
   ],
   "source": [
    "plt.figure(figsize=(20,6))\n",
    "sns.barplot(data=data_validation_viz,x=\"Entity\", y=\"Tweet ID\", hue='Sentiment')\n",
    "plt.xticks(rotation=90)\n",
    "plt.xlabel(\"Brand\")\n",
    "plt.ylabel(\"Number of tweets\")\n",
    "plt.grid()\n",
    "plt.title(\"Distribution of tweets per Branch and Type: Validation set\")\n",
    "plt.show()"
   ]
  },
  {
   "cell_type": "markdown",
   "metadata": {},
   "source": [
    "## - Data Cleaning / Preprocessing for Medeling"
   ]
  },
  {
   "cell_type": "markdown",
   "metadata": {},
   "source": [
    "#### 1.- Entity Recognition"
   ]
  },
  {
   "cell_type": "code",
   "execution_count": 19,
   "metadata": {},
   "outputs": [
    {
     "name": "stdout",
     "output_type": "stream",
     "text": [
      "['Xbox(Xseries)', 'Overwatch', 'Dota2', 'AssassinsCreed', 'ApexLegends', 'Microsoft', 'Facebook', 'NBA2K', 'Cyberpunk2077', 'PlayStation5(PS5)', 'Google', 'Fortnite', 'PlayerUnknownsBattlegrounds(PUBG)', 'CallOfDutyBlackopsColdWar', 'Borderlands', 'Hearthstone', 'FIFA', 'CallOfDuty', 'GrandTheftAuto(GTA)', 'Battlefield', 'TomClancysRainbowSix', 'WorldOfCraft', 'HomeDepot', 'RedDeadRedemption(RDR)', 'johnson&johnson', 'MaddenNFL', 'LeagueOfLegends', 'Verizon', 'TomClancysGhostRecon', 'Amazon', 'Nvidia', 'CS-GO']\n"
     ]
    }
   ],
   "source": [
    "Entities_training = list(set(twitter_training['Entity']))\n",
    "print(Entities_training)\n",
    "#Entities_validation = list(set(twitter_validation['Entity']))\n",
    "#print(Entities_validation)"
   ]
  },
  {
   "cell_type": "code",
   "execution_count": 20,
   "metadata": {},
   "outputs": [],
   "source": [
    "#Creating our entity dictionary:\n",
    "entity_dict = { \n",
    "                \"RedDeadRedemption\" : ['reddeadredemption', 'red dead redemption', 'red dead', 'rdr'], \n",
    "                \"Microsoft\": ['microsoft'],\n",
    "                \"Xbox\":['xboxseriesx', 'xboxseriess', 'xboxone', 'xbox series x', 'xbox series s', 'xbox one', 'xseries', 'xbox'], \n",
    "                \"AssassinsCreed\": ['assassinscreed', 'assassins creed valhalla', 'assassins creed odyssey', 'assassins creed origins', 'assassins creed syndicate', 'assassins creed'], \n",
    "                \"CallOfDutyBlackopsColdWar\": ['callofdutyblackopscoldwar', 'codblackopscoldwar', 'blackopscoldwar', 'callofdutyblackops', 'codblackops', 'blackops', 'call of duty black ops cold war', 'cod black ops cold war', 'call of duty black ops', 'cod black ops', 'black ops cold war', 'black ops', 'cold war'],\n",
    "                \"FIFA\": ['fifa22', 'fifa21', 'fifa20', 'fifa19', 'fifa18', 'fifa 22', 'fifa 21', 'fifa 20', 'fifa 19', 'fifa'],\n",
    "                \"TomClancysGhostRecon\": ['tomclancysghostrecon', 'tomclancys', 'ghostrecon', 'tom clancys ghost recon', 'tom clancys', 'ghost recon'],\n",
    "                \"Google\": ['google'],\n",
    "                \"PlayStation\": ['playstation', 'storeplaystation','playstation store', 'ps5', 'ps4', 'ps3', 'PS'],\n",
    "                \"Facebook\": ['facebook'],\n",
    "                \"GrandTheftAuto\": ['grandtheftautov', 'grandtheftauto5', 'grandtheftauto', 'grand theft auto v', 'grand theft auto 5', 'grand theft auto', 'gtav', 'gta v' , 'gta'],\n",
    "                \"PlayerUnknownsBattlegrounds\": ['playerunknownsbattlegrounds', 'player unknowns battlegrounds', 'pubg'],\n",
    "                \"Hearthstone\": ['hearthstone'],\n",
    "                \"MaddenNFL\": ['maddengame', 'madden'],\n",
    "                \"CallOfDuty\": ['modernwarfare', 'callofduty', 'modern warfare' ,'call of duty', 'cod'],\n",
    "                \"Fortnite\": ['fortnitegame', 'fortnite'],\n",
    "                \"Verizon\": ['verizon'],\n",
    "                \"Nvidia\": ['nvidia'],\n",
    "                \"Amazon\": ['amazonplay', 'amazon', 'amazon play'],\n",
    "                \"WorldOfCraft\": ['worldofwarcraft', 'world of warcraft', 'wow'],\n",
    "                \"ApexLegends\": ['apexlegends', 'apex legends', 'apex'],\n",
    "                \"CS-GO\": ['counterstrike', 'counter strike', 'csgo', 'cs go'],\n",
    "                \"johnson&johnson\": ['johnson&johnson', 'johnson & johnson', 'johnsonjohnson'],\n",
    "                \"HomeDepot\": ['homedepot', 'home depot'],\n",
    "                \"NBA2K\": ['nba'],\n",
    "                \"Overwatch\": ['overwatch'],\n",
    "                \"LeagueOfLegends\": ['leagueoflegends', 'league of legends', 'lol'],\n",
    "                \"Borderlands\": ['borderlands1', 'borderlands2', 'borderlands3', 'borderlans 1', 'borerlands 2', 'borderlands 3', 'borderlands'],\n",
    "                \"TomClancysRainbowSix\": ['rainbowsixsiege', 'rainbowsix', 'rainbow six siege', 'rainbow six', 'rainbow'],\n",
    "                \"Dota\": ['dota'],\n",
    "                \"Battlefield\": ['battlefieldv', 'battlefield5', 'battlefield1', 'battlefield v', 'battlefield 5', 'battlefield 1', 'battlefield'],\n",
    "                \"Cyberpunk2077\": ['cyberpunkgame', 'cyberpunk2077', 'cyberpunk'],\n",
    "                \"NintendoSwitch\": ['nintendoswitch', 'nintendo switch', 'nintendo'],\n",
    "                \"Windows\": ['windows', 'window']\n",
    "              }\n",
    "#Note: What about diferent games of the same saga like: COD black ops/modern warfare/cold war... what should we do?  (Check: )"
   ]
  },
  {
   "cell_type": "code",
   "execution_count": 21,
   "metadata": {},
   "outputs": [],
   "source": [
    "comment = \"on Borderlands 1 I will murder all on Xbox the console of microsoft, is like RDR or Assassin's-creed...\"\n",
    "#comment = \"I love assassinscreedvalhalla\"\n",
    "#comment = twitter_training[\"Tweet_content\"][292]\n",
    "\n",
    "comment = re.sub(r\"[^a-zA-Z0-9 ]\", \"\", comment) #Remove apostrophes, comas, ... \n",
    "#print(comment)\n",
    "comment = ' '.join([word for word in comment.split()]) #Remove whitespaces\n",
    "#print(comment.lower())"
   ]
  },
  {
   "cell_type": "code",
   "execution_count": 22,
   "metadata": {},
   "outputs": [
    {
     "name": "stdout",
     "output_type": "stream",
     "text": [
      "on 1 i will murder all on the console of is like or\n"
     ]
    }
   ],
   "source": [
    "#Removing entities function\n",
    "\n",
    "def remove_entities_list(text):\n",
    "    text = re.sub(r\"[^a-zA-Z0-9 ]\", \"\", text)\n",
    "    text = ' '.join([word for word in text.split()])\n",
    "    text = text.lower()\n",
    "    for entity_names in entity_dict:\n",
    "        for game_names in entity_dict[entity_names]:\n",
    "            if game_names.lower() in text:\n",
    "                #print(game_names)\n",
    "                text = text.replace(game_names, '')\n",
    "                #print(text)\n",
    "    text = ' '.join([word for word in text.split()])\n",
    "    return text\n",
    "\n",
    "print(remove_entities_list(comment))"
   ]
  },
  {
   "cell_type": "code",
   "execution_count": 23,
   "metadata": {},
   "outputs": [
    {
     "name": "stdout",
     "output_type": "stream",
     "text": [
      " . I played this interesting Quiz on Amazon-Play games at Amazon FunZone . It's very easy to play try your luck for exciting rewards. Please download the Amazon app from Google Play Store amazon.in/game/share/gL9. I am eligible for win prize.....\n",
      "\n",
      "i played this interesting quiz on games at funzone its very easy to play try your luck for exciting rewards please download the app from play store ingamesharegl9 i am eligible for win prize\n"
     ]
    }
   ],
   "source": [
    "#Before removing entities\n",
    "print(f'{twitter_training[\"Tweet_content\"][24432]}\\n')\n",
    "\n",
    "#After removing entities\n",
    "print(remove_entities_list(twitter_training[\"Tweet_content\"][24432]))"
   ]
  },
  {
   "cell_type": "code",
   "execution_count": 24,
   "metadata": {},
   "outputs": [
    {
     "name": "stdout",
     "output_type": "stream",
     "text": [
      "0                  im getting on and i will murder you all\n",
      "1        i am coming to the borders and i will kill you...\n",
      "2                    im getting on and i will kill you all\n",
      "3                   im coming on and i will murder you all\n",
      "4             im getting on 2 and i will murder you me all\n",
      "                               ...                        \n",
      "74677    just realized that the partition of my mac is ...\n",
      "74678    just realized that my mac partition is 6 years...\n",
      "74679    just realized the partition of my mac is now 6...\n",
      "74680    just realized between the partition of my mac ...\n",
      "74681    just like the partition of my mac is like 6 ye...\n",
      "Name: Tweet_content, Length: 73996, dtype: object\n"
     ]
    }
   ],
   "source": [
    "#Entities Removed from Dataframes\n",
    "twitter_training['Tweet_content'] = [remove_entities_list(word) for word in twitter_training['Tweet_content']]\n",
    "twitter_validation['Tweet_content'] = [remove_entities_list(word) for word in twitter_validation['Tweet_content']]\n",
    "print(twitter_training['Tweet_content'])\n",
    "#print(twitter_validation['Tweet_content'])"
   ]
  },
  {
   "cell_type": "code",
   "execution_count": null,
   "metadata": {},
   "outputs": [],
   "source": []
  },
  {
   "cell_type": "markdown",
   "metadata": {},
   "source": [
    "#### 2.-  Tokenization/Bag of words"
   ]
  },
  {
   "cell_type": "code",
   "execution_count": 25,
   "metadata": {},
   "outputs": [],
   "source": [
    "token_pattern = r\"(?u)\\b\\w\\w+\\b\" #default token pattern\n",
    "tokenizer = RegexpTokenizer(token_pattern)\n",
    "\n",
    "tokens_training = twitter_training[\"Tweet_content\"].apply(tokenizer.tokenize)\n",
    "#tokens_training"
   ]
  },
  {
   "cell_type": "code",
   "execution_count": 26,
   "metadata": {},
   "outputs": [
    {
     "data": {
      "text/html": [
       "<div>\n",
       "<style scoped>\n",
       "    .dataframe tbody tr th:only-of-type {\n",
       "        vertical-align: middle;\n",
       "    }\n",
       "\n",
       "    .dataframe tbody tr th {\n",
       "        vertical-align: top;\n",
       "    }\n",
       "\n",
       "    .dataframe thead th {\n",
       "        text-align: right;\n",
       "    }\n",
       "</style>\n",
       "<table border=\"1\" class=\"dataframe\">\n",
       "  <thead>\n",
       "    <tr style=\"text-align: right;\">\n",
       "      <th></th>\n",
       "      <th>Tweet ID</th>\n",
       "      <th>Entity</th>\n",
       "      <th>Sentiment</th>\n",
       "      <th>Tweet_content</th>\n",
       "      <th>text_lens</th>\n",
       "      <th>Tokenized Tweets</th>\n",
       "    </tr>\n",
       "  </thead>\n",
       "  <tbody>\n",
       "    <tr>\n",
       "      <th>74672</th>\n",
       "      <td>74673</td>\n",
       "      <td>Nvidia</td>\n",
       "      <td>Positive</td>\n",
       "      <td>let no elite go unnoticed highlights automatic...</td>\n",
       "      <td>112</td>\n",
       "      <td>[let, no, elite, go, unnoticed, highlights, au...</td>\n",
       "    </tr>\n",
       "    <tr>\n",
       "      <th>74673</th>\n",
       "      <td>74674</td>\n",
       "      <td>Nvidia</td>\n",
       "      <td>Positive</td>\n",
       "      <td>let no elim go unnoticed highlights automatica...</td>\n",
       "      <td>118</td>\n",
       "      <td>[let, no, elim, go, unnoticed, highlights, aut...</td>\n",
       "    </tr>\n",
       "    <tr>\n",
       "      <th>74674</th>\n",
       "      <td>74675</td>\n",
       "      <td>Nvidia</td>\n",
       "      <td>Positive</td>\n",
       "      <td>let a no information elim that go unnoticed hi...</td>\n",
       "      <td>164</td>\n",
       "      <td>[let, a, no, information, elim, that, go, unno...</td>\n",
       "    </tr>\n",
       "    <tr>\n",
       "      <th>74675</th>\n",
       "      <td>74676</td>\n",
       "      <td>Nvidia</td>\n",
       "      <td>Positive</td>\n",
       "      <td>unk my elim be no highlights pictures reveals ...</td>\n",
       "      <td>119</td>\n",
       "      <td>[unk, my, elim, be, no, highlights, pictures, ...</td>\n",
       "    </tr>\n",
       "    <tr>\n",
       "      <th>74676</th>\n",
       "      <td>74677</td>\n",
       "      <td>Nvidia</td>\n",
       "      <td>Positive</td>\n",
       "      <td>just realized the partition of my mac is like ...</td>\n",
       "      <td>124</td>\n",
       "      <td>[just, realized, the, partition, of, my, mac, ...</td>\n",
       "    </tr>\n",
       "    <tr>\n",
       "      <th>74677</th>\n",
       "      <td>74678</td>\n",
       "      <td>Nvidia</td>\n",
       "      <td>Positive</td>\n",
       "      <td>just realized that the partition of my mac is ...</td>\n",
       "      <td>128</td>\n",
       "      <td>[just, realized, that, the, partition, of, my,...</td>\n",
       "    </tr>\n",
       "    <tr>\n",
       "      <th>74678</th>\n",
       "      <td>74679</td>\n",
       "      <td>Nvidia</td>\n",
       "      <td>Positive</td>\n",
       "      <td>just realized that my mac partition is 6 years...</td>\n",
       "      <td>117</td>\n",
       "      <td>[just, realized, that, my, mac, partition, is,...</td>\n",
       "    </tr>\n",
       "    <tr>\n",
       "      <th>74679</th>\n",
       "      <td>74680</td>\n",
       "      <td>Nvidia</td>\n",
       "      <td>Positive</td>\n",
       "      <td>just realized the partition of my mac is now 6...</td>\n",
       "      <td>124</td>\n",
       "      <td>[just, realized, the, partition, of, my, mac, ...</td>\n",
       "    </tr>\n",
       "    <tr>\n",
       "      <th>74680</th>\n",
       "      <td>74681</td>\n",
       "      <td>Nvidia</td>\n",
       "      <td>Positive</td>\n",
       "      <td>just realized between the partition of my mac ...</td>\n",
       "      <td>158</td>\n",
       "      <td>[just, realized, between, the, partition, of, ...</td>\n",
       "    </tr>\n",
       "    <tr>\n",
       "      <th>74681</th>\n",
       "      <td>74682</td>\n",
       "      <td>Nvidia</td>\n",
       "      <td>Positive</td>\n",
       "      <td>just like the partition of my mac is like 6 ye...</td>\n",
       "      <td>118</td>\n",
       "      <td>[just, like, the, partition, of, my, mac, is, ...</td>\n",
       "    </tr>\n",
       "  </tbody>\n",
       "</table>\n",
       "</div>"
      ],
      "text/plain": [
       "       Tweet ID  Entity Sentiment  \\\n",
       "74672     74673  Nvidia  Positive   \n",
       "74673     74674  Nvidia  Positive   \n",
       "74674     74675  Nvidia  Positive   \n",
       "74675     74676  Nvidia  Positive   \n",
       "74676     74677  Nvidia  Positive   \n",
       "74677     74678  Nvidia  Positive   \n",
       "74678     74679  Nvidia  Positive   \n",
       "74679     74680  Nvidia  Positive   \n",
       "74680     74681  Nvidia  Positive   \n",
       "74681     74682  Nvidia  Positive   \n",
       "\n",
       "                                           Tweet_content  text_lens  \\\n",
       "74672  let no elite go unnoticed highlights automatic...        112   \n",
       "74673  let no elim go unnoticed highlights automatica...        118   \n",
       "74674  let a no information elim that go unnoticed hi...        164   \n",
       "74675  unk my elim be no highlights pictures reveals ...        119   \n",
       "74676  just realized the partition of my mac is like ...        124   \n",
       "74677  just realized that the partition of my mac is ...        128   \n",
       "74678  just realized that my mac partition is 6 years...        117   \n",
       "74679  just realized the partition of my mac is now 6...        124   \n",
       "74680  just realized between the partition of my mac ...        158   \n",
       "74681  just like the partition of my mac is like 6 ye...        118   \n",
       "\n",
       "                                        Tokenized Tweets  \n",
       "74672  [let, no, elite, go, unnoticed, highlights, au...  \n",
       "74673  [let, no, elim, go, unnoticed, highlights, aut...  \n",
       "74674  [let, a, no, information, elim, that, go, unno...  \n",
       "74675  [unk, my, elim, be, no, highlights, pictures, ...  \n",
       "74676  [just, realized, the, partition, of, my, mac, ...  \n",
       "74677  [just, realized, that, the, partition, of, my,...  \n",
       "74678  [just, realized, that, my, mac, partition, is,...  \n",
       "74679  [just, realized, the, partition, of, my, mac, ...  \n",
       "74680  [just, realized, between, the, partition, of, ...  \n",
       "74681  [just, like, the, partition, of, my, mac, is, ...  "
      ]
     },
     "execution_count": 26,
     "metadata": {},
     "output_type": "execute_result"
    }
   ],
   "source": [
    "#twitter_training['Tweet_content'] = [word.lower() for word in twitter_training['Tweet_content']]\n",
    "#twitter_training['Tweet_content']\n",
    "\n",
    "#Tokenize every entry in the data set, list of tokens\n",
    "tokenized_twitter_training = [word_tokenize(word) for word in twitter_training['Tweet_content']]\n",
    "tokenized_twitter_validation = [word_tokenize(word) for word in twitter_validation['Tweet_content']]\n",
    "twitter_training['Tokenized Tweets'] = [word_tokenize(word) for word in twitter_training['Tweet_content']]\n",
    "twitter_validation['Tokenized Tweets'] = [word_tokenize(word) for word in twitter_validation['Tweet_content']]\n",
    "\n",
    "#Transforming into a single list (This only functions to see how are the tokens?)\n",
    "tokenized_twitter_training_list = list(map(str, it.chain.from_iterable(tokenized_twitter_training)))\n",
    "tokenized_twitter_validation_list = list(map(str, it.chain.from_iterable(tokenized_twitter_validation)))\n",
    "#tokenized_twitter_training[:10]\n",
    "\n",
    "twitter_training.tail(10)"
   ]
  },
  {
   "cell_type": "code",
   "execution_count": 27,
   "metadata": {},
   "outputs": [
    {
     "data": {
      "text/plain": [
       "0        [im, getting, on, and, i, will, murder, you, all]\n",
       "1        [i, am, coming, to, the, borders, and, i, will...\n",
       "2          [im, getting, on, and, i, will, kill, you, all]\n",
       "3         [im, coming, on, and, i, will, murder, you, all]\n",
       "4        [im, getting, on, 2, and, i, will, murder, you...\n",
       "                               ...                        \n",
       "74677    [just, realized, that, the, partition, of, my,...\n",
       "74678    [just, realized, that, my, mac, partition, is,...\n",
       "74679    [just, realized, the, partition, of, my, mac, ...\n",
       "74680    [just, realized, between, the, partition, of, ...\n",
       "74681    [just, like, the, partition, of, my, mac, is, ...\n",
       "Name: Tokenized Tweets, Length: 73996, dtype: object"
      ]
     },
     "execution_count": 27,
     "metadata": {},
     "output_type": "execute_result"
    }
   ],
   "source": [
    "# Removing stopwords, punctuation and numbers\n",
    "#stopwords_list += ['0', '1', '2', '3', '4', '5', '6', '7', '8', '9']\n",
    "stopwords_list = stopwords.words('english')\n",
    "stopwords_list += list(string.punctuation)\n",
    "stopwords_list += ['....','...', '..', '’', \"''\", '``', '-', \"'\", \"([a-zA-Z]+(?:'[a-z]+)?)\"]\n",
    "tokenized_twitter_training_stopped = [word for word in tokenized_twitter_training_list if word not in stopwords_list]\n",
    "tokenized_twitter_validation_stopped = [word for word in tokenized_twitter_validation_list if word not in stopwords_list]\n",
    "\n",
    "twitter_training['Tokenized Tweets'] = [word for word in twitter_training['Tokenized Tweets'] if word not in stopwords_list]\n",
    "twitter_validation['Tokenized Tweets'] = [word for word in twitter_validation['Tokenized Tweets'] if word not in stopwords_list]\n",
    "twitter_training['Tokenized Tweets']"
   ]
  },
  {
   "cell_type": "code",
   "execution_count": 28,
   "metadata": {},
   "outputs": [
    {
     "data": {
      "text/plain": [
       "0                  im getting on and i will murder you all\n",
       "1        i am coming to the borders and i will kill you...\n",
       "2                    im getting on and i will kill you all\n",
       "3                   im coming on and i will murder you all\n",
       "4             im getting on 2 and i will murder you me all\n",
       "                               ...                        \n",
       "74677    just realized that the partition of my mac is ...\n",
       "74678    just realized that my mac partition is 6 years...\n",
       "74679    just realized the partition of my mac is now 6...\n",
       "74680    just realized between the partition of my mac ...\n",
       "74681    just like the partition of my mac is like 6 ye...\n",
       "Name: Tokenized Tweets, Length: 73996, dtype: object"
      ]
     },
     "execution_count": 28,
     "metadata": {},
     "output_type": "execute_result"
    }
   ],
   "source": [
    "def listToString(s):\n",
    "    str1 = \" \"\n",
    "    return (str1.join(s))\n",
    "     \n",
    "twitter_training['Tokenized Tweets'] = [listToString(word) for word in twitter_training['Tokenized Tweets']]\n",
    "twitter_validation['Tokenized Tweets'] = [listToString(word) for word in twitter_validation['Tokenized Tweets']]\n",
    "twitter_training['Tokenized Tweets']"
   ]
  },
  {
   "cell_type": "code",
   "execution_count": 29,
   "metadata": {},
   "outputs": [
    {
     "data": {
      "text/plain": [
       "[('game', 8065),\n",
       " ('im', 4947),\n",
       " ('like', 4885),\n",
       " ('play', 4601),\n",
       " ('2', 4468),\n",
       " ('get', 3941),\n",
       " ('good', 3552),\n",
       " ('one', 3323),\n",
       " ('really', 3260),\n",
       " ('love', 3239)]"
      ]
     },
     "execution_count": 29,
     "metadata": {},
     "output_type": "execute_result"
    }
   ],
   "source": [
    "# Frequency Distribution to see the number of times each word is used in each entry.\n",
    "tokenized_twitter_training_freqdist = FreqDist(tokenized_twitter_training_stopped)\n",
    "tokenized_twitter_validation_freqdist = FreqDist(tokenized_twitter_validation_stopped)\n",
    "tokenized_twitter_training_freqdist.most_common(10)"
   ]
  },
  {
   "cell_type": "code",
   "execution_count": 30,
   "metadata": {},
   "outputs": [
    {
     "data": {
      "text/plain": [
       "[(('johnson', 'johnson'), 0.001561627106312767),\n",
       " (('rhandlerr', 'rhandlerr'), 0.0010237621961517974),\n",
       " (('italy', 'italy'), 0.00099907757467098),\n",
       " (('gon', 'na'), 0.000975692143794416),\n",
       " (('cant', 'wait'), 0.0009497083317093451),\n",
       " (('access', 'health'), 0.0006703823517948318),\n",
       " (('https', 'tco'), 0.000635304205479986),\n",
       " (('first', 'time'), 0.0005183770510971664),\n",
       " (('baby', 'powder'), 0.0004910940484078419),\n",
       " (('see', 'details'), 0.00048199971417806704)]"
      ]
     },
     "execution_count": 30,
     "metadata": {},
     "output_type": "execute_result"
    }
   ],
   "source": [
    "bigram_measures = nltk.collocations.BigramAssocMeasures()\n",
    "tokenized_twitter_training_stopped_finder = BigramCollocationFinder.from_words(tokenized_twitter_training_stopped)\n",
    "tokenized_twitter_training_stopped_scored = tokenized_twitter_training_stopped_finder.score_ngrams(bigram_measures.raw_freq)\n",
    "# Display the first 10 elements of macbeth_scored\n",
    "tokenized_twitter_training_stopped_scored[:10]"
   ]
  },
  {
   "cell_type": "code",
   "execution_count": 31,
   "metadata": {},
   "outputs": [
    {
     "data": {
      "text/plain": [
       "[(('italy', 'italy', 'italy'), 0.0009886840498369515),\n",
       " (('rhandlerr', 'rhandlerr', 'rhandlerr'), 0.0005768406282885762),\n",
       " (('access', 'health', 'care'), 0.0004469215678632212),\n",
       " (('occurred', 'see', 'details'), 0.00038326122825479725),\n",
       " (('ban', '4', 'player'), 0.0002572397396422029),\n",
       " (('eu', 'commission', 'taken'), 0.0002260591651401177),\n",
       " (('100', 'million', 'people'), 0.0002234607839316106),\n",
       " (('access', 'health', 'services'), 0.0002234607839316106),\n",
       " (('care', 'access', 'health'), 0.0002234607839316106),\n",
       " (('commission', 'taken', 'step'), 0.0002234607839316106)]"
      ]
     },
     "execution_count": 31,
     "metadata": {},
     "output_type": "execute_result"
    }
   ],
   "source": [
    "trigram_measures = nltk.collocations.BigramAssocMeasures()\n",
    "tokenized_twitter_training_stopped_finder = TrigramCollocationFinder.from_words(tokenized_twitter_training_stopped)\n",
    "tokenized_twitter_training_stopped_scored = tokenized_twitter_training_stopped_finder.score_ngrams(trigram_measures.raw_freq)\n",
    "# Display the first 10 elements of macbeth_scored\n",
    "tokenized_twitter_training_stopped_scored[:10]"
   ]
  },
  {
   "cell_type": "code",
   "execution_count": 32,
   "metadata": {},
   "outputs": [
    {
     "data": {
      "text/plain": [
       "39505"
      ]
     },
     "execution_count": 32,
     "metadata": {},
     "output_type": "execute_result"
    }
   ],
   "source": [
    "len(tokenized_twitter_training_freqdist)"
   ]
  },
  {
   "cell_type": "markdown",
   "metadata": {},
   "source": [
    "#### 3.- Stemming & Lemmatization"
   ]
  },
  {
   "cell_type": "code",
   "execution_count": 33,
   "metadata": {},
   "outputs": [
    {
     "data": {
      "text/plain": [
       "0              im getting on and i will murder you all\n",
       "1    i am coming to the borders and i will kill you...\n",
       "2                im getting on and i will kill you all\n",
       "3               im coming on and i will murder you all\n",
       "4         im getting on 2 and i will murder you me all\n",
       "Name: Tokenized Tweets, dtype: object"
      ]
     },
     "execution_count": 33,
     "metadata": {},
     "output_type": "execute_result"
    }
   ],
   "source": [
    "from nltk.stem.wordnet import WordNetLemmatizer\n",
    "\n",
    "lemmatizer = WordNetLemmatizer()\n",
    "\n",
    "twitter_training['Tokenized Tweets'] = [lemmatizer.lemmatize(word) for word in twitter_training['Tokenized Tweets']]\n",
    "twitter_validation['Tokenized Tweets'] = [lemmatizer.lemmatize(word) for word in twitter_validation['Tokenized Tweets']]\n",
    "twitter_training['Tokenized Tweets'][:5]\n",
    "#tokenized_twitter_training_lemmatized = [lemmatizer.lemmatize(word) for word in twitter_training['Tokenized Tweets']]\n",
    "#tokenized_twitter_validation_lemmatized = [lemmatizer.lemmatize(word) for word in twitter_validation['Tokenized Tweets']]\n",
    "#tokenized_twitter_training_lemmatized[:10]\n",
    "\n",
    "#lemmatizer.lemmatize('drank')"
   ]
  },
  {
   "cell_type": "code",
   "execution_count": 34,
   "metadata": {},
   "outputs": [
    {
     "data": {
      "text/plain": [
       "0               im getting on and i will murder you al\n",
       "1    i am coming to the borders and i will kill you al\n",
       "2                 im getting on and i will kill you al\n",
       "3                im coming on and i will murder you al\n",
       "4          im getting on 2 and i will murder you me al\n",
       "Name: Tokenized Tweets, dtype: object"
      ]
     },
     "execution_count": 34,
     "metadata": {},
     "output_type": "execute_result"
    }
   ],
   "source": [
    "ps = PorterStemmer()\n",
    "\n",
    "twitter_training['Tokenized Tweets'] = [ps.stem(word) for word in twitter_training['Tokenized Tweets']]\n",
    "twitter_validation['Tokenized Tweets'] = [ps.stem(word) for word in twitter_validation['Tokenized Tweets']]\n",
    "twitter_training['Tokenized Tweets'][:5]\n",
    "#tokenized_twitter_training_stemmed = [ps.stem(word) for word in twitter_training['Tokenized Tweets']]\n",
    "#tokenized_twitter_validation_stemmed = [ps.stem(word) for word in twitter_validation['Tokenized Tweets']]\n",
    "#tokenized_twitter_training_stemmed[:10]\n",
    "\n",
    "#words = [\"play\", \"playing\", \"played\", \"player\"]\n",
    "\n",
    "#for w in words:\n",
    " #   print(w, \" : \", ps.stem(w))"
   ]
  },
  {
   "cell_type": "code",
   "execution_count": null,
   "metadata": {},
   "outputs": [],
   "source": []
  },
  {
   "cell_type": "markdown",
   "metadata": {},
   "source": [
    "#### - Train/Test Splits"
   ]
  },
  {
   "cell_type": "code",
   "execution_count": 35,
   "metadata": {},
   "outputs": [],
   "source": [
    "from sklearn.model_selection import train_test_split\n",
    "X_train ,X_test , y_train, y_test = train_test_split(twitter_training[['Tokenized Tweets']], twitter_training[['Sentiment']], test_size=0.2, random_state=42)"
   ]
  },
  {
   "cell_type": "code",
   "execution_count": 36,
   "metadata": {},
   "outputs": [],
   "source": [
    "from sklearn.feature_extraction.text import TfidfVectorizer\n",
    "\n",
    "vectorizer= TfidfVectorizer()\n",
    "\n",
    "X_train_vect= vectorizer.fit_transform(X_train['Tokenized Tweets'])\n",
    "X_test_vect= vectorizer.transform(X_test['Tokenized Tweets'])\n",
    "\n",
    "y_train=y_train['Sentiment'].map({\"Positive\":0,\"Negative\":1,\"Neutral\":2})\n",
    "y_test=y_test['Sentiment'].map({\"Positive\":0,\"Negative\":1,\"Neutral\":2})"
   ]
  },
  {
   "cell_type": "code",
   "execution_count": 37,
   "metadata": {},
   "outputs": [],
   "source": [
    "validation_X = vectorizer.transform(twitter_validation['Tokenized Tweets'])\n",
    "validation_y = twitter_validation['Sentiment'].map({\"Positive\":0,\"Negative\":1,\"Neutral\":2})"
   ]
  },
  {
   "cell_type": "code",
   "execution_count": null,
   "metadata": {},
   "outputs": [],
   "source": []
  },
  {
   "cell_type": "markdown",
   "metadata": {},
   "source": [
    "## - Machine Learning Models"
   ]
  },
  {
   "cell_type": "markdown",
   "metadata": {},
   "source": [
    "#### MultinomialNB"
   ]
  },
  {
   "cell_type": "code",
   "execution_count": 38,
   "metadata": {},
   "outputs": [
    {
     "name": "stdout",
     "output_type": "stream",
     "text": [
      "              precision    recall  f1-score   support\n",
      "\n",
      "    Positive       0.86      0.66      0.75      4119\n",
      "     Neutral       0.80      0.79      0.79      4380\n",
      "    Negative       0.75      0.87      0.81      6301\n",
      "\n",
      "    accuracy                           0.79     14800\n",
      "   macro avg       0.80      0.77      0.78     14800\n",
      "weighted avg       0.80      0.79      0.79     14800\n",
      "\n"
     ]
    }
   ],
   "source": [
    "#Afterd data is cleaned using Lemmatization and Stemming\n",
    "model_mnb = MultinomialNB()\n",
    "model_mnb.fit(X_train_vect,y_train)\n",
    "y_predict= model_mnb.predict(X_test_vect)\n",
    "\n",
    "unique_classes = twitter_training['Sentiment'].unique()\n",
    "print(classification_report(y_test, y_predict, target_names=unique_classes))"
   ]
  },
  {
   "cell_type": "markdown",
   "metadata": {},
   "source": [
    "#### Multi-Class Logistical Regression"
   ]
  },
  {
   "cell_type": "code",
   "execution_count": 39,
   "metadata": {},
   "outputs": [
    {
     "name": "stdout",
     "output_type": "stream",
     "text": [
      "              precision    recall  f1-score   support\n",
      "\n",
      "    Positive       0.80      0.75      0.77      4119\n",
      "     Neutral       0.82      0.79      0.80      4380\n",
      "    Negative       0.79      0.84      0.81      6301\n",
      "\n",
      "    accuracy                           0.80     14800\n",
      "   macro avg       0.80      0.79      0.80     14800\n",
      "weighted avg       0.80      0.80      0.80     14800\n",
      "\n"
     ]
    },
    {
     "name": "stderr",
     "output_type": "stream",
     "text": [
      "C:\\Users\\psoloriocabrera\\Anaconda3\\envs\\learn-env\\lib\\site-packages\\sklearn\\linear_model\\_logistic.py:762: ConvergenceWarning: lbfgs failed to converge (status=1):\n",
      "STOP: TOTAL NO. of ITERATIONS REACHED LIMIT.\n",
      "\n",
      "Increase the number of iterations (max_iter) or scale the data as shown in:\n",
      "    https://scikit-learn.org/stable/modules/preprocessing.html\n",
      "Please also refer to the documentation for alternative solver options:\n",
      "    https://scikit-learn.org/stable/modules/linear_model.html#logistic-regression\n",
      "  n_iter_i = _check_optimize_result(\n"
     ]
    }
   ],
   "source": [
    "# Define the multinomial logistic regression model...\n",
    "# The multinomial logistic regression model will be fit using cross-entropy loss and will predict the integer value for each integer encoded class label\n",
    "#logistic regression to multi-class classification (i.e. more than two classes) problems is to split the multi-class classification problem into multiple binary classification problems and fit a standard logistic regression model on each subproblem.\n",
    "#An alternate approach involves changing the logistic regression model to support the prediction of multiple class labels directly. Specifically, to predict the probability that an input example belongs to each known class label.\n",
    "\n",
    "#Link: https://machinelearningmastery.com/multinomial-logistic-regression-with-python/\n",
    "\n",
    "model_mcLR = LogisticRegression(multi_class='multinomial', solver='lbfgs')\n",
    "model_mcLR.fit(X_train_vect,y_train)\n",
    "y_predict= model_mcLR.predict(X_test_vect)\n",
    "\n",
    "print(classification_report(y_test, y_predict, target_names=unique_classes))"
   ]
  },
  {
   "cell_type": "code",
   "execution_count": 40,
   "metadata": {},
   "outputs": [
    {
     "data": {
      "text/plain": [
       "['logistic_regression_model.pkl']"
      ]
     },
     "execution_count": 40,
     "metadata": {},
     "output_type": "execute_result"
    }
   ],
   "source": [
    "import joblib\n",
    "#joblib.dump(model_mcLR, 'logistic_regression_model.pkl')\n",
    "\n",
    "#to load the model \n",
    "#loaded_logistic_regression_model = joblib.load('logistic_regression_model.pkl')"
   ]
  },
  {
   "cell_type": "markdown",
   "metadata": {},
   "source": [
    "#### Validation Test"
   ]
  },
  {
   "cell_type": "code",
   "execution_count": 41,
   "metadata": {},
   "outputs": [
    {
     "name": "stdout",
     "output_type": "stream",
     "text": [
      "              precision    recall  f1-score   support\n",
      "\n",
      "    Positive       0.91      0.84      0.87       277\n",
      "     Neutral       0.86      0.92      0.89       266\n",
      "    Negative       0.89      0.89      0.89       457\n",
      "\n",
      "    accuracy                           0.89      1000\n",
      "   macro avg       0.89      0.89      0.89      1000\n",
      "weighted avg       0.89      0.89      0.89      1000\n",
      "\n"
     ]
    }
   ],
   "source": [
    "#Using Lemmatization and Stemming\n",
    "y_predict_val = model_mcLR.predict(validation_X)\n",
    "print(classification_report(validation_y, y_predict_val, target_names=unique_classes))"
   ]
  },
  {
   "cell_type": "code",
   "execution_count": null,
   "metadata": {},
   "outputs": [],
   "source": []
  },
  {
   "cell_type": "markdown",
   "metadata": {},
   "source": [
    "#### Confusion Matrix"
   ]
  },
  {
   "cell_type": "code",
   "execution_count": 43,
   "metadata": {},
   "outputs": [
    {
     "name": "stdout",
     "output_type": "stream",
     "text": [
      "Confusion Matrix:\n",
      " [[3089  270  760]\n",
      " [ 243 3459  678]\n",
      " [ 523  502 5276]]\n"
     ]
    },
    {
     "data": {
      "text/plain": [
       "<sklearn.metrics._plot.confusion_matrix.ConfusionMatrixDisplay at 0x20128106910>"
      ]
     },
     "execution_count": 43,
     "metadata": {},
     "output_type": "execute_result"
    },
    {
     "data": {
      "image/png": "[encoded data removed]",
      "text/plain": [
       "<Figure size 432x288 with 2 Axes>"
      ]
     },
     "metadata": {
      "needs_background": "light"
     },
     "output_type": "display_data"
    }
   ],
   "source": [
    "#Confusion Matrix for Multi-Class Logistical Regression\n",
    "from sklearn.metrics import ConfusionMatrixDisplay\n",
    "from sklearn.metrics import confusion_matrix\n",
    "\n",
    "# Print confusion matrix\n",
    "cnf_matrix = confusion_matrix(y_test, y_predict)\n",
    "print('Confusion Matrix:\\n', cnf_matrix)\n",
    "\n",
    "disp = ConfusionMatrixDisplay(confusion_matrix=cnf_matrix)\n",
    "disp.plot(cmap=plt.cm.Greens)"
   ]
  },
  {
   "cell_type": "code",
   "execution_count": null,
   "metadata": {},
   "outputs": [],
   "source": [
    "#This saves the data cleaned\n",
    "#twitter_training.to_csv(\"train_data.csv\")\n",
    "#twitter_validation.to_csv('validation_data.csv')"
   ]
  },
  {
   "cell_type": "code",
   "execution_count": null,
   "metadata": {},
   "outputs": [],
   "source": []
  },
  {
   "cell_type": "markdown",
   "metadata": {},
   "source": [
    "#### Testing if model predicts if comment is Positive, Negative, Neutral"
   ]
  },
  {
   "cell_type": "code",
   "execution_count": 44,
   "metadata": {},
   "outputs": [
    {
     "name": "stdout",
     "output_type": "stream",
     "text": [
      "0              im getting on and i will murder you all\n",
      "1    i am coming to the borders and i will kill you...\n",
      "2                im getting on and i will kill you all\n",
      "Name: Tweet_content, dtype: object\n"
     ]
    }
   ],
   "source": [
    "#Positive sentiment tweets\n",
    "print(twitter_training[twitter_training['Sentiment']=='Positive']['Tweet_content'][:3])"
   ]
  },
  {
   "cell_type": "code",
   "execution_count": 45,
   "metadata": {},
   "outputs": [
    {
     "data": {
      "text/plain": [
       "24    the biggest dissappoinment in my life came out...\n",
       "25    the biggest disappointment of my life came a y...\n",
       "26    the biggest disappointment of my life came a y...\n",
       "Name: Tweet_content, dtype: object"
      ]
     },
     "execution_count": 45,
     "metadata": {},
     "output_type": "execute_result"
    }
   ],
   "source": [
    "#Negative sentiment tweets\n",
    "twitter_training[twitter_training['Sentiment']=='Negative']['Tweet_content'][:3]"
   ]
  },
  {
   "cell_type": "code",
   "execution_count": 46,
   "metadata": {},
   "outputs": [
    {
     "data": {
      "text/plain": [
       "12    rockhard la varlope rare powerful handsome jac...\n",
       "13    rockhard la varlope rare powerful handsome jac...\n",
       "14    rockhard la varlope rare powerful handsome jac...\n",
       "Name: Tweet_content, dtype: object"
      ]
     },
     "execution_count": 46,
     "metadata": {},
     "output_type": "execute_result"
    }
   ],
   "source": [
    "#Neutral sentiment tweets\n",
    "twitter_training[twitter_training['Sentiment']=='Neutral']['Tweet_content'][:3]"
   ]
  },
  {
   "cell_type": "code",
   "execution_count": 47,
   "metadata": {},
   "outputs": [
    {
     "data": {
      "text/plain": [
       "'with guns metal and tentacles 10 enunk secret weapons ranked ifttt2xj2rmu'"
      ]
     },
     "execution_count": 47,
     "metadata": {},
     "output_type": "execute_result"
    }
   ],
   "source": [
    "twitter_training[twitter_training['Sentiment']=='Neutral']['Tweet_content'][347]"
   ]
  },
  {
   "cell_type": "code",
   "execution_count": 48,
   "metadata": {},
   "outputs": [
    {
     "data": {
      "text/plain": [
       "Tweet ID                                                          348\n",
       "Entity                                                    Borderlands\n",
       "Sentiment                                                     Neutral\n",
       "Tweet_content       with guns metal and tentacles 10 enunk secret ...\n",
       "text_lens                                                          93\n",
       "Tokenized Tweets    with guns metal and tentacles 10 enunk secret ...\n",
       "Name: 347, dtype: object"
      ]
     },
     "execution_count": 48,
     "metadata": {},
     "output_type": "execute_result"
    }
   ],
   "source": [
    "twitter_training.iloc[346]"
   ]
  },
  {
   "cell_type": "code",
   "execution_count": null,
   "metadata": {},
   "outputs": [],
   "source": []
  },
  {
   "cell_type": "code",
   "execution_count": 49,
   "metadata": {},
   "outputs": [],
   "source": [
    "text0= 'I hate this game'\n",
    "text1 ='with guns metal and tentacles 10 enunk secret weapons ranked'\n",
    "text2 = 'I love this game is my favorite'\n",
    "test=twitter_training['Tweet_content'][346]\n",
    "text_final = vectorizer.transform([test])\n",
    "\n",
    "predict = model_mcLR.predict(text_final)"
   ]
  },
  {
   "cell_type": "code",
   "execution_count": 50,
   "metadata": {},
   "outputs": [
    {
     "name": "stdout",
     "output_type": "stream",
     "text": [
      "2,  Neutral\n"
     ]
    }
   ],
   "source": [
    "vector={0:\"Positive\",1:\"Negative\",2:\"Neutral\"}\n",
    "sentiment=vector[list(predict)[0]]\n",
    "print(f'{list(predict)[0]},  {sentiment}')"
   ]
  },
  {
   "cell_type": "code",
   "execution_count": null,
   "metadata": {},
   "outputs": [],
   "source": []
  }
 ],
 "metadata": {
  "kernelspec": {
   "display_name": "Python (learn-env)",
   "language": "python",
   "name": "learn-env"
  },
  "language_info": {
   "codemirror_mode": {
    "name": "ipython",
    "version": 3
   },
   "file_extension": ".py",
   "mimetype": "text/x-python",
   "name": "python",
   "nbconvert_exporter": "python",
   "pygments_lexer": "ipython3",
   "version": "3.8.5"
  }
 },
 "nbformat": 4,
 "nbformat_minor": 4
}
