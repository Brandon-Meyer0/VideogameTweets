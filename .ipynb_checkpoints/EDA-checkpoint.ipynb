{
 "cells": [
  {
   "cell_type": "markdown",
   "id": "2d239f5d",
   "metadata": {},
   "source": [
    "## Sentiment Analysis EDA - Twitter"
   ]
  },
  {
   "cell_type": "markdown",
   "id": "d94897f2",
   "metadata": {},
   "source": [
    "## Import Libraries"
   ]
  },
  {
   "cell_type": "code",
   "execution_count": 1,
   "id": "97292a0a",
   "metadata": {},
   "outputs": [],
   "source": [
    "import pandas as pd\n",
    "import nltk\n",
    "from nltk.tokenize import RegexpTokenizer\n",
    "from nltk import FreqDist\n",
    "import matplotlib.pyplot as plt\n",
    "from matplotlib.ticker import MaxNLocator\n",
    "from sklearn.feature_extraction.text import TfidfVectorizer\n",
    "from sklearn.naive_bayes import MultinomialNB\n",
    "from sklearn.model_selection import cross_val_score\n",
    "from nltk.tokenize import sent_tokenize\n",
    "from sklearn.metrics import plot_confusion_matrix\n",
    "from nltk import word_tokenize\n",
    "from nltk.corpus import stopwords\n",
    "from nltk.stem.wordnet import WordNetLemmatizer\n",
    "from nltk.stem import PorterStemmer"
   ]
  },
  {
   "cell_type": "markdown",
   "id": "5766b421",
   "metadata": {},
   "source": [
    "Business Understanding, Data Understanding, Data Preparation, Modeling, Evaluation, Code Quality"
   ]
  },
  {
   "cell_type": "markdown",
   "id": "a8fecfd8",
   "metadata": {},
   "source": [
    "## EDA"
   ]
  },
  {
   "cell_type": "code",
   "execution_count": 2,
   "id": "f9b4900f",
   "metadata": {},
   "outputs": [],
   "source": [
    "twitter_training= pd.read_csv('twitter_training.csv', sep=',', names=[\"Tweet ID\", \"Entity\", \"Sentiment\", \"Tweet Content\"])"
   ]
  },
  {
   "cell_type": "code",
   "execution_count": 3,
   "id": "9d602334",
   "metadata": {},
   "outputs": [
    {
     "data": {
      "text/html": [
       "<div>\n",
       "<style scoped>\n",
       "    .dataframe tbody tr th:only-of-type {\n",
       "        vertical-align: middle;\n",
       "    }\n",
       "\n",
       "    .dataframe tbody tr th {\n",
       "        vertical-align: top;\n",
       "    }\n",
       "\n",
       "    .dataframe thead th {\n",
       "        text-align: right;\n",
       "    }\n",
       "</style>\n",
       "<table border=\"1\" class=\"dataframe\">\n",
       "  <thead>\n",
       "    <tr style=\"text-align: right;\">\n",
       "      <th></th>\n",
       "      <th>Tweet ID</th>\n",
       "      <th>Entity</th>\n",
       "      <th>Sentiment</th>\n",
       "      <th>Tweet Content</th>\n",
       "    </tr>\n",
       "  </thead>\n",
       "  <tbody>\n",
       "    <tr>\n",
       "      <th>0</th>\n",
       "      <td>2401</td>\n",
       "      <td>Borderlands</td>\n",
       "      <td>Positive</td>\n",
       "      <td>im getting on borderlands and i will murder yo...</td>\n",
       "    </tr>\n",
       "    <tr>\n",
       "      <th>1</th>\n",
       "      <td>2401</td>\n",
       "      <td>Borderlands</td>\n",
       "      <td>Positive</td>\n",
       "      <td>I am coming to the borders and I will kill you...</td>\n",
       "    </tr>\n",
       "    <tr>\n",
       "      <th>2</th>\n",
       "      <td>2401</td>\n",
       "      <td>Borderlands</td>\n",
       "      <td>Positive</td>\n",
       "      <td>im getting on borderlands and i will kill you ...</td>\n",
       "    </tr>\n",
       "    <tr>\n",
       "      <th>3</th>\n",
       "      <td>2401</td>\n",
       "      <td>Borderlands</td>\n",
       "      <td>Positive</td>\n",
       "      <td>im coming on borderlands and i will murder you...</td>\n",
       "    </tr>\n",
       "    <tr>\n",
       "      <th>4</th>\n",
       "      <td>2401</td>\n",
       "      <td>Borderlands</td>\n",
       "      <td>Positive</td>\n",
       "      <td>im getting on borderlands 2 and i will murder ...</td>\n",
       "    </tr>\n",
       "  </tbody>\n",
       "</table>\n",
       "</div>"
      ],
      "text/plain": [
       "   Tweet ID       Entity Sentiment  \\\n",
       "0      2401  Borderlands  Positive   \n",
       "1      2401  Borderlands  Positive   \n",
       "2      2401  Borderlands  Positive   \n",
       "3      2401  Borderlands  Positive   \n",
       "4      2401  Borderlands  Positive   \n",
       "\n",
       "                                       Tweet Content  \n",
       "0  im getting on borderlands and i will murder yo...  \n",
       "1  I am coming to the borders and I will kill you...  \n",
       "2  im getting on borderlands and i will kill you ...  \n",
       "3  im coming on borderlands and i will murder you...  \n",
       "4  im getting on borderlands 2 and i will murder ...  "
      ]
     },
     "execution_count": 3,
     "metadata": {},
     "output_type": "execute_result"
    }
   ],
   "source": [
    "twitter_training.head()"
   ]
  },
  {
   "cell_type": "code",
   "execution_count": 4,
   "id": "116e6152",
   "metadata": {},
   "outputs": [
    {
     "data": {
      "text/html": [
       "<div>\n",
       "<style scoped>\n",
       "    .dataframe tbody tr th:only-of-type {\n",
       "        vertical-align: middle;\n",
       "    }\n",
       "\n",
       "    .dataframe tbody tr th {\n",
       "        vertical-align: top;\n",
       "    }\n",
       "\n",
       "    .dataframe thead th {\n",
       "        text-align: right;\n",
       "    }\n",
       "</style>\n",
       "<table border=\"1\" class=\"dataframe\">\n",
       "  <thead>\n",
       "    <tr style=\"text-align: right;\">\n",
       "      <th></th>\n",
       "      <th>Tweet ID</th>\n",
       "      <th>Entity</th>\n",
       "      <th>Sentiment</th>\n",
       "      <th>Tweet Content</th>\n",
       "    </tr>\n",
       "  </thead>\n",
       "  <tbody>\n",
       "    <tr>\n",
       "      <th>74677</th>\n",
       "      <td>9200</td>\n",
       "      <td>Nvidia</td>\n",
       "      <td>Positive</td>\n",
       "      <td>Just realized that the Windows partition of my...</td>\n",
       "    </tr>\n",
       "    <tr>\n",
       "      <th>74678</th>\n",
       "      <td>9200</td>\n",
       "      <td>Nvidia</td>\n",
       "      <td>Positive</td>\n",
       "      <td>Just realized that my Mac window partition is ...</td>\n",
       "    </tr>\n",
       "    <tr>\n",
       "      <th>74679</th>\n",
       "      <td>9200</td>\n",
       "      <td>Nvidia</td>\n",
       "      <td>Positive</td>\n",
       "      <td>Just realized the windows partition of my Mac ...</td>\n",
       "    </tr>\n",
       "    <tr>\n",
       "      <th>74680</th>\n",
       "      <td>9200</td>\n",
       "      <td>Nvidia</td>\n",
       "      <td>Positive</td>\n",
       "      <td>Just realized between the windows partition of...</td>\n",
       "    </tr>\n",
       "    <tr>\n",
       "      <th>74681</th>\n",
       "      <td>9200</td>\n",
       "      <td>Nvidia</td>\n",
       "      <td>Positive</td>\n",
       "      <td>Just like the windows partition of my Mac is l...</td>\n",
       "    </tr>\n",
       "  </tbody>\n",
       "</table>\n",
       "</div>"
      ],
      "text/plain": [
       "       Tweet ID  Entity Sentiment  \\\n",
       "74677      9200  Nvidia  Positive   \n",
       "74678      9200  Nvidia  Positive   \n",
       "74679      9200  Nvidia  Positive   \n",
       "74680      9200  Nvidia  Positive   \n",
       "74681      9200  Nvidia  Positive   \n",
       "\n",
       "                                           Tweet Content  \n",
       "74677  Just realized that the Windows partition of my...  \n",
       "74678  Just realized that my Mac window partition is ...  \n",
       "74679  Just realized the windows partition of my Mac ...  \n",
       "74680  Just realized between the windows partition of...  \n",
       "74681  Just like the windows partition of my Mac is l...  "
      ]
     },
     "execution_count": 4,
     "metadata": {},
     "output_type": "execute_result"
    }
   ],
   "source": [
    "twitter_training.tail()"
   ]
  },
  {
   "cell_type": "code",
   "execution_count": 5,
   "id": "688b5fa3",
   "metadata": {},
   "outputs": [],
   "source": [
    "twitter_validation=pd.read_csv('twitter_training.csv', sep=',', names=[\"Tweet ID\", \"Entity\", \"Sentiment\", \"Tweet Content\"])"
   ]
  },
  {
   "cell_type": "code",
   "execution_count": 6,
   "id": "97ec0411",
   "metadata": {},
   "outputs": [
    {
     "data": {
      "text/html": [
       "<div>\n",
       "<style scoped>\n",
       "    .dataframe tbody tr th:only-of-type {\n",
       "        vertical-align: middle;\n",
       "    }\n",
       "\n",
       "    .dataframe tbody tr th {\n",
       "        vertical-align: top;\n",
       "    }\n",
       "\n",
       "    .dataframe thead th {\n",
       "        text-align: right;\n",
       "    }\n",
       "</style>\n",
       "<table border=\"1\" class=\"dataframe\">\n",
       "  <thead>\n",
       "    <tr style=\"text-align: right;\">\n",
       "      <th></th>\n",
       "      <th>Tweet ID</th>\n",
       "      <th>Entity</th>\n",
       "      <th>Sentiment</th>\n",
       "      <th>Tweet Content</th>\n",
       "    </tr>\n",
       "  </thead>\n",
       "  <tbody>\n",
       "    <tr>\n",
       "      <th>0</th>\n",
       "      <td>2401</td>\n",
       "      <td>Borderlands</td>\n",
       "      <td>Positive</td>\n",
       "      <td>im getting on borderlands and i will murder yo...</td>\n",
       "    </tr>\n",
       "    <tr>\n",
       "      <th>1</th>\n",
       "      <td>2401</td>\n",
       "      <td>Borderlands</td>\n",
       "      <td>Positive</td>\n",
       "      <td>I am coming to the borders and I will kill you...</td>\n",
       "    </tr>\n",
       "    <tr>\n",
       "      <th>2</th>\n",
       "      <td>2401</td>\n",
       "      <td>Borderlands</td>\n",
       "      <td>Positive</td>\n",
       "      <td>im getting on borderlands and i will kill you ...</td>\n",
       "    </tr>\n",
       "    <tr>\n",
       "      <th>3</th>\n",
       "      <td>2401</td>\n",
       "      <td>Borderlands</td>\n",
       "      <td>Positive</td>\n",
       "      <td>im coming on borderlands and i will murder you...</td>\n",
       "    </tr>\n",
       "    <tr>\n",
       "      <th>4</th>\n",
       "      <td>2401</td>\n",
       "      <td>Borderlands</td>\n",
       "      <td>Positive</td>\n",
       "      <td>im getting on borderlands 2 and i will murder ...</td>\n",
       "    </tr>\n",
       "  </tbody>\n",
       "</table>\n",
       "</div>"
      ],
      "text/plain": [
       "   Tweet ID       Entity Sentiment  \\\n",
       "0      2401  Borderlands  Positive   \n",
       "1      2401  Borderlands  Positive   \n",
       "2      2401  Borderlands  Positive   \n",
       "3      2401  Borderlands  Positive   \n",
       "4      2401  Borderlands  Positive   \n",
       "\n",
       "                                       Tweet Content  \n",
       "0  im getting on borderlands and i will murder yo...  \n",
       "1  I am coming to the borders and I will kill you...  \n",
       "2  im getting on borderlands and i will kill you ...  \n",
       "3  im coming on borderlands and i will murder you...  \n",
       "4  im getting on borderlands 2 and i will murder ...  "
      ]
     },
     "execution_count": 6,
     "metadata": {},
     "output_type": "execute_result"
    }
   ],
   "source": [
    "twitter_validation.head()"
   ]
  },
  {
   "cell_type": "code",
   "execution_count": 7,
   "id": "f9277816",
   "metadata": {},
   "outputs": [
    {
     "data": {
      "text/html": [
       "<div>\n",
       "<style scoped>\n",
       "    .dataframe tbody tr th:only-of-type {\n",
       "        vertical-align: middle;\n",
       "    }\n",
       "\n",
       "    .dataframe tbody tr th {\n",
       "        vertical-align: top;\n",
       "    }\n",
       "\n",
       "    .dataframe thead th {\n",
       "        text-align: right;\n",
       "    }\n",
       "</style>\n",
       "<table border=\"1\" class=\"dataframe\">\n",
       "  <thead>\n",
       "    <tr style=\"text-align: right;\">\n",
       "      <th></th>\n",
       "      <th>Tweet ID</th>\n",
       "      <th>Entity</th>\n",
       "      <th>Sentiment</th>\n",
       "      <th>Tweet Content</th>\n",
       "    </tr>\n",
       "  </thead>\n",
       "  <tbody>\n",
       "    <tr>\n",
       "      <th>0</th>\n",
       "      <td>2401</td>\n",
       "      <td>Borderlands</td>\n",
       "      <td>Positive</td>\n",
       "      <td>im getting on borderlands and i will murder yo...</td>\n",
       "    </tr>\n",
       "    <tr>\n",
       "      <th>1</th>\n",
       "      <td>2401</td>\n",
       "      <td>Borderlands</td>\n",
       "      <td>Positive</td>\n",
       "      <td>I am coming to the borders and I will kill you...</td>\n",
       "    </tr>\n",
       "    <tr>\n",
       "      <th>2</th>\n",
       "      <td>2401</td>\n",
       "      <td>Borderlands</td>\n",
       "      <td>Positive</td>\n",
       "      <td>im getting on borderlands and i will kill you ...</td>\n",
       "    </tr>\n",
       "    <tr>\n",
       "      <th>3</th>\n",
       "      <td>2401</td>\n",
       "      <td>Borderlands</td>\n",
       "      <td>Positive</td>\n",
       "      <td>im coming on borderlands and i will murder you...</td>\n",
       "    </tr>\n",
       "    <tr>\n",
       "      <th>4</th>\n",
       "      <td>2401</td>\n",
       "      <td>Borderlands</td>\n",
       "      <td>Positive</td>\n",
       "      <td>im getting on borderlands 2 and i will murder ...</td>\n",
       "    </tr>\n",
       "    <tr>\n",
       "      <th>5</th>\n",
       "      <td>2401</td>\n",
       "      <td>Borderlands</td>\n",
       "      <td>Positive</td>\n",
       "      <td>im getting into borderlands and i can murder y...</td>\n",
       "    </tr>\n",
       "    <tr>\n",
       "      <th>6</th>\n",
       "      <td>2402</td>\n",
       "      <td>Borderlands</td>\n",
       "      <td>Positive</td>\n",
       "      <td>So I spent a few hours making something for fu...</td>\n",
       "    </tr>\n",
       "    <tr>\n",
       "      <th>7</th>\n",
       "      <td>2402</td>\n",
       "      <td>Borderlands</td>\n",
       "      <td>Positive</td>\n",
       "      <td>So I spent a couple of hours doing something f...</td>\n",
       "    </tr>\n",
       "    <tr>\n",
       "      <th>8</th>\n",
       "      <td>2402</td>\n",
       "      <td>Borderlands</td>\n",
       "      <td>Positive</td>\n",
       "      <td>So I spent a few hours doing something for fun...</td>\n",
       "    </tr>\n",
       "    <tr>\n",
       "      <th>9</th>\n",
       "      <td>2402</td>\n",
       "      <td>Borderlands</td>\n",
       "      <td>Positive</td>\n",
       "      <td>So I spent a few hours making something for fu...</td>\n",
       "    </tr>\n",
       "  </tbody>\n",
       "</table>\n",
       "</div>"
      ],
      "text/plain": [
       "   Tweet ID       Entity Sentiment  \\\n",
       "0      2401  Borderlands  Positive   \n",
       "1      2401  Borderlands  Positive   \n",
       "2      2401  Borderlands  Positive   \n",
       "3      2401  Borderlands  Positive   \n",
       "4      2401  Borderlands  Positive   \n",
       "5      2401  Borderlands  Positive   \n",
       "6      2402  Borderlands  Positive   \n",
       "7      2402  Borderlands  Positive   \n",
       "8      2402  Borderlands  Positive   \n",
       "9      2402  Borderlands  Positive   \n",
       "\n",
       "                                       Tweet Content  \n",
       "0  im getting on borderlands and i will murder yo...  \n",
       "1  I am coming to the borders and I will kill you...  \n",
       "2  im getting on borderlands and i will kill you ...  \n",
       "3  im coming on borderlands and i will murder you...  \n",
       "4  im getting on borderlands 2 and i will murder ...  \n",
       "5  im getting into borderlands and i can murder y...  \n",
       "6  So I spent a few hours making something for fu...  \n",
       "7  So I spent a couple of hours doing something f...  \n",
       "8  So I spent a few hours doing something for fun...  \n",
       "9  So I spent a few hours making something for fu...  "
      ]
     },
     "execution_count": 7,
     "metadata": {},
     "output_type": "execute_result"
    }
   ],
   "source": [
    "twitter_validation.head(10)"
   ]
  },
  {
   "cell_type": "code",
   "execution_count": 8,
   "id": "b0a5b975",
   "metadata": {},
   "outputs": [
    {
     "data": {
      "text/html": [
       "<div>\n",
       "<style scoped>\n",
       "    .dataframe tbody tr th:only-of-type {\n",
       "        vertical-align: middle;\n",
       "    }\n",
       "\n",
       "    .dataframe tbody tr th {\n",
       "        vertical-align: top;\n",
       "    }\n",
       "\n",
       "    .dataframe thead th {\n",
       "        text-align: right;\n",
       "    }\n",
       "</style>\n",
       "<table border=\"1\" class=\"dataframe\">\n",
       "  <thead>\n",
       "    <tr style=\"text-align: right;\">\n",
       "      <th></th>\n",
       "      <th>Tweet ID</th>\n",
       "      <th>Entity</th>\n",
       "      <th>Sentiment</th>\n",
       "      <th>Tweet Content</th>\n",
       "    </tr>\n",
       "  </thead>\n",
       "  <tbody>\n",
       "    <tr>\n",
       "      <th>74677</th>\n",
       "      <td>9200</td>\n",
       "      <td>Nvidia</td>\n",
       "      <td>Positive</td>\n",
       "      <td>Just realized that the Windows partition of my...</td>\n",
       "    </tr>\n",
       "    <tr>\n",
       "      <th>74678</th>\n",
       "      <td>9200</td>\n",
       "      <td>Nvidia</td>\n",
       "      <td>Positive</td>\n",
       "      <td>Just realized that my Mac window partition is ...</td>\n",
       "    </tr>\n",
       "    <tr>\n",
       "      <th>74679</th>\n",
       "      <td>9200</td>\n",
       "      <td>Nvidia</td>\n",
       "      <td>Positive</td>\n",
       "      <td>Just realized the windows partition of my Mac ...</td>\n",
       "    </tr>\n",
       "    <tr>\n",
       "      <th>74680</th>\n",
       "      <td>9200</td>\n",
       "      <td>Nvidia</td>\n",
       "      <td>Positive</td>\n",
       "      <td>Just realized between the windows partition of...</td>\n",
       "    </tr>\n",
       "    <tr>\n",
       "      <th>74681</th>\n",
       "      <td>9200</td>\n",
       "      <td>Nvidia</td>\n",
       "      <td>Positive</td>\n",
       "      <td>Just like the windows partition of my Mac is l...</td>\n",
       "    </tr>\n",
       "  </tbody>\n",
       "</table>\n",
       "</div>"
      ],
      "text/plain": [
       "       Tweet ID  Entity Sentiment  \\\n",
       "74677      9200  Nvidia  Positive   \n",
       "74678      9200  Nvidia  Positive   \n",
       "74679      9200  Nvidia  Positive   \n",
       "74680      9200  Nvidia  Positive   \n",
       "74681      9200  Nvidia  Positive   \n",
       "\n",
       "                                           Tweet Content  \n",
       "74677  Just realized that the Windows partition of my...  \n",
       "74678  Just realized that my Mac window partition is ...  \n",
       "74679  Just realized the windows partition of my Mac ...  \n",
       "74680  Just realized between the windows partition of...  \n",
       "74681  Just like the windows partition of my Mac is l...  "
      ]
     },
     "execution_count": 8,
     "metadata": {},
     "output_type": "execute_result"
    }
   ],
   "source": [
    "twitter_validation.tail()"
   ]
  },
  {
   "cell_type": "code",
   "execution_count": 9,
   "id": "ee6ebb37",
   "metadata": {},
   "outputs": [
    {
     "name": "stdout",
     "output_type": "stream",
     "text": [
      "<class 'pandas.core.frame.DataFrame'>\n",
      "RangeIndex: 74682 entries, 0 to 74681\n",
      "Data columns (total 4 columns):\n",
      " #   Column         Non-Null Count  Dtype \n",
      "---  ------         --------------  ----- \n",
      " 0   Tweet ID       74682 non-null  int64 \n",
      " 1   Entity         74682 non-null  object\n",
      " 2   Sentiment      74682 non-null  object\n",
      " 3   Tweet Content  73996 non-null  object\n",
      "dtypes: int64(1), object(3)\n",
      "memory usage: 2.3+ MB\n"
     ]
    }
   ],
   "source": [
    "twitter_training.info()"
   ]
  },
  {
   "cell_type": "code",
   "execution_count": 10,
   "id": "36cab541",
   "metadata": {},
   "outputs": [
    {
     "data": {
      "text/plain": [
       "74682"
      ]
     },
     "execution_count": 10,
     "metadata": {},
     "output_type": "execute_result"
    }
   ],
   "source": [
    "len(twitter_training)"
   ]
  },
  {
   "cell_type": "code",
   "execution_count": 11,
   "id": "5f57ab4b",
   "metadata": {},
   "outputs": [
    {
     "data": {
      "text/html": [
       "<div>\n",
       "<style scoped>\n",
       "    .dataframe tbody tr th:only-of-type {\n",
       "        vertical-align: middle;\n",
       "    }\n",
       "\n",
       "    .dataframe tbody tr th {\n",
       "        vertical-align: top;\n",
       "    }\n",
       "\n",
       "    .dataframe thead th {\n",
       "        text-align: right;\n",
       "    }\n",
       "</style>\n",
       "<table border=\"1\" class=\"dataframe\">\n",
       "  <thead>\n",
       "    <tr style=\"text-align: right;\">\n",
       "      <th></th>\n",
       "      <th>Tweet ID</th>\n",
       "      <th>Entity</th>\n",
       "      <th>Sentiment</th>\n",
       "      <th>Tweet Content</th>\n",
       "    </tr>\n",
       "  </thead>\n",
       "  <tbody>\n",
       "    <tr>\n",
       "      <th>0</th>\n",
       "      <td>1</td>\n",
       "      <td>Borderlands</td>\n",
       "      <td>Positive</td>\n",
       "      <td>im getting on borderlands and i will murder yo...</td>\n",
       "    </tr>\n",
       "    <tr>\n",
       "      <th>1</th>\n",
       "      <td>2</td>\n",
       "      <td>Borderlands</td>\n",
       "      <td>Positive</td>\n",
       "      <td>I am coming to the borders and I will kill you...</td>\n",
       "    </tr>\n",
       "    <tr>\n",
       "      <th>2</th>\n",
       "      <td>3</td>\n",
       "      <td>Borderlands</td>\n",
       "      <td>Positive</td>\n",
       "      <td>im getting on borderlands and i will kill you ...</td>\n",
       "    </tr>\n",
       "    <tr>\n",
       "      <th>3</th>\n",
       "      <td>4</td>\n",
       "      <td>Borderlands</td>\n",
       "      <td>Positive</td>\n",
       "      <td>im coming on borderlands and i will murder you...</td>\n",
       "    </tr>\n",
       "    <tr>\n",
       "      <th>4</th>\n",
       "      <td>5</td>\n",
       "      <td>Borderlands</td>\n",
       "      <td>Positive</td>\n",
       "      <td>im getting on borderlands 2 and i will murder ...</td>\n",
       "    </tr>\n",
       "  </tbody>\n",
       "</table>\n",
       "</div>"
      ],
      "text/plain": [
       "   Tweet ID       Entity Sentiment  \\\n",
       "0         1  Borderlands  Positive   \n",
       "1         2  Borderlands  Positive   \n",
       "2         3  Borderlands  Positive   \n",
       "3         4  Borderlands  Positive   \n",
       "4         5  Borderlands  Positive   \n",
       "\n",
       "                                       Tweet Content  \n",
       "0  im getting on borderlands and i will murder yo...  \n",
       "1  I am coming to the borders and I will kill you...  \n",
       "2  im getting on borderlands and i will kill you ...  \n",
       "3  im coming on borderlands and i will murder you...  \n",
       "4  im getting on borderlands 2 and i will murder ...  "
      ]
     },
     "execution_count": 11,
     "metadata": {},
     "output_type": "execute_result"
    }
   ],
   "source": [
    "twitter_training[\"Tweet ID\"] = range(1, len(twitter_training) + 1)\n",
    "twitter_training.head()"
   ]
  },
  {
   "cell_type": "code",
   "execution_count": 12,
   "id": "9efd595c",
   "metadata": {},
   "outputs": [
    {
     "data": {
      "text/plain": [
       "pandas.core.frame.DataFrame"
      ]
     },
     "execution_count": 12,
     "metadata": {},
     "output_type": "execute_result"
    }
   ],
   "source": [
    "type(twitter_training)"
   ]
  },
  {
   "cell_type": "code",
   "execution_count": 13,
   "id": "a526369c",
   "metadata": {},
   "outputs": [
    {
     "data": {
      "text/plain": [
       "0        im getting on borderlands and i will murder yo...\n",
       "1        I am coming to the borders and I will kill you...\n",
       "2        im getting on borderlands and i will kill you ...\n",
       "3        im coming on borderlands and i will murder you...\n",
       "4        im getting on borderlands 2 and i will murder ...\n",
       "                               ...                        \n",
       "74677    Just realized that the Windows partition of my...\n",
       "74678    Just realized that my Mac window partition is ...\n",
       "74679    Just realized the windows partition of my Mac ...\n",
       "74680    Just realized between the windows partition of...\n",
       "74681    Just like the windows partition of my Mac is l...\n",
       "Name: Tweet Content, Length: 74682, dtype: object"
      ]
     },
     "execution_count": 13,
     "metadata": {},
     "output_type": "execute_result"
    }
   ],
   "source": [
    "twitter_training[\"Tweet Content\"]"
   ]
  },
  {
   "cell_type": "code",
   "execution_count": 14,
   "id": "24d464ec",
   "metadata": {},
   "outputs": [],
   "source": [
    "twitter_training.dropna(inplace=True)\n",
    "twitter_training.drop_duplicates(inplace=True)"
   ]
  },
  {
   "cell_type": "code",
   "execution_count": 15,
   "id": "8c2342ab",
   "metadata": {},
   "outputs": [
    {
     "name": "stdout",
     "output_type": "stream",
     "text": [
      "<class 'pandas.core.frame.DataFrame'>\n",
      "Int64Index: 73996 entries, 0 to 74681\n",
      "Data columns (total 4 columns):\n",
      " #   Column         Non-Null Count  Dtype \n",
      "---  ------         --------------  ----- \n",
      " 0   Tweet ID       73996 non-null  int64 \n",
      " 1   Entity         73996 non-null  object\n",
      " 2   Sentiment      73996 non-null  object\n",
      " 3   Tweet Content  73996 non-null  object\n",
      "dtypes: int64(1), object(3)\n",
      "memory usage: 2.8+ MB\n"
     ]
    }
   ],
   "source": [
    "twitter_training.info()"
   ]
  },
  {
   "cell_type": "code",
   "execution_count": 16,
   "id": "0b415111",
   "metadata": {},
   "outputs": [
    {
     "data": {
      "text/plain": [
       "73996"
      ]
     },
     "execution_count": 16,
     "metadata": {},
     "output_type": "execute_result"
    }
   ],
   "source": [
    "len(twitter_training)"
   ]
  },
  {
   "cell_type": "code",
   "execution_count": 17,
   "id": "0e1e6a61",
   "metadata": {},
   "outputs": [
    {
     "data": {
      "text/html": [
       "<div>\n",
       "<style scoped>\n",
       "    .dataframe tbody tr th:only-of-type {\n",
       "        vertical-align: middle;\n",
       "    }\n",
       "\n",
       "    .dataframe tbody tr th {\n",
       "        vertical-align: top;\n",
       "    }\n",
       "\n",
       "    .dataframe thead th {\n",
       "        text-align: right;\n",
       "    }\n",
       "</style>\n",
       "<table border=\"1\" class=\"dataframe\">\n",
       "  <thead>\n",
       "    <tr style=\"text-align: right;\">\n",
       "      <th></th>\n",
       "      <th>Tweet ID</th>\n",
       "      <th>Entity</th>\n",
       "      <th>Sentiment</th>\n",
       "      <th>Tweet Content</th>\n",
       "    </tr>\n",
       "  </thead>\n",
       "  <tbody>\n",
       "    <tr>\n",
       "      <th>0</th>\n",
       "      <td>1</td>\n",
       "      <td>Borderlands</td>\n",
       "      <td>Positive</td>\n",
       "      <td>im getting on borderlands and i will murder yo...</td>\n",
       "    </tr>\n",
       "    <tr>\n",
       "      <th>1</th>\n",
       "      <td>2</td>\n",
       "      <td>Borderlands</td>\n",
       "      <td>Positive</td>\n",
       "      <td>I am coming to the borders and I will kill you...</td>\n",
       "    </tr>\n",
       "    <tr>\n",
       "      <th>2</th>\n",
       "      <td>3</td>\n",
       "      <td>Borderlands</td>\n",
       "      <td>Positive</td>\n",
       "      <td>im getting on borderlands and i will kill you ...</td>\n",
       "    </tr>\n",
       "    <tr>\n",
       "      <th>3</th>\n",
       "      <td>4</td>\n",
       "      <td>Borderlands</td>\n",
       "      <td>Positive</td>\n",
       "      <td>im coming on borderlands and i will murder you...</td>\n",
       "    </tr>\n",
       "    <tr>\n",
       "      <th>4</th>\n",
       "      <td>5</td>\n",
       "      <td>Borderlands</td>\n",
       "      <td>Positive</td>\n",
       "      <td>im getting on borderlands 2 and i will murder ...</td>\n",
       "    </tr>\n",
       "  </tbody>\n",
       "</table>\n",
       "</div>"
      ],
      "text/plain": [
       "   Tweet ID       Entity Sentiment  \\\n",
       "0         1  Borderlands  Positive   \n",
       "1         2  Borderlands  Positive   \n",
       "2         3  Borderlands  Positive   \n",
       "3         4  Borderlands  Positive   \n",
       "4         5  Borderlands  Positive   \n",
       "\n",
       "                                       Tweet Content  \n",
       "0  im getting on borderlands and i will murder yo...  \n",
       "1  I am coming to the borders and I will kill you...  \n",
       "2  im getting on borderlands and i will kill you ...  \n",
       "3  im coming on borderlands and i will murder you...  \n",
       "4  im getting on borderlands 2 and i will murder ...  "
      ]
     },
     "execution_count": 17,
     "metadata": {},
     "output_type": "execute_result"
    }
   ],
   "source": [
    "twitter_training.head()"
   ]
  },
  {
   "cell_type": "markdown",
   "id": "6d55a182",
   "metadata": {},
   "source": [
    "## Make every tweet lowercase"
   ]
  },
  {
   "cell_type": "code",
   "execution_count": 18,
   "id": "0350aa05",
   "metadata": {},
   "outputs": [
    {
     "data": {
      "text/plain": [
       "0        im getting on borderlands and i will murder yo...\n",
       "1        I am coming to the borders and I will kill you...\n",
       "2        im getting on borderlands and i will kill you ...\n",
       "3        im coming on borderlands and i will murder you...\n",
       "4        im getting on borderlands 2 and i will murder ...\n",
       "                               ...                        \n",
       "74677    Just realized that the Windows partition of my...\n",
       "74678    Just realized that my Mac window partition is ...\n",
       "74679    Just realized the windows partition of my Mac ...\n",
       "74680    Just realized between the windows partition of...\n",
       "74681    Just like the windows partition of my Mac is l...\n",
       "Name: Tweet Content, Length: 73996, dtype: string"
      ]
     },
     "execution_count": 18,
     "metadata": {},
     "output_type": "execute_result"
    }
   ],
   "source": [
    "# making the data type into a string from an Object\n",
    "twitter_training[\"Tweet Content\"].astype('string')"
   ]
  },
  {
   "cell_type": "code",
   "execution_count": 19,
   "id": "9adc37e1",
   "metadata": {},
   "outputs": [
    {
     "name": "stdout",
     "output_type": "stream",
     "text": [
      "<class 'pandas.core.frame.DataFrame'>\n",
      "Int64Index: 73996 entries, 0 to 74681\n",
      "Data columns (total 4 columns):\n",
      " #   Column         Non-Null Count  Dtype \n",
      "---  ------         --------------  ----- \n",
      " 0   Tweet ID       73996 non-null  int64 \n",
      " 1   Entity         73996 non-null  object\n",
      " 2   Sentiment      73996 non-null  object\n",
      " 3   Tweet Content  73996 non-null  object\n",
      "dtypes: int64(1), object(3)\n",
      "memory usage: 2.8+ MB\n"
     ]
    }
   ],
   "source": [
    "twitter_training.info()"
   ]
  },
  {
   "cell_type": "code",
   "execution_count": 20,
   "id": "1b0f05d2",
   "metadata": {},
   "outputs": [],
   "source": [
    "Lower_tweet=twitter_training[\"Tweet Content\"].str.lower()"
   ]
  },
  {
   "cell_type": "code",
   "execution_count": 21,
   "id": "338acbd9",
   "metadata": {},
   "outputs": [
    {
     "data": {
      "text/plain": [
       "0    im getting on borderlands and i will murder yo...\n",
       "1    i am coming to the borders and i will kill you...\n",
       "2    im getting on borderlands and i will kill you ...\n",
       "3    im coming on borderlands and i will murder you...\n",
       "4    im getting on borderlands 2 and i will murder ...\n",
       "Name: Tweet Content, dtype: object"
      ]
     },
     "execution_count": 21,
     "metadata": {},
     "output_type": "execute_result"
    }
   ],
   "source": [
    "Lower_tweet.head()"
   ]
  },
  {
   "cell_type": "code",
   "execution_count": 22,
   "id": "ad6c9e81",
   "metadata": {},
   "outputs": [
    {
     "data": {
      "text/plain": [
       "'the atleast i have borderlands to come cheer me up : ('"
      ]
     },
     "execution_count": 22,
     "metadata": {},
     "output_type": "execute_result"
    }
   ],
   "source": [
    "#test if the string is now lowercase\n",
    "Lower_tweet.iloc[900]"
   ]
  },
  {
   "cell_type": "markdown",
   "id": "476d30bc",
   "metadata": {},
   "source": [
    "## Tokenize the data "
   ]
  },
  {
   "cell_type": "code",
   "execution_count": 23,
   "id": "7e3b1862",
   "metadata": {},
   "outputs": [],
   "source": [
    "Token_tweet_content=Lower_tweet"
   ]
  },
  {
   "cell_type": "code",
   "execution_count": 24,
   "id": "49757cf7",
   "metadata": {},
   "outputs": [
    {
     "data": {
      "text/plain": [
       "0    im getting on borderlands and i will murder yo...\n",
       "1    i am coming to the borders and i will kill you...\n",
       "2    im getting on borderlands and i will kill you ...\n",
       "3    im coming on borderlands and i will murder you...\n",
       "4    im getting on borderlands 2 and i will murder ...\n",
       "Name: Tweet Content, dtype: object"
      ]
     },
     "execution_count": 24,
     "metadata": {},
     "output_type": "execute_result"
    }
   ],
   "source": [
    "Token_tweet_content.head()"
   ]
  },
  {
   "cell_type": "code",
   "execution_count": 25,
   "id": "0fcfd02e",
   "metadata": {},
   "outputs": [
    {
     "data": {
      "text/plain": [
       "['i',\n",
       " 'am',\n",
       " 'coming',\n",
       " 'to',\n",
       " 'the',\n",
       " 'borders',\n",
       " 'and',\n",
       " 'i',\n",
       " 'will',\n",
       " 'kill',\n",
       " 'you',\n",
       " 'all,']"
      ]
     },
     "execution_count": 25,
     "metadata": {},
     "output_type": "execute_result"
    }
   ],
   "source": [
    "Token_tweet_content[1].split()"
   ]
  },
  {
   "cell_type": "code",
   "execution_count": 26,
   "id": "28f1223d",
   "metadata": {},
   "outputs": [],
   "source": [
    "token_pattern = r\"(?u)\\b\\w\\w+\\b\" #default token pattern\n",
    "tokenizer = RegexpTokenizer(token_pattern)"
   ]
  },
  {
   "cell_type": "code",
   "execution_count": 27,
   "id": "a1ad6ed7",
   "metadata": {},
   "outputs": [],
   "source": [
    "#Token_tweet_content2=Token_tweet_content[Token_tweet_content.columns[cols]]"
   ]
  },
  {
   "cell_type": "code",
   "execution_count": 28,
   "id": "16f23d3e",
   "metadata": {},
   "outputs": [
    {
     "data": {
      "text/plain": [
       "['atleast', 'have', 'borderlands', 'to', 'cheer', 'me', 'up']"
      ]
     },
     "execution_count": 28,
     "metadata": {},
     "output_type": "execute_result"
    }
   ],
   "source": [
    "tokenizer.tokenize(Token_tweet_content[900]) #test if the tokenizer removes emojis, bye bye "
   ]
  },
  {
   "cell_type": "code",
   "execution_count": 29,
   "id": "b8534762",
   "metadata": {},
   "outputs": [],
   "source": [
    "twitter_training[\"Tweet Content\"]=twitter_training[\"Tweet Content\"].str.lower()"
   ]
  },
  {
   "cell_type": "code",
   "execution_count": 30,
   "id": "37d7b228",
   "metadata": {},
   "outputs": [
    {
     "data": {
      "text/plain": [
       "Tweet ID                                                       905\n",
       "Entity                                                 Borderlands\n",
       "Sentiment                                                 Positive\n",
       "Tweet Content    the atleast i have borderlands to come cheer m...\n",
       "Name: 904, dtype: object"
      ]
     },
     "execution_count": 30,
     "metadata": {},
     "output_type": "execute_result"
    }
   ],
   "source": [
    "twitter_training.iloc[900] #test to see if the lowercase is the case for the data set"
   ]
  },
  {
   "cell_type": "code",
   "execution_count": 31,
   "id": "99d621f1",
   "metadata": {},
   "outputs": [
    {
     "data": {
      "text/html": [
       "<div>\n",
       "<style scoped>\n",
       "    .dataframe tbody tr th:only-of-type {\n",
       "        vertical-align: middle;\n",
       "    }\n",
       "\n",
       "    .dataframe tbody tr th {\n",
       "        vertical-align: top;\n",
       "    }\n",
       "\n",
       "    .dataframe thead th {\n",
       "        text-align: right;\n",
       "    }\n",
       "</style>\n",
       "<table border=\"1\" class=\"dataframe\">\n",
       "  <thead>\n",
       "    <tr style=\"text-align: right;\">\n",
       "      <th></th>\n",
       "      <th>Tweet ID</th>\n",
       "      <th>Entity</th>\n",
       "      <th>Sentiment</th>\n",
       "      <th>Tweet Content</th>\n",
       "    </tr>\n",
       "  </thead>\n",
       "  <tbody>\n",
       "    <tr>\n",
       "      <th>74675</th>\n",
       "      <td>74676</td>\n",
       "      <td>Nvidia</td>\n",
       "      <td>Positive</td>\n",
       "      <td>&lt;unk&gt; my elim be no.... nvidia highlights pict...</td>\n",
       "    </tr>\n",
       "    <tr>\n",
       "      <th>74676</th>\n",
       "      <td>74677</td>\n",
       "      <td>Nvidia</td>\n",
       "      <td>Positive</td>\n",
       "      <td>just realized the windows partition of my mac ...</td>\n",
       "    </tr>\n",
       "    <tr>\n",
       "      <th>74677</th>\n",
       "      <td>74678</td>\n",
       "      <td>Nvidia</td>\n",
       "      <td>Positive</td>\n",
       "      <td>just realized that the windows partition of my...</td>\n",
       "    </tr>\n",
       "    <tr>\n",
       "      <th>74678</th>\n",
       "      <td>74679</td>\n",
       "      <td>Nvidia</td>\n",
       "      <td>Positive</td>\n",
       "      <td>just realized that my mac window partition is ...</td>\n",
       "    </tr>\n",
       "    <tr>\n",
       "      <th>74679</th>\n",
       "      <td>74680</td>\n",
       "      <td>Nvidia</td>\n",
       "      <td>Positive</td>\n",
       "      <td>just realized the windows partition of my mac ...</td>\n",
       "    </tr>\n",
       "    <tr>\n",
       "      <th>74680</th>\n",
       "      <td>74681</td>\n",
       "      <td>Nvidia</td>\n",
       "      <td>Positive</td>\n",
       "      <td>just realized between the windows partition of...</td>\n",
       "    </tr>\n",
       "    <tr>\n",
       "      <th>74681</th>\n",
       "      <td>74682</td>\n",
       "      <td>Nvidia</td>\n",
       "      <td>Positive</td>\n",
       "      <td>just like the windows partition of my mac is l...</td>\n",
       "    </tr>\n",
       "  </tbody>\n",
       "</table>\n",
       "</div>"
      ],
      "text/plain": [
       "       Tweet ID  Entity Sentiment  \\\n",
       "74675     74676  Nvidia  Positive   \n",
       "74676     74677  Nvidia  Positive   \n",
       "74677     74678  Nvidia  Positive   \n",
       "74678     74679  Nvidia  Positive   \n",
       "74679     74680  Nvidia  Positive   \n",
       "74680     74681  Nvidia  Positive   \n",
       "74681     74682  Nvidia  Positive   \n",
       "\n",
       "                                           Tweet Content  \n",
       "74675  <unk> my elim be no.... nvidia highlights pict...  \n",
       "74676  just realized the windows partition of my mac ...  \n",
       "74677  just realized that the windows partition of my...  \n",
       "74678  just realized that my mac window partition is ...  \n",
       "74679  just realized the windows partition of my mac ...  \n",
       "74680  just realized between the windows partition of...  \n",
       "74681  just like the windows partition of my mac is l...  "
      ]
     },
     "execution_count": 31,
     "metadata": {},
     "output_type": "execute_result"
    }
   ],
   "source": [
    "twitter_training.tail(7) #lowercase has been removed"
   ]
  },
  {
   "cell_type": "code",
   "execution_count": 32,
   "id": "048df071",
   "metadata": {},
   "outputs": [
    {
     "data": {
      "text/plain": [
       "0    [im, getting, on, borderlands, and, will, murd...\n",
       "1    [am, coming, to, the, borders, and, will, kill...\n",
       "2    [im, getting, on, borderlands, and, will, kill...\n",
       "3    [im, coming, on, borderlands, and, will, murde...\n",
       "4    [im, getting, on, borderlands, and, will, murd...\n",
       "Name: Tokenized Tweets, dtype: object"
      ]
     },
     "execution_count": 32,
     "metadata": {},
     "output_type": "execute_result"
    }
   ],
   "source": [
    "twitter_training[\"Tokenized Tweets\"]= twitter_training[\"Tweet Content\"].apply(tokenizer.tokenize)\n",
    "twitter_training[\"Tokenized Tweets\"].head()"
   ]
  },
  {
   "cell_type": "code",
   "execution_count": 33,
   "id": "b8786e6a",
   "metadata": {},
   "outputs": [
    {
     "data": {
      "text/html": [
       "<div>\n",
       "<style scoped>\n",
       "    .dataframe tbody tr th:only-of-type {\n",
       "        vertical-align: middle;\n",
       "    }\n",
       "\n",
       "    .dataframe tbody tr th {\n",
       "        vertical-align: top;\n",
       "    }\n",
       "\n",
       "    .dataframe thead th {\n",
       "        text-align: right;\n",
       "    }\n",
       "</style>\n",
       "<table border=\"1\" class=\"dataframe\">\n",
       "  <thead>\n",
       "    <tr style=\"text-align: right;\">\n",
       "      <th></th>\n",
       "      <th>Tweet ID</th>\n",
       "      <th>Entity</th>\n",
       "      <th>Sentiment</th>\n",
       "      <th>Tweet Content</th>\n",
       "      <th>Tokenized Tweets</th>\n",
       "    </tr>\n",
       "  </thead>\n",
       "  <tbody>\n",
       "    <tr>\n",
       "      <th>74662</th>\n",
       "      <td>74663</td>\n",
       "      <td>Nvidia</td>\n",
       "      <td>Neutral</td>\n",
       "      <td>nvidia therefore doesn ’ t want to give up its...</td>\n",
       "      <td>[nvidia, therefore, doesn, want, to, give, up,...</td>\n",
       "    </tr>\n",
       "    <tr>\n",
       "      <th>74663</th>\n",
       "      <td>74664</td>\n",
       "      <td>Nvidia</td>\n",
       "      <td>Neutral</td>\n",
       "      <td>is doesn’t should i give up its password ‘cryp...</td>\n",
       "      <td>[is, doesn, should, give, up, its, password, c...</td>\n",
       "    </tr>\n",
       "    <tr>\n",
       "      <th>74664</th>\n",
       "      <td>74665</td>\n",
       "      <td>Nvidia</td>\n",
       "      <td>Negative</td>\n",
       "      <td>nvidia really delayed the 3070 2 weeks .</td>\n",
       "      <td>[nvidia, really, delayed, the, 3070, weeks]</td>\n",
       "    </tr>\n",
       "    <tr>\n",
       "      <th>74665</th>\n",
       "      <td>74666</td>\n",
       "      <td>Nvidia</td>\n",
       "      <td>Negative</td>\n",
       "      <td>nvidia really delayed the 3070 by 2 weeks.</td>\n",
       "      <td>[nvidia, really, delayed, the, 3070, by, weeks]</td>\n",
       "    </tr>\n",
       "    <tr>\n",
       "      <th>74666</th>\n",
       "      <td>74667</td>\n",
       "      <td>Nvidia</td>\n",
       "      <td>Negative</td>\n",
       "      <td>nvidia did delay by 3070 2 weeks.</td>\n",
       "      <td>[nvidia, did, delay, by, 3070, weeks]</td>\n",
       "    </tr>\n",
       "    <tr>\n",
       "      <th>74667</th>\n",
       "      <td>74668</td>\n",
       "      <td>Nvidia</td>\n",
       "      <td>Negative</td>\n",
       "      <td>nvidia really delayed the 3070 several weeks.</td>\n",
       "      <td>[nvidia, really, delayed, the, 3070, several, ...</td>\n",
       "    </tr>\n",
       "    <tr>\n",
       "      <th>74668</th>\n",
       "      <td>74669</td>\n",
       "      <td>Nvidia</td>\n",
       "      <td>Negative</td>\n",
       "      <td>nvidia really only delayed the 3070 2 flight w...</td>\n",
       "      <td>[nvidia, really, only, delayed, the, 3070, fli...</td>\n",
       "    </tr>\n",
       "    <tr>\n",
       "      <th>74669</th>\n",
       "      <td>74670</td>\n",
       "      <td>Nvidia</td>\n",
       "      <td>Negative</td>\n",
       "      <td>nvidia really delayed the next 2 weeks.</td>\n",
       "      <td>[nvidia, really, delayed, the, next, weeks]</td>\n",
       "    </tr>\n",
       "    <tr>\n",
       "      <th>74670</th>\n",
       "      <td>74671</td>\n",
       "      <td>Nvidia</td>\n",
       "      <td>Positive</td>\n",
       "      <td>let no elim go unnoticed. . . . nvidia highlig...</td>\n",
       "      <td>[let, no, elim, go, unnoticed, nvidia, highlig...</td>\n",
       "    </tr>\n",
       "    <tr>\n",
       "      <th>74671</th>\n",
       "      <td>74672</td>\n",
       "      <td>Nvidia</td>\n",
       "      <td>Positive</td>\n",
       "      <td>t let elim go unnoticed.... nvidia highlights ...</td>\n",
       "      <td>[let, elim, go, unnoticed, nvidia, highlights,...</td>\n",
       "    </tr>\n",
       "    <tr>\n",
       "      <th>74672</th>\n",
       "      <td>74673</td>\n",
       "      <td>Nvidia</td>\n",
       "      <td>Positive</td>\n",
       "      <td>let no elite go unnoticed... nvidia highlights...</td>\n",
       "      <td>[let, no, elite, go, unnoticed, nvidia, highli...</td>\n",
       "    </tr>\n",
       "    <tr>\n",
       "      <th>74673</th>\n",
       "      <td>74674</td>\n",
       "      <td>Nvidia</td>\n",
       "      <td>Positive</td>\n",
       "      <td>let no elim go unnoticed.... nvidia highlights...</td>\n",
       "      <td>[let, no, elim, go, unnoticed, nvidia, highlig...</td>\n",
       "    </tr>\n",
       "    <tr>\n",
       "      <th>74674</th>\n",
       "      <td>74675</td>\n",
       "      <td>Nvidia</td>\n",
       "      <td>Positive</td>\n",
       "      <td>let a no information elim that go unnoticed......</td>\n",
       "      <td>[let, no, information, elim, that, go, unnotic...</td>\n",
       "    </tr>\n",
       "    <tr>\n",
       "      <th>74675</th>\n",
       "      <td>74676</td>\n",
       "      <td>Nvidia</td>\n",
       "      <td>Positive</td>\n",
       "      <td>&lt;unk&gt; my elim be no.... nvidia highlights pict...</td>\n",
       "      <td>[unk, my, elim, be, no, nvidia, highlights, pi...</td>\n",
       "    </tr>\n",
       "    <tr>\n",
       "      <th>74676</th>\n",
       "      <td>74677</td>\n",
       "      <td>Nvidia</td>\n",
       "      <td>Positive</td>\n",
       "      <td>just realized the windows partition of my mac ...</td>\n",
       "      <td>[just, realized, the, windows, partition, of, ...</td>\n",
       "    </tr>\n",
       "    <tr>\n",
       "      <th>74677</th>\n",
       "      <td>74678</td>\n",
       "      <td>Nvidia</td>\n",
       "      <td>Positive</td>\n",
       "      <td>just realized that the windows partition of my...</td>\n",
       "      <td>[just, realized, that, the, windows, partition...</td>\n",
       "    </tr>\n",
       "    <tr>\n",
       "      <th>74678</th>\n",
       "      <td>74679</td>\n",
       "      <td>Nvidia</td>\n",
       "      <td>Positive</td>\n",
       "      <td>just realized that my mac window partition is ...</td>\n",
       "      <td>[just, realized, that, my, mac, window, partit...</td>\n",
       "    </tr>\n",
       "    <tr>\n",
       "      <th>74679</th>\n",
       "      <td>74680</td>\n",
       "      <td>Nvidia</td>\n",
       "      <td>Positive</td>\n",
       "      <td>just realized the windows partition of my mac ...</td>\n",
       "      <td>[just, realized, the, windows, partition, of, ...</td>\n",
       "    </tr>\n",
       "    <tr>\n",
       "      <th>74680</th>\n",
       "      <td>74681</td>\n",
       "      <td>Nvidia</td>\n",
       "      <td>Positive</td>\n",
       "      <td>just realized between the windows partition of...</td>\n",
       "      <td>[just, realized, between, the, windows, partit...</td>\n",
       "    </tr>\n",
       "    <tr>\n",
       "      <th>74681</th>\n",
       "      <td>74682</td>\n",
       "      <td>Nvidia</td>\n",
       "      <td>Positive</td>\n",
       "      <td>just like the windows partition of my mac is l...</td>\n",
       "      <td>[just, like, the, windows, partition, of, my, ...</td>\n",
       "    </tr>\n",
       "  </tbody>\n",
       "</table>\n",
       "</div>"
      ],
      "text/plain": [
       "       Tweet ID  Entity Sentiment  \\\n",
       "74662     74663  Nvidia   Neutral   \n",
       "74663     74664  Nvidia   Neutral   \n",
       "74664     74665  Nvidia  Negative   \n",
       "74665     74666  Nvidia  Negative   \n",
       "74666     74667  Nvidia  Negative   \n",
       "74667     74668  Nvidia  Negative   \n",
       "74668     74669  Nvidia  Negative   \n",
       "74669     74670  Nvidia  Negative   \n",
       "74670     74671  Nvidia  Positive   \n",
       "74671     74672  Nvidia  Positive   \n",
       "74672     74673  Nvidia  Positive   \n",
       "74673     74674  Nvidia  Positive   \n",
       "74674     74675  Nvidia  Positive   \n",
       "74675     74676  Nvidia  Positive   \n",
       "74676     74677  Nvidia  Positive   \n",
       "74677     74678  Nvidia  Positive   \n",
       "74678     74679  Nvidia  Positive   \n",
       "74679     74680  Nvidia  Positive   \n",
       "74680     74681  Nvidia  Positive   \n",
       "74681     74682  Nvidia  Positive   \n",
       "\n",
       "                                           Tweet Content  \\\n",
       "74662  nvidia therefore doesn ’ t want to give up its...   \n",
       "74663  is doesn’t should i give up its password ‘cryp...   \n",
       "74664          nvidia really delayed the 3070 2 weeks .    \n",
       "74665         nvidia really delayed the 3070 by 2 weeks.   \n",
       "74666                  nvidia did delay by 3070 2 weeks.   \n",
       "74667      nvidia really delayed the 3070 several weeks.   \n",
       "74668  nvidia really only delayed the 3070 2 flight w...   \n",
       "74669            nvidia really delayed the next 2 weeks.   \n",
       "74670  let no elim go unnoticed. . . . nvidia highlig...   \n",
       "74671  t let elim go unnoticed.... nvidia highlights ...   \n",
       "74672  let no elite go unnoticed... nvidia highlights...   \n",
       "74673  let no elim go unnoticed.... nvidia highlights...   \n",
       "74674  let a no information elim that go unnoticed......   \n",
       "74675  <unk> my elim be no.... nvidia highlights pict...   \n",
       "74676  just realized the windows partition of my mac ...   \n",
       "74677  just realized that the windows partition of my...   \n",
       "74678  just realized that my mac window partition is ...   \n",
       "74679  just realized the windows partition of my mac ...   \n",
       "74680  just realized between the windows partition of...   \n",
       "74681  just like the windows partition of my mac is l...   \n",
       "\n",
       "                                        Tokenized Tweets  \n",
       "74662  [nvidia, therefore, doesn, want, to, give, up,...  \n",
       "74663  [is, doesn, should, give, up, its, password, c...  \n",
       "74664        [nvidia, really, delayed, the, 3070, weeks]  \n",
       "74665    [nvidia, really, delayed, the, 3070, by, weeks]  \n",
       "74666              [nvidia, did, delay, by, 3070, weeks]  \n",
       "74667  [nvidia, really, delayed, the, 3070, several, ...  \n",
       "74668  [nvidia, really, only, delayed, the, 3070, fli...  \n",
       "74669        [nvidia, really, delayed, the, next, weeks]  \n",
       "74670  [let, no, elim, go, unnoticed, nvidia, highlig...  \n",
       "74671  [let, elim, go, unnoticed, nvidia, highlights,...  \n",
       "74672  [let, no, elite, go, unnoticed, nvidia, highli...  \n",
       "74673  [let, no, elim, go, unnoticed, nvidia, highlig...  \n",
       "74674  [let, no, information, elim, that, go, unnotic...  \n",
       "74675  [unk, my, elim, be, no, nvidia, highlights, pi...  \n",
       "74676  [just, realized, the, windows, partition, of, ...  \n",
       "74677  [just, realized, that, the, windows, partition...  \n",
       "74678  [just, realized, that, my, mac, window, partit...  \n",
       "74679  [just, realized, the, windows, partition, of, ...  \n",
       "74680  [just, realized, between, the, windows, partit...  \n",
       "74681  [just, like, the, windows, partition, of, my, ...  "
      ]
     },
     "execution_count": 33,
     "metadata": {},
     "output_type": "execute_result"
    }
   ],
   "source": [
    "twitter_training.tail(20) #here we have the new column entry"
   ]
  },
  {
   "cell_type": "markdown",
   "id": "8671f85a",
   "metadata": {},
   "source": [
    "From the sample above, there are words like 'the, and of'. Emojis and punctuation have been removed and it is lowercase for now. "
   ]
  },
  {
   "cell_type": "markdown",
   "id": "c0f63c5f",
   "metadata": {},
   "source": [
    "## Stopword Removal"
   ]
  },
  {
   "cell_type": "markdown",
   "id": "523da986",
   "metadata": {},
   "source": [
    "Import stopwords from the library"
   ]
  },
  {
   "cell_type": "code",
   "execution_count": 34,
   "id": "2121f4eb",
   "metadata": {},
   "outputs": [
    {
     "name": "stderr",
     "output_type": "stream",
     "text": [
      "[nltk_data] Downloading package stopwords to\n",
      "[nltk_data]     C:\\Users\\jabrahmbhatt\\AppData\\Roaming\\nltk_data...\n",
      "[nltk_data]   Package stopwords is already up-to-date!\n"
     ]
    },
    {
     "data": {
      "text/plain": [
       "True"
      ]
     },
     "execution_count": 34,
     "metadata": {},
     "output_type": "execute_result"
    }
   ],
   "source": [
    "from nltk.corpus import stopwords\n",
    "nltk.download('stopwords') #download list of stopwords"
   ]
  },
  {
   "cell_type": "code",
   "execution_count": 35,
   "id": "77698a06",
   "metadata": {},
   "outputs": [
    {
     "data": {
      "text/plain": [
       "['i',\n",
       " 'me',\n",
       " 'my',\n",
       " 'myself',\n",
       " 'we',\n",
       " 'our',\n",
       " 'ours',\n",
       " 'ourselves',\n",
       " 'you',\n",
       " \"you're\",\n",
       " \"you've\",\n",
       " \"you'll\",\n",
       " \"you'd\",\n",
       " 'your',\n",
       " 'yours',\n",
       " 'yourself',\n",
       " 'yourselves',\n",
       " 'he',\n",
       " 'him',\n",
       " 'his',\n",
       " 'himself',\n",
       " 'she',\n",
       " \"she's\",\n",
       " 'her',\n",
       " 'hers',\n",
       " 'herself',\n",
       " 'it',\n",
       " \"it's\",\n",
       " 'its',\n",
       " 'itself',\n",
       " 'they',\n",
       " 'them',\n",
       " 'their',\n",
       " 'theirs',\n",
       " 'themselves',\n",
       " 'what',\n",
       " 'which',\n",
       " 'who',\n",
       " 'whom',\n",
       " 'this',\n",
       " 'that',\n",
       " \"that'll\",\n",
       " 'these',\n",
       " 'those',\n",
       " 'am',\n",
       " 'is',\n",
       " 'are',\n",
       " 'was',\n",
       " 'were',\n",
       " 'be',\n",
       " 'been',\n",
       " 'being',\n",
       " 'have',\n",
       " 'has',\n",
       " 'had',\n",
       " 'having',\n",
       " 'do',\n",
       " 'does',\n",
       " 'did',\n",
       " 'doing',\n",
       " 'a',\n",
       " 'an',\n",
       " 'the',\n",
       " 'and',\n",
       " 'but',\n",
       " 'if',\n",
       " 'or',\n",
       " 'because',\n",
       " 'as',\n",
       " 'until',\n",
       " 'while',\n",
       " 'of',\n",
       " 'at',\n",
       " 'by',\n",
       " 'for',\n",
       " 'with',\n",
       " 'about',\n",
       " 'against',\n",
       " 'between',\n",
       " 'into',\n",
       " 'through',\n",
       " 'during',\n",
       " 'before',\n",
       " 'after',\n",
       " 'above',\n",
       " 'below',\n",
       " 'to',\n",
       " 'from',\n",
       " 'up',\n",
       " 'down',\n",
       " 'in',\n",
       " 'out',\n",
       " 'on',\n",
       " 'off',\n",
       " 'over',\n",
       " 'under',\n",
       " 'again',\n",
       " 'further',\n",
       " 'then',\n",
       " 'once',\n",
       " 'here',\n",
       " 'there',\n",
       " 'when',\n",
       " 'where',\n",
       " 'why',\n",
       " 'how',\n",
       " 'all',\n",
       " 'any',\n",
       " 'both',\n",
       " 'each',\n",
       " 'few',\n",
       " 'more',\n",
       " 'most',\n",
       " 'other',\n",
       " 'some',\n",
       " 'such',\n",
       " 'no',\n",
       " 'nor',\n",
       " 'not',\n",
       " 'only',\n",
       " 'own',\n",
       " 'same',\n",
       " 'so',\n",
       " 'than',\n",
       " 'too',\n",
       " 'very',\n",
       " 's',\n",
       " 't',\n",
       " 'can',\n",
       " 'will',\n",
       " 'just',\n",
       " 'don',\n",
       " \"don't\",\n",
       " 'should',\n",
       " \"should've\",\n",
       " 'now',\n",
       " 'd',\n",
       " 'll',\n",
       " 'm',\n",
       " 'o',\n",
       " 're',\n",
       " 've',\n",
       " 'y',\n",
       " 'ain',\n",
       " 'aren',\n",
       " \"aren't\",\n",
       " 'couldn',\n",
       " \"couldn't\",\n",
       " 'didn',\n",
       " \"didn't\",\n",
       " 'doesn',\n",
       " \"doesn't\",\n",
       " 'hadn',\n",
       " \"hadn't\",\n",
       " 'hasn',\n",
       " \"hasn't\",\n",
       " 'haven',\n",
       " \"haven't\",\n",
       " 'isn',\n",
       " \"isn't\",\n",
       " 'ma',\n",
       " 'mightn',\n",
       " \"mightn't\",\n",
       " 'mustn',\n",
       " \"mustn't\",\n",
       " 'needn',\n",
       " \"needn't\",\n",
       " 'shan',\n",
       " \"shan't\",\n",
       " 'shouldn',\n",
       " \"shouldn't\",\n",
       " 'wasn',\n",
       " \"wasn't\",\n",
       " 'weren',\n",
       " \"weren't\",\n",
       " 'won',\n",
       " \"won't\",\n",
       " 'wouldn',\n",
       " \"wouldn't\"]"
      ]
     },
     "execution_count": 35,
     "metadata": {},
     "output_type": "execute_result"
    }
   ],
   "source": [
    "stopwords.words('English') #List of Stopwords library"
   ]
  },
  {
   "cell_type": "code",
   "execution_count": 36,
   "id": "e97e3f3a",
   "metadata": {},
   "outputs": [],
   "source": [
    "stopwords_list=stopwords.words('English')"
   ]
  },
  {
   "cell_type": "code",
   "execution_count": 37,
   "id": "2701e75a",
   "metadata": {},
   "outputs": [],
   "source": [
    "stopwords_list.append('com')  #this is added to the list after a freq distribution showed \"com\" at the top of the list\n",
    "# 'com' added to the list tells us nothing, so we have decided to remove it"
   ]
  },
  {
   "cell_type": "code",
   "execution_count": 38,
   "id": "a6dc77c7",
   "metadata": {},
   "outputs": [],
   "source": [
    "#twitter_training[\"No STWD\"]= [word for word in twitter_training[\"Tokenized Tweets\"] if not word in stopwords.words()]\n",
    "#Create a function to remove stopwords\n",
    "def remove_stopwords(word_list):\n",
    "\n",
    "    stopwords_removed= [word for word in word_list if word not in stopwords_list]\n",
    "    return stopwords_removed\n"
   ]
  },
  {
   "cell_type": "code",
   "execution_count": 39,
   "id": "aac901ab",
   "metadata": {},
   "outputs": [],
   "source": [
    "twitter_training[\"No STWD\"]= twitter_training[\"Tokenized Tweets\"].apply(remove_stopwords)"
   ]
  },
  {
   "cell_type": "code",
   "execution_count": 40,
   "id": "17839357",
   "metadata": {},
   "outputs": [
    {
     "data": {
      "text/html": [
       "<div>\n",
       "<style scoped>\n",
       "    .dataframe tbody tr th:only-of-type {\n",
       "        vertical-align: middle;\n",
       "    }\n",
       "\n",
       "    .dataframe tbody tr th {\n",
       "        vertical-align: top;\n",
       "    }\n",
       "\n",
       "    .dataframe thead th {\n",
       "        text-align: right;\n",
       "    }\n",
       "</style>\n",
       "<table border=\"1\" class=\"dataframe\">\n",
       "  <thead>\n",
       "    <tr style=\"text-align: right;\">\n",
       "      <th></th>\n",
       "      <th>Tweet ID</th>\n",
       "      <th>Entity</th>\n",
       "      <th>Sentiment</th>\n",
       "      <th>Tweet Content</th>\n",
       "      <th>Tokenized Tweets</th>\n",
       "      <th>No STWD</th>\n",
       "    </tr>\n",
       "  </thead>\n",
       "  <tbody>\n",
       "    <tr>\n",
       "      <th>74662</th>\n",
       "      <td>74663</td>\n",
       "      <td>Nvidia</td>\n",
       "      <td>Neutral</td>\n",
       "      <td>nvidia therefore doesn ’ t want to give up its...</td>\n",
       "      <td>[nvidia, therefore, doesn, want, to, give, up,...</td>\n",
       "      <td>[nvidia, therefore, want, give, 2017, crypto, ...</td>\n",
       "    </tr>\n",
       "    <tr>\n",
       "      <th>74663</th>\n",
       "      <td>74664</td>\n",
       "      <td>Nvidia</td>\n",
       "      <td>Neutral</td>\n",
       "      <td>is doesn’t should i give up its password ‘cryp...</td>\n",
       "      <td>[is, doesn, should, give, up, its, password, c...</td>\n",
       "      <td>[give, password, crypto, wallet, docs, maxbit,...</td>\n",
       "    </tr>\n",
       "    <tr>\n",
       "      <th>74664</th>\n",
       "      <td>74665</td>\n",
       "      <td>Nvidia</td>\n",
       "      <td>Negative</td>\n",
       "      <td>nvidia really delayed the 3070 2 weeks .</td>\n",
       "      <td>[nvidia, really, delayed, the, 3070, weeks]</td>\n",
       "      <td>[nvidia, really, delayed, 3070, weeks]</td>\n",
       "    </tr>\n",
       "    <tr>\n",
       "      <th>74665</th>\n",
       "      <td>74666</td>\n",
       "      <td>Nvidia</td>\n",
       "      <td>Negative</td>\n",
       "      <td>nvidia really delayed the 3070 by 2 weeks.</td>\n",
       "      <td>[nvidia, really, delayed, the, 3070, by, weeks]</td>\n",
       "      <td>[nvidia, really, delayed, 3070, weeks]</td>\n",
       "    </tr>\n",
       "    <tr>\n",
       "      <th>74666</th>\n",
       "      <td>74667</td>\n",
       "      <td>Nvidia</td>\n",
       "      <td>Negative</td>\n",
       "      <td>nvidia did delay by 3070 2 weeks.</td>\n",
       "      <td>[nvidia, did, delay, by, 3070, weeks]</td>\n",
       "      <td>[nvidia, delay, 3070, weeks]</td>\n",
       "    </tr>\n",
       "    <tr>\n",
       "      <th>74667</th>\n",
       "      <td>74668</td>\n",
       "      <td>Nvidia</td>\n",
       "      <td>Negative</td>\n",
       "      <td>nvidia really delayed the 3070 several weeks.</td>\n",
       "      <td>[nvidia, really, delayed, the, 3070, several, ...</td>\n",
       "      <td>[nvidia, really, delayed, 3070, several, weeks]</td>\n",
       "    </tr>\n",
       "    <tr>\n",
       "      <th>74668</th>\n",
       "      <td>74669</td>\n",
       "      <td>Nvidia</td>\n",
       "      <td>Negative</td>\n",
       "      <td>nvidia really only delayed the 3070 2 flight w...</td>\n",
       "      <td>[nvidia, really, only, delayed, the, 3070, fli...</td>\n",
       "      <td>[nvidia, really, delayed, 3070, flight, weeks]</td>\n",
       "    </tr>\n",
       "    <tr>\n",
       "      <th>74669</th>\n",
       "      <td>74670</td>\n",
       "      <td>Nvidia</td>\n",
       "      <td>Negative</td>\n",
       "      <td>nvidia really delayed the next 2 weeks.</td>\n",
       "      <td>[nvidia, really, delayed, the, next, weeks]</td>\n",
       "      <td>[nvidia, really, delayed, next, weeks]</td>\n",
       "    </tr>\n",
       "    <tr>\n",
       "      <th>74670</th>\n",
       "      <td>74671</td>\n",
       "      <td>Nvidia</td>\n",
       "      <td>Positive</td>\n",
       "      <td>let no elim go unnoticed. . . . nvidia highlig...</td>\n",
       "      <td>[let, no, elim, go, unnoticed, nvidia, highlig...</td>\n",
       "      <td>[let, elim, go, unnoticed, nvidia, highlights,...</td>\n",
       "    </tr>\n",
       "    <tr>\n",
       "      <th>74671</th>\n",
       "      <td>74672</td>\n",
       "      <td>Nvidia</td>\n",
       "      <td>Positive</td>\n",
       "      <td>t let elim go unnoticed.... nvidia highlights ...</td>\n",
       "      <td>[let, elim, go, unnoticed, nvidia, highlights,...</td>\n",
       "      <td>[let, elim, go, unnoticed, nvidia, highlights,...</td>\n",
       "    </tr>\n",
       "    <tr>\n",
       "      <th>74672</th>\n",
       "      <td>74673</td>\n",
       "      <td>Nvidia</td>\n",
       "      <td>Positive</td>\n",
       "      <td>let no elite go unnoticed... nvidia highlights...</td>\n",
       "      <td>[let, no, elite, go, unnoticed, nvidia, highli...</td>\n",
       "      <td>[let, elite, go, unnoticed, nvidia, highlights...</td>\n",
       "    </tr>\n",
       "    <tr>\n",
       "      <th>74673</th>\n",
       "      <td>74674</td>\n",
       "      <td>Nvidia</td>\n",
       "      <td>Positive</td>\n",
       "      <td>let no elim go unnoticed.... nvidia highlights...</td>\n",
       "      <td>[let, no, elim, go, unnoticed, nvidia, highlig...</td>\n",
       "      <td>[let, elim, go, unnoticed, nvidia, highlights,...</td>\n",
       "    </tr>\n",
       "    <tr>\n",
       "      <th>74674</th>\n",
       "      <td>74675</td>\n",
       "      <td>Nvidia</td>\n",
       "      <td>Positive</td>\n",
       "      <td>let a no information elim that go unnoticed......</td>\n",
       "      <td>[let, no, information, elim, that, go, unnotic...</td>\n",
       "      <td>[let, information, elim, go, unnoticed, nvidia...</td>\n",
       "    </tr>\n",
       "    <tr>\n",
       "      <th>74675</th>\n",
       "      <td>74676</td>\n",
       "      <td>Nvidia</td>\n",
       "      <td>Positive</td>\n",
       "      <td>&lt;unk&gt; my elim be no.... nvidia highlights pict...</td>\n",
       "      <td>[unk, my, elim, be, no, nvidia, highlights, pi...</td>\n",
       "      <td>[unk, elim, nvidia, highlights, pictures, reve...</td>\n",
       "    </tr>\n",
       "    <tr>\n",
       "      <th>74676</th>\n",
       "      <td>74677</td>\n",
       "      <td>Nvidia</td>\n",
       "      <td>Positive</td>\n",
       "      <td>just realized the windows partition of my mac ...</td>\n",
       "      <td>[just, realized, the, windows, partition, of, ...</td>\n",
       "      <td>[realized, windows, partition, mac, like, year...</td>\n",
       "    </tr>\n",
       "    <tr>\n",
       "      <th>74677</th>\n",
       "      <td>74678</td>\n",
       "      <td>Nvidia</td>\n",
       "      <td>Positive</td>\n",
       "      <td>just realized that the windows partition of my...</td>\n",
       "      <td>[just, realized, that, the, windows, partition...</td>\n",
       "      <td>[realized, windows, partition, mac, like, year...</td>\n",
       "    </tr>\n",
       "    <tr>\n",
       "      <th>74678</th>\n",
       "      <td>74679</td>\n",
       "      <td>Nvidia</td>\n",
       "      <td>Positive</td>\n",
       "      <td>just realized that my mac window partition is ...</td>\n",
       "      <td>[just, realized, that, my, mac, window, partit...</td>\n",
       "      <td>[realized, mac, window, partition, years, behi...</td>\n",
       "    </tr>\n",
       "    <tr>\n",
       "      <th>74679</th>\n",
       "      <td>74680</td>\n",
       "      <td>Nvidia</td>\n",
       "      <td>Positive</td>\n",
       "      <td>just realized the windows partition of my mac ...</td>\n",
       "      <td>[just, realized, the, windows, partition, of, ...</td>\n",
       "      <td>[realized, windows, partition, mac, years, beh...</td>\n",
       "    </tr>\n",
       "    <tr>\n",
       "      <th>74680</th>\n",
       "      <td>74681</td>\n",
       "      <td>Nvidia</td>\n",
       "      <td>Positive</td>\n",
       "      <td>just realized between the windows partition of...</td>\n",
       "      <td>[just, realized, between, the, windows, partit...</td>\n",
       "      <td>[realized, windows, partition, mac, like, year...</td>\n",
       "    </tr>\n",
       "    <tr>\n",
       "      <th>74681</th>\n",
       "      <td>74682</td>\n",
       "      <td>Nvidia</td>\n",
       "      <td>Positive</td>\n",
       "      <td>just like the windows partition of my mac is l...</td>\n",
       "      <td>[just, like, the, windows, partition, of, my, ...</td>\n",
       "      <td>[like, windows, partition, mac, like, years, b...</td>\n",
       "    </tr>\n",
       "  </tbody>\n",
       "</table>\n",
       "</div>"
      ],
      "text/plain": [
       "       Tweet ID  Entity Sentiment  \\\n",
       "74662     74663  Nvidia   Neutral   \n",
       "74663     74664  Nvidia   Neutral   \n",
       "74664     74665  Nvidia  Negative   \n",
       "74665     74666  Nvidia  Negative   \n",
       "74666     74667  Nvidia  Negative   \n",
       "74667     74668  Nvidia  Negative   \n",
       "74668     74669  Nvidia  Negative   \n",
       "74669     74670  Nvidia  Negative   \n",
       "74670     74671  Nvidia  Positive   \n",
       "74671     74672  Nvidia  Positive   \n",
       "74672     74673  Nvidia  Positive   \n",
       "74673     74674  Nvidia  Positive   \n",
       "74674     74675  Nvidia  Positive   \n",
       "74675     74676  Nvidia  Positive   \n",
       "74676     74677  Nvidia  Positive   \n",
       "74677     74678  Nvidia  Positive   \n",
       "74678     74679  Nvidia  Positive   \n",
       "74679     74680  Nvidia  Positive   \n",
       "74680     74681  Nvidia  Positive   \n",
       "74681     74682  Nvidia  Positive   \n",
       "\n",
       "                                           Tweet Content  \\\n",
       "74662  nvidia therefore doesn ’ t want to give up its...   \n",
       "74663  is doesn’t should i give up its password ‘cryp...   \n",
       "74664          nvidia really delayed the 3070 2 weeks .    \n",
       "74665         nvidia really delayed the 3070 by 2 weeks.   \n",
       "74666                  nvidia did delay by 3070 2 weeks.   \n",
       "74667      nvidia really delayed the 3070 several weeks.   \n",
       "74668  nvidia really only delayed the 3070 2 flight w...   \n",
       "74669            nvidia really delayed the next 2 weeks.   \n",
       "74670  let no elim go unnoticed. . . . nvidia highlig...   \n",
       "74671  t let elim go unnoticed.... nvidia highlights ...   \n",
       "74672  let no elite go unnoticed... nvidia highlights...   \n",
       "74673  let no elim go unnoticed.... nvidia highlights...   \n",
       "74674  let a no information elim that go unnoticed......   \n",
       "74675  <unk> my elim be no.... nvidia highlights pict...   \n",
       "74676  just realized the windows partition of my mac ...   \n",
       "74677  just realized that the windows partition of my...   \n",
       "74678  just realized that my mac window partition is ...   \n",
       "74679  just realized the windows partition of my mac ...   \n",
       "74680  just realized between the windows partition of...   \n",
       "74681  just like the windows partition of my mac is l...   \n",
       "\n",
       "                                        Tokenized Tweets  \\\n",
       "74662  [nvidia, therefore, doesn, want, to, give, up,...   \n",
       "74663  [is, doesn, should, give, up, its, password, c...   \n",
       "74664        [nvidia, really, delayed, the, 3070, weeks]   \n",
       "74665    [nvidia, really, delayed, the, 3070, by, weeks]   \n",
       "74666              [nvidia, did, delay, by, 3070, weeks]   \n",
       "74667  [nvidia, really, delayed, the, 3070, several, ...   \n",
       "74668  [nvidia, really, only, delayed, the, 3070, fli...   \n",
       "74669        [nvidia, really, delayed, the, next, weeks]   \n",
       "74670  [let, no, elim, go, unnoticed, nvidia, highlig...   \n",
       "74671  [let, elim, go, unnoticed, nvidia, highlights,...   \n",
       "74672  [let, no, elite, go, unnoticed, nvidia, highli...   \n",
       "74673  [let, no, elim, go, unnoticed, nvidia, highlig...   \n",
       "74674  [let, no, information, elim, that, go, unnotic...   \n",
       "74675  [unk, my, elim, be, no, nvidia, highlights, pi...   \n",
       "74676  [just, realized, the, windows, partition, of, ...   \n",
       "74677  [just, realized, that, the, windows, partition...   \n",
       "74678  [just, realized, that, my, mac, window, partit...   \n",
       "74679  [just, realized, the, windows, partition, of, ...   \n",
       "74680  [just, realized, between, the, windows, partit...   \n",
       "74681  [just, like, the, windows, partition, of, my, ...   \n",
       "\n",
       "                                                 No STWD  \n",
       "74662  [nvidia, therefore, want, give, 2017, crypto, ...  \n",
       "74663  [give, password, crypto, wallet, docs, maxbit,...  \n",
       "74664             [nvidia, really, delayed, 3070, weeks]  \n",
       "74665             [nvidia, really, delayed, 3070, weeks]  \n",
       "74666                       [nvidia, delay, 3070, weeks]  \n",
       "74667    [nvidia, really, delayed, 3070, several, weeks]  \n",
       "74668     [nvidia, really, delayed, 3070, flight, weeks]  \n",
       "74669             [nvidia, really, delayed, next, weeks]  \n",
       "74670  [let, elim, go, unnoticed, nvidia, highlights,...  \n",
       "74671  [let, elim, go, unnoticed, nvidia, highlights,...  \n",
       "74672  [let, elite, go, unnoticed, nvidia, highlights...  \n",
       "74673  [let, elim, go, unnoticed, nvidia, highlights,...  \n",
       "74674  [let, information, elim, go, unnoticed, nvidia...  \n",
       "74675  [unk, elim, nvidia, highlights, pictures, reve...  \n",
       "74676  [realized, windows, partition, mac, like, year...  \n",
       "74677  [realized, windows, partition, mac, like, year...  \n",
       "74678  [realized, mac, window, partition, years, behi...  \n",
       "74679  [realized, windows, partition, mac, years, beh...  \n",
       "74680  [realized, windows, partition, mac, like, year...  \n",
       "74681  [like, windows, partition, mac, like, years, b...  "
      ]
     },
     "execution_count": 40,
     "metadata": {},
     "output_type": "execute_result"
    }
   ],
   "source": [
    "twitter_training.tail(20)"
   ]
  },
  {
   "cell_type": "markdown",
   "id": "6c43b893",
   "metadata": {},
   "source": [
    "Now stopwords have been removed "
   ]
  },
  {
   "cell_type": "markdown",
   "id": "0316aa23",
   "metadata": {},
   "source": [
    "## Frequency Distributions"
   ]
  },
  {
   "cell_type": "code",
   "execution_count": 41,
   "id": "3d4baf25",
   "metadata": {},
   "outputs": [],
   "source": [
    "from nltk import FreqDist"
   ]
  },
  {
   "cell_type": "code",
   "execution_count": 42,
   "id": "a6874c41",
   "metadata": {},
   "outputs": [],
   "source": [
    "FRQ= twitter_training[\"No STWD\"].apply(FreqDist) #apply across column NO STWD"
   ]
  },
  {
   "cell_type": "code",
   "execution_count": 43,
   "id": "c0fde985",
   "metadata": {},
   "outputs": [
    {
     "data": {
      "text/plain": [
       "FreqDist({'atleast': 1, 'borderlands': 1, 'come': 1, 'cheer': 1})"
      ]
     },
     "execution_count": 43,
     "metadata": {},
     "output_type": "execute_result"
    }
   ],
   "source": [
    "FRQ.iloc[900] #Test to see the 900th entry"
   ]
  },
  {
   "cell_type": "code",
   "execution_count": 44,
   "id": "fb74db7e",
   "metadata": {},
   "outputs": [
    {
     "data": {
      "text/plain": [
       "[('gearboxofficial', 1)]"
      ]
     },
     "execution_count": 44,
     "metadata": {},
     "output_type": "execute_result"
    }
   ],
   "source": [
    "FRQ[912].most_common(1)"
   ]
  },
  {
   "cell_type": "code",
   "execution_count": 45,
   "id": "16091061",
   "metadata": {},
   "outputs": [
    {
     "data": {
      "text/plain": [
       "0                 im\n",
       "0            getting\n",
       "0        borderlands\n",
       "0             murder\n",
       "1             coming\n",
       "            ...     \n",
       "74681          years\n",
       "74681         behind\n",
       "74681        drivers\n",
       "74681           idea\n",
       "74681         notice\n",
       "Name: No STWD, Length: 818580, dtype: object"
      ]
     },
     "execution_count": 45,
     "metadata": {},
     "output_type": "execute_result"
    }
   ],
   "source": [
    "twitter_training[\"No STWD\"].explode()  #each element now has its own row, we can now find out which words occurs the most"
   ]
  },
  {
   "cell_type": "code",
   "execution_count": 46,
   "id": "8d13f5f0",
   "metadata": {},
   "outputs": [],
   "source": [
    "element_list=twitter_training[\"No STWD\"].explode() \n",
    "Frq_dist=FreqDist(element_list)"
   ]
  },
  {
   "cell_type": "code",
   "execution_count": 47,
   "id": "df4851b6",
   "metadata": {},
   "outputs": [
    {
     "data": {
      "text/plain": [
       "FreqDist({'game': 8253, 'like': 4928, 'pic': 4253, 'twitter': 4225, 'get': 3951, 'one': 3643, 'good': 3572, 'play': 3467, 'new': 3281, 'love': 3278, ...})"
      ]
     },
     "execution_count": 47,
     "metadata": {},
     "output_type": "execute_result"
    }
   ],
   "source": [
    "Frq_dist #previously, there was 'com' with the highest distribution, this was added to the stopwords list and removed"
   ]
  },
  {
   "cell_type": "code",
   "execution_count": 48,
   "id": "ed384622",
   "metadata": {},
   "outputs": [
    {
     "data": {
      "text/plain": [
       "[('game', 8253),\n",
       " ('like', 4928),\n",
       " ('pic', 4253),\n",
       " ('twitter', 4225),\n",
       " ('get', 3951),\n",
       " ('one', 3643),\n",
       " ('good', 3572),\n",
       " ('play', 3467),\n",
       " ('new', 3281),\n",
       " ('love', 3278),\n",
       " ('really', 3269),\n",
       " ('unk', 3108),\n",
       " ('johnson', 3044),\n",
       " ('time', 3010),\n",
       " ('people', 2931),\n",
       " ('see', 2785),\n",
       " ('shit', 2785),\n",
       " ('co', 2603),\n",
       " ('best', 2574),\n",
       " ('facebook', 2481)]"
      ]
     },
     "execution_count": 48,
     "metadata": {},
     "output_type": "execute_result"
    }
   ],
   "source": [
    "Frq_dist.most_common(20) #here we have the most common words"
   ]
  },
  {
   "cell_type": "markdown",
   "id": "5a7d8030",
   "metadata": {},
   "source": [
    "## Lemmatization"
   ]
  },
  {
   "cell_type": "code",
   "execution_count": 49,
   "id": "e4f08493",
   "metadata": {},
   "outputs": [
    {
     "data": {
      "text/plain": [
       "'gaming'"
      ]
     },
     "execution_count": 49,
     "metadata": {},
     "output_type": "execute_result"
    }
   ],
   "source": [
    "from nltk.stem.wordnet import WordNetLemmatizer\n",
    "lemmatizer = WordNetLemmatizer()\n",
    "\n",
    "lemmatizer.lemmatize('gaming')"
   ]
  },
  {
   "cell_type": "code",
   "execution_count": 50,
   "id": "51c9eb38",
   "metadata": {},
   "outputs": [],
   "source": [
    "def lemmatize_word(word_list):\n",
    "\n",
    "    lemmatized_word= [lemmatizer.lemmatize(word) for word in word_list]\n",
    "    return lemmatized_word"
   ]
  },
  {
   "cell_type": "code",
   "execution_count": 51,
   "id": "11f12a7c",
   "metadata": {},
   "outputs": [],
   "source": [
    "twitter_training[\"Lemma\"]= twitter_training[\"No STWD\"].apply(lemmatize_word)"
   ]
  },
  {
   "cell_type": "code",
   "execution_count": 52,
   "id": "db3bfac7",
   "metadata": {},
   "outputs": [
    {
     "data": {
      "text/html": [
       "<div>\n",
       "<style scoped>\n",
       "    .dataframe tbody tr th:only-of-type {\n",
       "        vertical-align: middle;\n",
       "    }\n",
       "\n",
       "    .dataframe tbody tr th {\n",
       "        vertical-align: top;\n",
       "    }\n",
       "\n",
       "    .dataframe thead th {\n",
       "        text-align: right;\n",
       "    }\n",
       "</style>\n",
       "<table border=\"1\" class=\"dataframe\">\n",
       "  <thead>\n",
       "    <tr style=\"text-align: right;\">\n",
       "      <th></th>\n",
       "      <th>Tweet ID</th>\n",
       "      <th>Entity</th>\n",
       "      <th>Sentiment</th>\n",
       "      <th>Tweet Content</th>\n",
       "      <th>Tokenized Tweets</th>\n",
       "      <th>No STWD</th>\n",
       "      <th>Lemma</th>\n",
       "    </tr>\n",
       "  </thead>\n",
       "  <tbody>\n",
       "    <tr>\n",
       "      <th>74662</th>\n",
       "      <td>74663</td>\n",
       "      <td>Nvidia</td>\n",
       "      <td>Neutral</td>\n",
       "      <td>nvidia therefore doesn ’ t want to give up its...</td>\n",
       "      <td>[nvidia, therefore, doesn, want, to, give, up,...</td>\n",
       "      <td>[nvidia, therefore, want, give, 2017, crypto, ...</td>\n",
       "      <td>[nvidia, therefore, want, give, 2017, crypto, ...</td>\n",
       "    </tr>\n",
       "    <tr>\n",
       "      <th>74663</th>\n",
       "      <td>74664</td>\n",
       "      <td>Nvidia</td>\n",
       "      <td>Neutral</td>\n",
       "      <td>is doesn’t should i give up its password ‘cryp...</td>\n",
       "      <td>[is, doesn, should, give, up, its, password, c...</td>\n",
       "      <td>[give, password, crypto, wallet, docs, maxbit,...</td>\n",
       "      <td>[give, password, crypto, wallet, doc, maxbit, ...</td>\n",
       "    </tr>\n",
       "    <tr>\n",
       "      <th>74664</th>\n",
       "      <td>74665</td>\n",
       "      <td>Nvidia</td>\n",
       "      <td>Negative</td>\n",
       "      <td>nvidia really delayed the 3070 2 weeks .</td>\n",
       "      <td>[nvidia, really, delayed, the, 3070, weeks]</td>\n",
       "      <td>[nvidia, really, delayed, 3070, weeks]</td>\n",
       "      <td>[nvidia, really, delayed, 3070, week]</td>\n",
       "    </tr>\n",
       "    <tr>\n",
       "      <th>74665</th>\n",
       "      <td>74666</td>\n",
       "      <td>Nvidia</td>\n",
       "      <td>Negative</td>\n",
       "      <td>nvidia really delayed the 3070 by 2 weeks.</td>\n",
       "      <td>[nvidia, really, delayed, the, 3070, by, weeks]</td>\n",
       "      <td>[nvidia, really, delayed, 3070, weeks]</td>\n",
       "      <td>[nvidia, really, delayed, 3070, week]</td>\n",
       "    </tr>\n",
       "    <tr>\n",
       "      <th>74666</th>\n",
       "      <td>74667</td>\n",
       "      <td>Nvidia</td>\n",
       "      <td>Negative</td>\n",
       "      <td>nvidia did delay by 3070 2 weeks.</td>\n",
       "      <td>[nvidia, did, delay, by, 3070, weeks]</td>\n",
       "      <td>[nvidia, delay, 3070, weeks]</td>\n",
       "      <td>[nvidia, delay, 3070, week]</td>\n",
       "    </tr>\n",
       "    <tr>\n",
       "      <th>74667</th>\n",
       "      <td>74668</td>\n",
       "      <td>Nvidia</td>\n",
       "      <td>Negative</td>\n",
       "      <td>nvidia really delayed the 3070 several weeks.</td>\n",
       "      <td>[nvidia, really, delayed, the, 3070, several, ...</td>\n",
       "      <td>[nvidia, really, delayed, 3070, several, weeks]</td>\n",
       "      <td>[nvidia, really, delayed, 3070, several, week]</td>\n",
       "    </tr>\n",
       "    <tr>\n",
       "      <th>74668</th>\n",
       "      <td>74669</td>\n",
       "      <td>Nvidia</td>\n",
       "      <td>Negative</td>\n",
       "      <td>nvidia really only delayed the 3070 2 flight w...</td>\n",
       "      <td>[nvidia, really, only, delayed, the, 3070, fli...</td>\n",
       "      <td>[nvidia, really, delayed, 3070, flight, weeks]</td>\n",
       "      <td>[nvidia, really, delayed, 3070, flight, week]</td>\n",
       "    </tr>\n",
       "    <tr>\n",
       "      <th>74669</th>\n",
       "      <td>74670</td>\n",
       "      <td>Nvidia</td>\n",
       "      <td>Negative</td>\n",
       "      <td>nvidia really delayed the next 2 weeks.</td>\n",
       "      <td>[nvidia, really, delayed, the, next, weeks]</td>\n",
       "      <td>[nvidia, really, delayed, next, weeks]</td>\n",
       "      <td>[nvidia, really, delayed, next, week]</td>\n",
       "    </tr>\n",
       "    <tr>\n",
       "      <th>74670</th>\n",
       "      <td>74671</td>\n",
       "      <td>Nvidia</td>\n",
       "      <td>Positive</td>\n",
       "      <td>let no elim go unnoticed. . . . nvidia highlig...</td>\n",
       "      <td>[let, no, elim, go, unnoticed, nvidia, highlig...</td>\n",
       "      <td>[let, elim, go, unnoticed, nvidia, highlights,...</td>\n",
       "      <td>[let, elim, go, unnoticed, nvidia, highlight, ...</td>\n",
       "    </tr>\n",
       "    <tr>\n",
       "      <th>74671</th>\n",
       "      <td>74672</td>\n",
       "      <td>Nvidia</td>\n",
       "      <td>Positive</td>\n",
       "      <td>t let elim go unnoticed.... nvidia highlights ...</td>\n",
       "      <td>[let, elim, go, unnoticed, nvidia, highlights,...</td>\n",
       "      <td>[let, elim, go, unnoticed, nvidia, highlights,...</td>\n",
       "      <td>[let, elim, go, unnoticed, nvidia, highlight, ...</td>\n",
       "    </tr>\n",
       "    <tr>\n",
       "      <th>74672</th>\n",
       "      <td>74673</td>\n",
       "      <td>Nvidia</td>\n",
       "      <td>Positive</td>\n",
       "      <td>let no elite go unnoticed... nvidia highlights...</td>\n",
       "      <td>[let, no, elite, go, unnoticed, nvidia, highli...</td>\n",
       "      <td>[let, elite, go, unnoticed, nvidia, highlights...</td>\n",
       "      <td>[let, elite, go, unnoticed, nvidia, highlight,...</td>\n",
       "    </tr>\n",
       "    <tr>\n",
       "      <th>74673</th>\n",
       "      <td>74674</td>\n",
       "      <td>Nvidia</td>\n",
       "      <td>Positive</td>\n",
       "      <td>let no elim go unnoticed.... nvidia highlights...</td>\n",
       "      <td>[let, no, elim, go, unnoticed, nvidia, highlig...</td>\n",
       "      <td>[let, elim, go, unnoticed, nvidia, highlights,...</td>\n",
       "      <td>[let, elim, go, unnoticed, nvidia, highlight, ...</td>\n",
       "    </tr>\n",
       "    <tr>\n",
       "      <th>74674</th>\n",
       "      <td>74675</td>\n",
       "      <td>Nvidia</td>\n",
       "      <td>Positive</td>\n",
       "      <td>let a no information elim that go unnoticed......</td>\n",
       "      <td>[let, no, information, elim, that, go, unnotic...</td>\n",
       "      <td>[let, information, elim, go, unnoticed, nvidia...</td>\n",
       "      <td>[let, information, elim, go, unnoticed, nvidia...</td>\n",
       "    </tr>\n",
       "    <tr>\n",
       "      <th>74675</th>\n",
       "      <td>74676</td>\n",
       "      <td>Nvidia</td>\n",
       "      <td>Positive</td>\n",
       "      <td>&lt;unk&gt; my elim be no.... nvidia highlights pict...</td>\n",
       "      <td>[unk, my, elim, be, no, nvidia, highlights, pi...</td>\n",
       "      <td>[unk, elim, nvidia, highlights, pictures, reve...</td>\n",
       "      <td>[unk, elim, nvidia, highlight, picture, reveal...</td>\n",
       "    </tr>\n",
       "    <tr>\n",
       "      <th>74676</th>\n",
       "      <td>74677</td>\n",
       "      <td>Nvidia</td>\n",
       "      <td>Positive</td>\n",
       "      <td>just realized the windows partition of my mac ...</td>\n",
       "      <td>[just, realized, the, windows, partition, of, ...</td>\n",
       "      <td>[realized, windows, partition, mac, like, year...</td>\n",
       "      <td>[realized, window, partition, mac, like, year,...</td>\n",
       "    </tr>\n",
       "    <tr>\n",
       "      <th>74677</th>\n",
       "      <td>74678</td>\n",
       "      <td>Nvidia</td>\n",
       "      <td>Positive</td>\n",
       "      <td>just realized that the windows partition of my...</td>\n",
       "      <td>[just, realized, that, the, windows, partition...</td>\n",
       "      <td>[realized, windows, partition, mac, like, year...</td>\n",
       "      <td>[realized, window, partition, mac, like, year,...</td>\n",
       "    </tr>\n",
       "    <tr>\n",
       "      <th>74678</th>\n",
       "      <td>74679</td>\n",
       "      <td>Nvidia</td>\n",
       "      <td>Positive</td>\n",
       "      <td>just realized that my mac window partition is ...</td>\n",
       "      <td>[just, realized, that, my, mac, window, partit...</td>\n",
       "      <td>[realized, mac, window, partition, years, behi...</td>\n",
       "      <td>[realized, mac, window, partition, year, behin...</td>\n",
       "    </tr>\n",
       "    <tr>\n",
       "      <th>74679</th>\n",
       "      <td>74680</td>\n",
       "      <td>Nvidia</td>\n",
       "      <td>Positive</td>\n",
       "      <td>just realized the windows partition of my mac ...</td>\n",
       "      <td>[just, realized, the, windows, partition, of, ...</td>\n",
       "      <td>[realized, windows, partition, mac, years, beh...</td>\n",
       "      <td>[realized, window, partition, mac, year, behin...</td>\n",
       "    </tr>\n",
       "    <tr>\n",
       "      <th>74680</th>\n",
       "      <td>74681</td>\n",
       "      <td>Nvidia</td>\n",
       "      <td>Positive</td>\n",
       "      <td>just realized between the windows partition of...</td>\n",
       "      <td>[just, realized, between, the, windows, partit...</td>\n",
       "      <td>[realized, windows, partition, mac, like, year...</td>\n",
       "      <td>[realized, window, partition, mac, like, year,...</td>\n",
       "    </tr>\n",
       "    <tr>\n",
       "      <th>74681</th>\n",
       "      <td>74682</td>\n",
       "      <td>Nvidia</td>\n",
       "      <td>Positive</td>\n",
       "      <td>just like the windows partition of my mac is l...</td>\n",
       "      <td>[just, like, the, windows, partition, of, my, ...</td>\n",
       "      <td>[like, windows, partition, mac, like, years, b...</td>\n",
       "      <td>[like, window, partition, mac, like, year, beh...</td>\n",
       "    </tr>\n",
       "  </tbody>\n",
       "</table>\n",
       "</div>"
      ],
      "text/plain": [
       "       Tweet ID  Entity Sentiment  \\\n",
       "74662     74663  Nvidia   Neutral   \n",
       "74663     74664  Nvidia   Neutral   \n",
       "74664     74665  Nvidia  Negative   \n",
       "74665     74666  Nvidia  Negative   \n",
       "74666     74667  Nvidia  Negative   \n",
       "74667     74668  Nvidia  Negative   \n",
       "74668     74669  Nvidia  Negative   \n",
       "74669     74670  Nvidia  Negative   \n",
       "74670     74671  Nvidia  Positive   \n",
       "74671     74672  Nvidia  Positive   \n",
       "74672     74673  Nvidia  Positive   \n",
       "74673     74674  Nvidia  Positive   \n",
       "74674     74675  Nvidia  Positive   \n",
       "74675     74676  Nvidia  Positive   \n",
       "74676     74677  Nvidia  Positive   \n",
       "74677     74678  Nvidia  Positive   \n",
       "74678     74679  Nvidia  Positive   \n",
       "74679     74680  Nvidia  Positive   \n",
       "74680     74681  Nvidia  Positive   \n",
       "74681     74682  Nvidia  Positive   \n",
       "\n",
       "                                           Tweet Content  \\\n",
       "74662  nvidia therefore doesn ’ t want to give up its...   \n",
       "74663  is doesn’t should i give up its password ‘cryp...   \n",
       "74664          nvidia really delayed the 3070 2 weeks .    \n",
       "74665         nvidia really delayed the 3070 by 2 weeks.   \n",
       "74666                  nvidia did delay by 3070 2 weeks.   \n",
       "74667      nvidia really delayed the 3070 several weeks.   \n",
       "74668  nvidia really only delayed the 3070 2 flight w...   \n",
       "74669            nvidia really delayed the next 2 weeks.   \n",
       "74670  let no elim go unnoticed. . . . nvidia highlig...   \n",
       "74671  t let elim go unnoticed.... nvidia highlights ...   \n",
       "74672  let no elite go unnoticed... nvidia highlights...   \n",
       "74673  let no elim go unnoticed.... nvidia highlights...   \n",
       "74674  let a no information elim that go unnoticed......   \n",
       "74675  <unk> my elim be no.... nvidia highlights pict...   \n",
       "74676  just realized the windows partition of my mac ...   \n",
       "74677  just realized that the windows partition of my...   \n",
       "74678  just realized that my mac window partition is ...   \n",
       "74679  just realized the windows partition of my mac ...   \n",
       "74680  just realized between the windows partition of...   \n",
       "74681  just like the windows partition of my mac is l...   \n",
       "\n",
       "                                        Tokenized Tweets  \\\n",
       "74662  [nvidia, therefore, doesn, want, to, give, up,...   \n",
       "74663  [is, doesn, should, give, up, its, password, c...   \n",
       "74664        [nvidia, really, delayed, the, 3070, weeks]   \n",
       "74665    [nvidia, really, delayed, the, 3070, by, weeks]   \n",
       "74666              [nvidia, did, delay, by, 3070, weeks]   \n",
       "74667  [nvidia, really, delayed, the, 3070, several, ...   \n",
       "74668  [nvidia, really, only, delayed, the, 3070, fli...   \n",
       "74669        [nvidia, really, delayed, the, next, weeks]   \n",
       "74670  [let, no, elim, go, unnoticed, nvidia, highlig...   \n",
       "74671  [let, elim, go, unnoticed, nvidia, highlights,...   \n",
       "74672  [let, no, elite, go, unnoticed, nvidia, highli...   \n",
       "74673  [let, no, elim, go, unnoticed, nvidia, highlig...   \n",
       "74674  [let, no, information, elim, that, go, unnotic...   \n",
       "74675  [unk, my, elim, be, no, nvidia, highlights, pi...   \n",
       "74676  [just, realized, the, windows, partition, of, ...   \n",
       "74677  [just, realized, that, the, windows, partition...   \n",
       "74678  [just, realized, that, my, mac, window, partit...   \n",
       "74679  [just, realized, the, windows, partition, of, ...   \n",
       "74680  [just, realized, between, the, windows, partit...   \n",
       "74681  [just, like, the, windows, partition, of, my, ...   \n",
       "\n",
       "                                                 No STWD  \\\n",
       "74662  [nvidia, therefore, want, give, 2017, crypto, ...   \n",
       "74663  [give, password, crypto, wallet, docs, maxbit,...   \n",
       "74664             [nvidia, really, delayed, 3070, weeks]   \n",
       "74665             [nvidia, really, delayed, 3070, weeks]   \n",
       "74666                       [nvidia, delay, 3070, weeks]   \n",
       "74667    [nvidia, really, delayed, 3070, several, weeks]   \n",
       "74668     [nvidia, really, delayed, 3070, flight, weeks]   \n",
       "74669             [nvidia, really, delayed, next, weeks]   \n",
       "74670  [let, elim, go, unnoticed, nvidia, highlights,...   \n",
       "74671  [let, elim, go, unnoticed, nvidia, highlights,...   \n",
       "74672  [let, elite, go, unnoticed, nvidia, highlights...   \n",
       "74673  [let, elim, go, unnoticed, nvidia, highlights,...   \n",
       "74674  [let, information, elim, go, unnoticed, nvidia...   \n",
       "74675  [unk, elim, nvidia, highlights, pictures, reve...   \n",
       "74676  [realized, windows, partition, mac, like, year...   \n",
       "74677  [realized, windows, partition, mac, like, year...   \n",
       "74678  [realized, mac, window, partition, years, behi...   \n",
       "74679  [realized, windows, partition, mac, years, beh...   \n",
       "74680  [realized, windows, partition, mac, like, year...   \n",
       "74681  [like, windows, partition, mac, like, years, b...   \n",
       "\n",
       "                                                   Lemma  \n",
       "74662  [nvidia, therefore, want, give, 2017, crypto, ...  \n",
       "74663  [give, password, crypto, wallet, doc, maxbit, ...  \n",
       "74664              [nvidia, really, delayed, 3070, week]  \n",
       "74665              [nvidia, really, delayed, 3070, week]  \n",
       "74666                        [nvidia, delay, 3070, week]  \n",
       "74667     [nvidia, really, delayed, 3070, several, week]  \n",
       "74668      [nvidia, really, delayed, 3070, flight, week]  \n",
       "74669              [nvidia, really, delayed, next, week]  \n",
       "74670  [let, elim, go, unnoticed, nvidia, highlight, ...  \n",
       "74671  [let, elim, go, unnoticed, nvidia, highlight, ...  \n",
       "74672  [let, elite, go, unnoticed, nvidia, highlight,...  \n",
       "74673  [let, elim, go, unnoticed, nvidia, highlight, ...  \n",
       "74674  [let, information, elim, go, unnoticed, nvidia...  \n",
       "74675  [unk, elim, nvidia, highlight, picture, reveal...  \n",
       "74676  [realized, window, partition, mac, like, year,...  \n",
       "74677  [realized, window, partition, mac, like, year,...  \n",
       "74678  [realized, mac, window, partition, year, behin...  \n",
       "74679  [realized, window, partition, mac, year, behin...  \n",
       "74680  [realized, window, partition, mac, like, year,...  \n",
       "74681  [like, window, partition, mac, like, year, beh...  "
      ]
     },
     "execution_count": 52,
     "metadata": {},
     "output_type": "execute_result"
    }
   ],
   "source": [
    "twitter_training.tail(20)"
   ]
  },
  {
   "cell_type": "markdown",
   "id": "41258f45",
   "metadata": {},
   "source": [
    "## TF-IDF"
   ]
  },
  {
   "cell_type": "code",
   "execution_count": 53,
   "id": "a536f9d5",
   "metadata": {},
   "outputs": [],
   "source": [
    "from sklearn.feature_extraction.text import TfidfVectorizer"
   ]
  },
  {
   "cell_type": "code",
   "execution_count": 54,
   "id": "98300cfb",
   "metadata": {},
   "outputs": [],
   "source": [
    "tfidf = TfidfVectorizer(max_features=20)"
   ]
  },
  {
   "cell_type": "code",
   "execution_count": 55,
   "id": "69b949ae",
   "metadata": {},
   "outputs": [],
   "source": [
    "from nltk.tokenize.treebank import TreebankWordDetokenizer"
   ]
  },
  {
   "cell_type": "code",
   "execution_count": 56,
   "id": "b0c85c5b",
   "metadata": {},
   "outputs": [],
   "source": [
    "twitter_training[\"Reverse\"]=twitter_training[\"Lemma\"].apply(TreebankWordDetokenizer().detokenize)"
   ]
  },
  {
   "cell_type": "code",
   "execution_count": 57,
   "id": "fc37b247",
   "metadata": {},
   "outputs": [],
   "source": [
    "twitter_training_vectorized=tfidf.fit_transform(twitter_training[\"Reverse\"])"
   ]
  },
  {
   "cell_type": "code",
   "execution_count": 58,
   "id": "7c7522e4",
   "metadata": {
    "scrolled": true
   },
   "outputs": [
    {
     "data": {
      "text/html": [
       "<div>\n",
       "<style scoped>\n",
       "    .dataframe tbody tr th:only-of-type {\n",
       "        vertical-align: middle;\n",
       "    }\n",
       "\n",
       "    .dataframe tbody tr th {\n",
       "        vertical-align: top;\n",
       "    }\n",
       "\n",
       "    .dataframe thead th {\n",
       "        text-align: right;\n",
       "    }\n",
       "</style>\n",
       "<table border=\"1\" class=\"dataframe\">\n",
       "  <thead>\n",
       "    <tr style=\"text-align: right;\">\n",
       "      <th></th>\n",
       "      <th>best</th>\n",
       "      <th>co</th>\n",
       "      <th>game</th>\n",
       "      <th>get</th>\n",
       "      <th>good</th>\n",
       "      <th>johnson</th>\n",
       "      <th>like</th>\n",
       "      <th>love</th>\n",
       "      <th>new</th>\n",
       "      <th>one</th>\n",
       "      <th>people</th>\n",
       "      <th>pic</th>\n",
       "      <th>play</th>\n",
       "      <th>player</th>\n",
       "      <th>really</th>\n",
       "      <th>see</th>\n",
       "      <th>shit</th>\n",
       "      <th>time</th>\n",
       "      <th>twitter</th>\n",
       "      <th>unk</th>\n",
       "    </tr>\n",
       "  </thead>\n",
       "  <tbody>\n",
       "    <tr>\n",
       "      <th>0</th>\n",
       "      <td>0.0</td>\n",
       "      <td>0.0</td>\n",
       "      <td>0.0</td>\n",
       "      <td>0.0</td>\n",
       "      <td>0.0</td>\n",
       "      <td>0.0</td>\n",
       "      <td>0.0</td>\n",
       "      <td>0.0</td>\n",
       "      <td>0.0</td>\n",
       "      <td>0.0</td>\n",
       "      <td>0.0</td>\n",
       "      <td>0.0</td>\n",
       "      <td>0.0</td>\n",
       "      <td>0.0</td>\n",
       "      <td>0.0</td>\n",
       "      <td>0.0</td>\n",
       "      <td>0.0</td>\n",
       "      <td>0.0</td>\n",
       "      <td>0.0</td>\n",
       "      <td>0.0</td>\n",
       "    </tr>\n",
       "    <tr>\n",
       "      <th>1</th>\n",
       "      <td>0.0</td>\n",
       "      <td>0.0</td>\n",
       "      <td>0.0</td>\n",
       "      <td>0.0</td>\n",
       "      <td>0.0</td>\n",
       "      <td>0.0</td>\n",
       "      <td>0.0</td>\n",
       "      <td>0.0</td>\n",
       "      <td>0.0</td>\n",
       "      <td>0.0</td>\n",
       "      <td>0.0</td>\n",
       "      <td>0.0</td>\n",
       "      <td>0.0</td>\n",
       "      <td>0.0</td>\n",
       "      <td>0.0</td>\n",
       "      <td>0.0</td>\n",
       "      <td>0.0</td>\n",
       "      <td>0.0</td>\n",
       "      <td>0.0</td>\n",
       "      <td>0.0</td>\n",
       "    </tr>\n",
       "    <tr>\n",
       "      <th>2</th>\n",
       "      <td>0.0</td>\n",
       "      <td>0.0</td>\n",
       "      <td>0.0</td>\n",
       "      <td>0.0</td>\n",
       "      <td>0.0</td>\n",
       "      <td>0.0</td>\n",
       "      <td>0.0</td>\n",
       "      <td>0.0</td>\n",
       "      <td>0.0</td>\n",
       "      <td>0.0</td>\n",
       "      <td>0.0</td>\n",
       "      <td>0.0</td>\n",
       "      <td>0.0</td>\n",
       "      <td>0.0</td>\n",
       "      <td>0.0</td>\n",
       "      <td>0.0</td>\n",
       "      <td>0.0</td>\n",
       "      <td>0.0</td>\n",
       "      <td>0.0</td>\n",
       "      <td>0.0</td>\n",
       "    </tr>\n",
       "    <tr>\n",
       "      <th>3</th>\n",
       "      <td>0.0</td>\n",
       "      <td>0.0</td>\n",
       "      <td>0.0</td>\n",
       "      <td>0.0</td>\n",
       "      <td>0.0</td>\n",
       "      <td>0.0</td>\n",
       "      <td>0.0</td>\n",
       "      <td>0.0</td>\n",
       "      <td>0.0</td>\n",
       "      <td>0.0</td>\n",
       "      <td>0.0</td>\n",
       "      <td>0.0</td>\n",
       "      <td>0.0</td>\n",
       "      <td>0.0</td>\n",
       "      <td>0.0</td>\n",
       "      <td>0.0</td>\n",
       "      <td>0.0</td>\n",
       "      <td>0.0</td>\n",
       "      <td>0.0</td>\n",
       "      <td>0.0</td>\n",
       "    </tr>\n",
       "    <tr>\n",
       "      <th>4</th>\n",
       "      <td>0.0</td>\n",
       "      <td>0.0</td>\n",
       "      <td>0.0</td>\n",
       "      <td>0.0</td>\n",
       "      <td>0.0</td>\n",
       "      <td>0.0</td>\n",
       "      <td>0.0</td>\n",
       "      <td>0.0</td>\n",
       "      <td>0.0</td>\n",
       "      <td>0.0</td>\n",
       "      <td>0.0</td>\n",
       "      <td>0.0</td>\n",
       "      <td>0.0</td>\n",
       "      <td>0.0</td>\n",
       "      <td>0.0</td>\n",
       "      <td>0.0</td>\n",
       "      <td>0.0</td>\n",
       "      <td>0.0</td>\n",
       "      <td>0.0</td>\n",
       "      <td>0.0</td>\n",
       "    </tr>\n",
       "    <tr>\n",
       "      <th>...</th>\n",
       "      <td>...</td>\n",
       "      <td>...</td>\n",
       "      <td>...</td>\n",
       "      <td>...</td>\n",
       "      <td>...</td>\n",
       "      <td>...</td>\n",
       "      <td>...</td>\n",
       "      <td>...</td>\n",
       "      <td>...</td>\n",
       "      <td>...</td>\n",
       "      <td>...</td>\n",
       "      <td>...</td>\n",
       "      <td>...</td>\n",
       "      <td>...</td>\n",
       "      <td>...</td>\n",
       "      <td>...</td>\n",
       "      <td>...</td>\n",
       "      <td>...</td>\n",
       "      <td>...</td>\n",
       "      <td>...</td>\n",
       "    </tr>\n",
       "    <tr>\n",
       "      <th>73991</th>\n",
       "      <td>0.0</td>\n",
       "      <td>0.0</td>\n",
       "      <td>0.0</td>\n",
       "      <td>0.0</td>\n",
       "      <td>0.0</td>\n",
       "      <td>0.0</td>\n",
       "      <td>1.0</td>\n",
       "      <td>0.0</td>\n",
       "      <td>0.0</td>\n",
       "      <td>0.0</td>\n",
       "      <td>0.0</td>\n",
       "      <td>0.0</td>\n",
       "      <td>0.0</td>\n",
       "      <td>0.0</td>\n",
       "      <td>0.0</td>\n",
       "      <td>0.0</td>\n",
       "      <td>0.0</td>\n",
       "      <td>0.0</td>\n",
       "      <td>0.0</td>\n",
       "      <td>0.0</td>\n",
       "    </tr>\n",
       "    <tr>\n",
       "      <th>73992</th>\n",
       "      <td>0.0</td>\n",
       "      <td>0.0</td>\n",
       "      <td>0.0</td>\n",
       "      <td>0.0</td>\n",
       "      <td>0.0</td>\n",
       "      <td>0.0</td>\n",
       "      <td>0.0</td>\n",
       "      <td>0.0</td>\n",
       "      <td>0.0</td>\n",
       "      <td>0.0</td>\n",
       "      <td>0.0</td>\n",
       "      <td>0.0</td>\n",
       "      <td>0.0</td>\n",
       "      <td>0.0</td>\n",
       "      <td>0.0</td>\n",
       "      <td>0.0</td>\n",
       "      <td>0.0</td>\n",
       "      <td>0.0</td>\n",
       "      <td>0.0</td>\n",
       "      <td>0.0</td>\n",
       "    </tr>\n",
       "    <tr>\n",
       "      <th>73993</th>\n",
       "      <td>0.0</td>\n",
       "      <td>0.0</td>\n",
       "      <td>0.0</td>\n",
       "      <td>0.0</td>\n",
       "      <td>0.0</td>\n",
       "      <td>0.0</td>\n",
       "      <td>0.0</td>\n",
       "      <td>0.0</td>\n",
       "      <td>0.0</td>\n",
       "      <td>0.0</td>\n",
       "      <td>0.0</td>\n",
       "      <td>0.0</td>\n",
       "      <td>0.0</td>\n",
       "      <td>0.0</td>\n",
       "      <td>0.0</td>\n",
       "      <td>0.0</td>\n",
       "      <td>0.0</td>\n",
       "      <td>0.0</td>\n",
       "      <td>0.0</td>\n",
       "      <td>0.0</td>\n",
       "    </tr>\n",
       "    <tr>\n",
       "      <th>73994</th>\n",
       "      <td>0.0</td>\n",
       "      <td>0.0</td>\n",
       "      <td>0.0</td>\n",
       "      <td>0.0</td>\n",
       "      <td>0.0</td>\n",
       "      <td>0.0</td>\n",
       "      <td>1.0</td>\n",
       "      <td>0.0</td>\n",
       "      <td>0.0</td>\n",
       "      <td>0.0</td>\n",
       "      <td>0.0</td>\n",
       "      <td>0.0</td>\n",
       "      <td>0.0</td>\n",
       "      <td>0.0</td>\n",
       "      <td>0.0</td>\n",
       "      <td>0.0</td>\n",
       "      <td>0.0</td>\n",
       "      <td>0.0</td>\n",
       "      <td>0.0</td>\n",
       "      <td>0.0</td>\n",
       "    </tr>\n",
       "    <tr>\n",
       "      <th>73995</th>\n",
       "      <td>0.0</td>\n",
       "      <td>0.0</td>\n",
       "      <td>0.0</td>\n",
       "      <td>0.0</td>\n",
       "      <td>0.0</td>\n",
       "      <td>0.0</td>\n",
       "      <td>1.0</td>\n",
       "      <td>0.0</td>\n",
       "      <td>0.0</td>\n",
       "      <td>0.0</td>\n",
       "      <td>0.0</td>\n",
       "      <td>0.0</td>\n",
       "      <td>0.0</td>\n",
       "      <td>0.0</td>\n",
       "      <td>0.0</td>\n",
       "      <td>0.0</td>\n",
       "      <td>0.0</td>\n",
       "      <td>0.0</td>\n",
       "      <td>0.0</td>\n",
       "      <td>0.0</td>\n",
       "    </tr>\n",
       "  </tbody>\n",
       "</table>\n",
       "<p>73996 rows × 20 columns</p>\n",
       "</div>"
      ],
      "text/plain": [
       "       best   co  game  get  good  johnson  like  love  new  one  people  pic  \\\n",
       "0       0.0  0.0   0.0  0.0   0.0      0.0   0.0   0.0  0.0  0.0     0.0  0.0   \n",
       "1       0.0  0.0   0.0  0.0   0.0      0.0   0.0   0.0  0.0  0.0     0.0  0.0   \n",
       "2       0.0  0.0   0.0  0.0   0.0      0.0   0.0   0.0  0.0  0.0     0.0  0.0   \n",
       "3       0.0  0.0   0.0  0.0   0.0      0.0   0.0   0.0  0.0  0.0     0.0  0.0   \n",
       "4       0.0  0.0   0.0  0.0   0.0      0.0   0.0   0.0  0.0  0.0     0.0  0.0   \n",
       "...     ...  ...   ...  ...   ...      ...   ...   ...  ...  ...     ...  ...   \n",
       "73991   0.0  0.0   0.0  0.0   0.0      0.0   1.0   0.0  0.0  0.0     0.0  0.0   \n",
       "73992   0.0  0.0   0.0  0.0   0.0      0.0   0.0   0.0  0.0  0.0     0.0  0.0   \n",
       "73993   0.0  0.0   0.0  0.0   0.0      0.0   0.0   0.0  0.0  0.0     0.0  0.0   \n",
       "73994   0.0  0.0   0.0  0.0   0.0      0.0   1.0   0.0  0.0  0.0     0.0  0.0   \n",
       "73995   0.0  0.0   0.0  0.0   0.0      0.0   1.0   0.0  0.0  0.0     0.0  0.0   \n",
       "\n",
       "       play  player  really  see  shit  time  twitter  unk  \n",
       "0       0.0     0.0     0.0  0.0   0.0   0.0      0.0  0.0  \n",
       "1       0.0     0.0     0.0  0.0   0.0   0.0      0.0  0.0  \n",
       "2       0.0     0.0     0.0  0.0   0.0   0.0      0.0  0.0  \n",
       "3       0.0     0.0     0.0  0.0   0.0   0.0      0.0  0.0  \n",
       "4       0.0     0.0     0.0  0.0   0.0   0.0      0.0  0.0  \n",
       "...     ...     ...     ...  ...   ...   ...      ...  ...  \n",
       "73991   0.0     0.0     0.0  0.0   0.0   0.0      0.0  0.0  \n",
       "73992   0.0     0.0     0.0  0.0   0.0   0.0      0.0  0.0  \n",
       "73993   0.0     0.0     0.0  0.0   0.0   0.0      0.0  0.0  \n",
       "73994   0.0     0.0     0.0  0.0   0.0   0.0      0.0  0.0  \n",
       "73995   0.0     0.0     0.0  0.0   0.0   0.0      0.0  0.0  \n",
       "\n",
       "[73996 rows x 20 columns]"
      ]
     },
     "execution_count": 58,
     "metadata": {},
     "output_type": "execute_result"
    }
   ],
   "source": [
    "pd.DataFrame.sparse.from_spmatrix(twitter_training_vectorized, columns=tfidf.get_feature_names_out())"
   ]
  },
  {
   "cell_type": "markdown",
   "id": "16c34f7c",
   "metadata": {},
   "source": [
    "## Train Test Split"
   ]
  },
  {
   "cell_type": "code",
   "execution_count": 59,
   "id": "135f2301",
   "metadata": {},
   "outputs": [
    {
     "data": {
      "text/plain": [
       "'Irrelevant'"
      ]
     },
     "execution_count": 59,
     "metadata": {},
     "output_type": "execute_result"
    }
   ],
   "source": [
    "twitter_training['Sentiment'].iloc[49647]"
   ]
  },
  {
   "cell_type": "code",
   "execution_count": 60,
   "id": "6be25078",
   "metadata": {},
   "outputs": [],
   "source": [
    "from sklearn.model_selection import train_test_split\n",
    "X_train ,X_test , y_train, y_test = train_test_split(twitter_training[['Reverse']], twitter_training[['Sentiment']], test_size=0.2, random_state=42)"
   ]
  },
  {
   "cell_type": "code",
   "execution_count": 61,
   "id": "f5cfb36c",
   "metadata": {},
   "outputs": [],
   "source": [
    "from sklearn.feature_extraction.text import TfidfVectorizer\n",
    "\n",
    "vectorizer= TfidfVectorizer()\n",
    "X_train_vect= vectorizer.fit_transform(X_train['Reverse'])\n",
    "X_test_vect= vectorizer.transform(X_test['Reverse'])\n",
    "\n",
    "y_train=y_train['Sentiment'].map({\"Positive\":0,\"Negative\":1,\"Neutral\":2, \"Irrelevant\":2})\n",
    "y_test=y_test['Sentiment'].map({\"Positive\":0,\"Negative\":1,\"Neutral\":2, \"Irrelevant\":2})"
   ]
  },
  {
   "cell_type": "markdown",
   "id": "8798dd05",
   "metadata": {},
   "source": [
    "Clean up Validation data following same steps"
   ]
  },
  {
   "cell_type": "code",
   "execution_count": 62,
   "id": "f9941814",
   "metadata": {},
   "outputs": [],
   "source": [
    "twitter_validation.dropna(inplace=True)\n",
    "twitter_validation.drop_duplicates(inplace=True)"
   ]
  },
  {
   "cell_type": "code",
   "execution_count": 63,
   "id": "ff6f8f25",
   "metadata": {},
   "outputs": [
    {
     "data": {
      "text/plain": [
       "0        im getting on borderlands and i will murder yo...\n",
       "1        I am coming to the borders and I will kill you...\n",
       "2        im getting on borderlands and i will kill you ...\n",
       "3        im coming on borderlands and i will murder you...\n",
       "4        im getting on borderlands 2 and i will murder ...\n",
       "                               ...                        \n",
       "74677    Just realized that the Windows partition of my...\n",
       "74678    Just realized that my Mac window partition is ...\n",
       "74679    Just realized the windows partition of my Mac ...\n",
       "74680    Just realized between the windows partition of...\n",
       "74681    Just like the windows partition of my Mac is l...\n",
       "Name: Tweet Content, Length: 71656, dtype: string"
      ]
     },
     "execution_count": 63,
     "metadata": {},
     "output_type": "execute_result"
    }
   ],
   "source": [
    "twitter_validation[\"Tweet Content\"].astype('string')"
   ]
  },
  {
   "cell_type": "code",
   "execution_count": 64,
   "id": "9bd513c5",
   "metadata": {},
   "outputs": [],
   "source": [
    "twitter_validation[\"Tweet Content\"]=twitter_validation[\"Tweet Content\"].str.lower()"
   ]
  },
  {
   "cell_type": "code",
   "execution_count": 65,
   "id": "8f447dc8",
   "metadata": {},
   "outputs": [],
   "source": [
    "twitter_validation[\"Tokenized Tweets\"]= twitter_validation[\"Tweet Content\"].apply(tokenizer.tokenize)"
   ]
  },
  {
   "cell_type": "code",
   "execution_count": 66,
   "id": "1e4eec65",
   "metadata": {},
   "outputs": [],
   "source": [
    "twitter_validation[\"No STWD\"]= twitter_validation[\"Tokenized Tweets\"].apply(remove_stopwords)"
   ]
  },
  {
   "cell_type": "code",
   "execution_count": 67,
   "id": "4c205cc8",
   "metadata": {},
   "outputs": [],
   "source": [
    "twitter_validation[\"Lemma\"]= twitter_validation[\"No STWD\"].apply(lemmatize_word)"
   ]
  },
  {
   "cell_type": "code",
   "execution_count": 68,
   "id": "1ec1b9af",
   "metadata": {},
   "outputs": [],
   "source": [
    "twitter_validation[\"Reverse\"]=twitter_validation[\"Lemma\"].apply(TreebankWordDetokenizer().detokenize)"
   ]
  },
  {
   "cell_type": "code",
   "execution_count": 69,
   "id": "2405e41f",
   "metadata": {},
   "outputs": [],
   "source": [
    "validation_X = vectorizer.transform(twitter_validation['Reverse'])\n",
    "validation_y = twitter_validation['Sentiment'].map({\"Positive\":0,\"Negative\":1,\"Neutral\":2})"
   ]
  },
  {
   "cell_type": "code",
   "execution_count": 70,
   "id": "df5887cf",
   "metadata": {},
   "outputs": [
    {
     "data": {
      "text/plain": [
       "49647    2\n",
       "43676    0\n",
       "55915    1\n",
       "14927    0\n",
       "44039    2\n",
       "        ..\n",
       "37541    1\n",
       "6332     2\n",
       "55392    1\n",
       "864      0\n",
       "15956    2\n",
       "Name: Sentiment, Length: 59196, dtype: int64"
      ]
     },
     "execution_count": 70,
     "metadata": {},
     "output_type": "execute_result"
    }
   ],
   "source": [
    "y_train"
   ]
  },
  {
   "cell_type": "markdown",
   "id": "9705da8b",
   "metadata": {},
   "source": [
    "## Logistic Regression Results"
   ]
  },
  {
   "cell_type": "code",
   "execution_count": 77,
   "id": "cb1d8b62",
   "metadata": {},
   "outputs": [],
   "source": [
    "cnf3=   [[0.75, 0.07 , 0.185],\n",
    " [ 0.055, 0.79 ,0.155],\n",
    " [ 0.08, 0.079 ,0.84]]\n",
    "#Overall Results accuracy is 80%"
   ]
  },
  {
   "cell_type": "code",
   "execution_count": 80,
   "id": "b010e7fa",
   "metadata": {
    "scrolled": true
   },
   "outputs": [
    {
     "data": {
      "text/plain": [
       "[Text(0.5, 1.0, 'Logistic Regression Results')]"
      ]
     },
     "execution_count": 80,
     "metadata": {},
     "output_type": "execute_result"
    },
    {
     "data": {
      "image/png": "[encoded data removed]",
      "text/plain": [
       "<Figure size 640x480 with 2 Axes>"
      ]
     },
     "metadata": {},
     "output_type": "display_data"
    }
   ],
   "source": [
    "import seaborn as sns\n",
    "import numpy as np\n",
    "a= sns.heatmap(cnf3, annot=True, \n",
    "            fmt='0.2%', cmap='Oranges')\n",
    "a.set_xlabel('Predicted Label', fontsize=10) \n",
    "a.set_ylabel('True Label', fontsize=10) \n",
    "a.set(title='Logistic Regression Results')\n"
   ]
  },
  {
   "cell_type": "code",
   "execution_count": 75,
   "id": "99b22d09",
   "metadata": {},
   "outputs": [],
   "source": [
    "cnf4=   [[0.738, 0.097 , 0.165],\n",
    " [ 0.09, 0.75 ,0.155],\n",
    " [ 0.138, 0.101 ,0.76]]"
   ]
  },
  {
   "cell_type": "code",
   "execution_count": 76,
   "id": "ba92ca4a",
   "metadata": {},
   "outputs": [
    {
     "data": {
      "text/plain": [
       "[Text(0.5, 1.0, 'Decision Tree Results')]"
      ]
     },
     "execution_count": 76,
     "metadata": {},
     "output_type": "execute_result"
    },
    {
     "data": {
      "image/png": "[encoded data removed]",
      "text/plain": [
       "<Figure size 640x480 with 2 Axes>"
      ]
     },
     "metadata": {},
     "output_type": "display_data"
    }
   ],
   "source": [
    "b= sns.heatmap(cnf4, annot=True, \n",
    "            fmt='0.2%', cmap='Oranges')\n",
    "b.set_xlabel('Predicted Label', fontsize=10) \n",
    "b.set_ylabel('True Label', fontsize=10) \n",
    "b.set(title='Decision Tree Results')"
   ]
  },
  {
   "cell_type": "code",
   "execution_count": null,
   "id": "c25f636b",
   "metadata": {},
   "outputs": [],
   "source": []
  }
 ],
 "metadata": {
  "kernelspec": {
   "display_name": "Python (learn-env)",
   "language": "python",
   "name": "learn-env"
  },
  "language_info": {
   "codemirror_mode": {
    "name": "ipython",
    "version": 3
   },
   "file_extension": ".py",
   "mimetype": "text/x-python",
   "name": "python",
   "nbconvert_exporter": "python",
   "pygments_lexer": "ipython3",
   "version": "3.9.13"
  }
 },
 "nbformat": 4,
 "nbformat_minor": 5
}
