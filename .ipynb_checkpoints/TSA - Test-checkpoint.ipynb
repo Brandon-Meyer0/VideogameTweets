{
 "cells": [
  {
   "cell_type": "markdown",
   "metadata": {},
   "source": [
    "### Twitter Sentiment Analysis - TEST script"
   ]
  },
  {
   "cell_type": "code",
   "execution_count": null,
   "metadata": {},
   "outputs": [],
   "source": [
    "#Want to have a list of all entities\n",
    "def preprocess(text):\n",
    "    doc = nlp(text)\n",
    "    entity_tokens=[]\n",
    "    for ent in doc.ents:\n",
    "        if ent.label_ in (\"ORG\", \"PRODUCT\", \"WORK_OF_ART\"):\n",
    "            entity_tokens.append(ent.text)\n",
    "    return \" \".join(entity_tokens)\n",
    "entity_tokens = twitter_training['Tweet_content'].apply(lambda x: preprocess(x))\n",
    "print(entity_tokens)\n",
    "#No longer usable"
   ]
  },
  {
   "cell_type": "code",
   "execution_count": null,
   "metadata": {},
   "outputs": [],
   "source": []
  },
  {
   "cell_type": "code",
   "execution_count": null,
   "metadata": {},
   "outputs": [],
   "source": [
    "word=\"Xbox\"\n",
    "print('Xbox(SeriesX)'.replace(\" \", \"\"))\n",
    "for i in EntitiesLowered:\n",
    "    if word.lower() in i:\n",
    "        print(f\"Yes! {i} is containing {word}.\")"
   ]
  },
  {
   "cell_type": "code",
   "execution_count": null,
   "metadata": {},
   "outputs": [],
   "source": [
    "word=\"I love Borderlands\"\n",
    "#word=\"ps5\"\n",
    "for i in Entities:\n",
    "    if re.search(word.replace(\" \", \"\"), i, re.IGNORECASE):\n",
    "        print(f\"Yes! {i} is containing {word}.\")"
   ]
  },
  {
   "cell_type": "code",
   "execution_count": null,
   "metadata": {},
   "outputs": [],
   "source": [
    "example = [\"hi one don't 42 i i\",'hello world','foo bar i']\n",
    "words = [word for sentence in [sen] for word in sentence.split()]\n",
    "print(words)"
   ]
  },
  {
   "cell_type": "code",
   "execution_count": null,
   "metadata": {},
   "outputs": [],
   "source": [
    "keyword_list = ['motorcycle', 'bike', 'cycle', 'dirtbike']\n",
    "all_text = \"what kind of bike do you like?\"\n",
    "for item in keyword_list:\n",
    "      if item in all_text:\n",
    "            print ('found one of em')"
   ]
  },
  {
   "cell_type": "code",
   "execution_count": null,
   "metadata": {},
   "outputs": [],
   "source": [
    "def find_word(text, search):\n",
    "\n",
    "   result = re.findall('\\\\b'+search+'\\\\b', text, flags=re.IGNORECASE)\n",
    "   if len(result)>0:\n",
    "      print(text)\n",
    "   else:\n",
    "      print(False)\n",
    "\n",
    "find_word(\"Red Dead Redemption\", \"red dead redemption\")"
   ]
  },
  {
   "cell_type": "code",
   "execution_count": null,
   "metadata": {},
   "outputs": [],
   "source": [
    "sentence2= 'on Borderlands 1 i will murder you all on Xbox the console of Microsoft, Borderlands 2 is like Read Dead Redemption'\n",
    "def replace_if_not_in_keeplist(match):\n",
    "    word = match.group()\n",
    "    if re.search(word.replace(\" \", \"\"), i, re.IGNORECASE):\n",
    "        return word\n",
    "    return word.lower()\n",
    "\n",
    "s2 = re.sub(r\"\\w+\", replace_if_not_in_keeplist, sentence2)\n",
    "print(s2)"
   ]
  },
  {
   "cell_type": "code",
   "execution_count": null,
   "metadata": {},
   "outputs": [],
   "source": []
  },
  {
   "cell_type": "code",
   "execution_count": null,
   "metadata": {},
   "outputs": [],
   "source": [
    "from collections import Counter\n",
    "stop_words = stopwords.words('english')\n",
    "stopwords_dict = Counter(stop_words)\n",
    "text = ' '.join([word for word in text.split() if word not in stopwords_dict])"
   ]
  },
  {
   "cell_type": "code",
   "execution_count": null,
   "metadata": {},
   "outputs": [],
   "source": []
  },
  {
   "cell_type": "code",
   "execution_count": null,
   "metadata": {},
   "outputs": [],
   "source": []
  },
  {
   "cell_type": "code",
   "execution_count": null,
   "metadata": {},
   "outputs": [],
   "source": []
  },
  {
   "cell_type": "code",
   "execution_count": null,
   "metadata": {},
   "outputs": [],
   "source": []
  },
  {
   "cell_type": "code",
   "execution_count": null,
   "metadata": {},
   "outputs": [],
   "source": []
  }
 ],
 "metadata": {
  "kernelspec": {
   "display_name": "Python 3",
   "language": "python",
   "name": "python3"
  },
  "language_info": {
   "codemirror_mode": {
    "name": "ipython",
    "version": 3
   },
   "file_extension": ".py",
   "mimetype": "text/x-python",
   "name": "python",
   "nbconvert_exporter": "python",
   "pygments_lexer": "ipython3",
   "version": "3.8.5"
  }
 },
 "nbformat": 4,
 "nbformat_minor": 4
}
